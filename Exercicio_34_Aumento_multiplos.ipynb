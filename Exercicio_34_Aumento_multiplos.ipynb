{
  "nbformat": 4,
  "nbformat_minor": 0,
  "metadata": {
    "colab": {
      "name": "Exercicio 34 -Aumento multiplos",
      "provenance": [],
      "authorship_tag": "ABX9TyM24AJs+7IubeMXElWIQLnu",
      "include_colab_link": true
    },
    "kernelspec": {
      "name": "python3",
      "display_name": "Python 3"
    }
  },
  "cells": [
    {
      "cell_type": "markdown",
      "metadata": {
        "id": "view-in-github",
        "colab_type": "text"
      },
      "source": [
        "<a href=\"https://colab.research.google.com/github/samucale/CURSO.PYTHON.PROF.GUSTAVO-GUANABARA/blob/main/Exercicio_34_Aumento_multiplos.ipynb\" target=\"_parent\"><img src=\"https://colab.research.google.com/assets/colab-badge.svg\" alt=\"Open In Colab\"/></a>"
      ]
    },
    {
      "cell_type": "markdown",
      "metadata": {
        "id": "TU-QjYcwb5gU"
      },
      "source": [
        "*ESCREVA UM PROGRAMA QUE PERGUNTE  O SALARIO DE UM FUNCIONARIO E CALCULE O VALOR DO SEU AUMENTO.PARA SALARIOS SUPERIORES A R$1250,00 CALCULE UM AUMENTO DE 10% . PARA OS INFERIORES OU IGUAIS , O AUMENTO E DE 15%*."
      ]
    },
    {
      "cell_type": "code",
      "metadata": {
        "id": "jyISjgCWdDot"
      },
      "source": [
        ""
      ],
      "execution_count": null,
      "outputs": []
    }
  ]
}