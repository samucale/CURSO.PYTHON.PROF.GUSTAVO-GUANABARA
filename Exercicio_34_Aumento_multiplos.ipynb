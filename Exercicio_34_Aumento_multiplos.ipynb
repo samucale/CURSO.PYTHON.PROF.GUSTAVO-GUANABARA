{
  "nbformat": 4,
  "nbformat_minor": 0,
  "metadata": {
    "colab": {
      "name": "Exercicio 34 -Aumento multiplos",
      "provenance": [],
      "authorship_tag": "ABX9TyOH3ZUdak0yIAY289XJgL2p",
      "include_colab_link": true
    },
    "kernelspec": {
      "name": "python3",
      "display_name": "Python 3"
    }
  },
  "cells": [
    {
      "cell_type": "markdown",
      "metadata": {
        "id": "view-in-github",
        "colab_type": "text"
      },
      "source": [
        "<a href=\"https://colab.research.google.com/github/samucale/Curso-em-vd-Python/blob/main/Exercicio_34_Aumento_multiplos.ipynb\" target=\"_parent\"><img src=\"https://colab.research.google.com/assets/colab-badge.svg\" alt=\"Open In Colab\"/></a>"
      ]
    },
    {
      "cell_type": "markdown",
      "metadata": {
        "id": "TU-QjYcwb5gU"
      },
      "source": [
        "*ESCREVA UM PROGRAMA QUE PERGUNTE  O SALARIO DE UM FUNCIONARIO E CALCULE O VALOR DO SEU AUMENTO.PARA SALARIOS SUPERIORES A R$1250,00 CALCULE UM AUMENTO DE 10% . PARA OS INFERIORES OU IGUAIS , O AUMENTO E DE 15%*."
      ]
    },
    {
      "cell_type": "code",
      "metadata": {
        "id": "jyISjgCWdDot",
        "outputId": "49fdefc6-68ba-47db-c976-f1e5dc32fda1",
        "colab": {
          "base_uri": "https://localhost:8080/"
        }
      },
      "source": [
        "sal = float(input('Digite o salario do funcionário: '))\n",
        "if sal <= 1250.00 :\n",
        "  novo = sal+(sal*10/100)\n",
        "else :\n",
        "  novo = sal+(sal*15/100)\n",
        "print('Quem ganahava R${} passa a ganhar R$ {} agora.'.format(sal,novo))\n"
      ],
      "execution_count": 19,
      "outputs": [
        {
          "output_type": "stream",
          "text": [
            "Digite o salario do funcionário: 2000\n",
            "Quem ganahava R$2000.0 passa a ganhar R$ 2300.0 agora.\n"
          ],
          "name": "stdout"
        }
      ]
    },
    {
      "cell_type": "code",
      "metadata": {
        "id": "OtEWcuzDIp51"
      },
      "source": [
        ""
      ],
      "execution_count": null,
      "outputs": []
    }
  ]
}