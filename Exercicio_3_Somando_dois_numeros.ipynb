{
  "nbformat": 4,
  "nbformat_minor": 0,
  "metadata": {
    "colab": {
      "name": "Exercicio_3_Somando_dois_numeros.ipynb",
      "provenance": [],
      "collapsed_sections": [],
      "include_colab_link": true
    },
    "kernelspec": {
      "name": "python3",
      "display_name": "Python 3"
    }
  },
  "cells": [
    {
      "cell_type": "markdown",
      "metadata": {
        "id": "view-in-github",
        "colab_type": "text"
      },
      "source": [
        "<a href=\"https://colab.research.google.com/github/samucale/CURSO.PYTHON.PROF.GUSTAVO-GUANABARA/blob/main/Exercicio_3_Somando_dois_numeros.ipynb\" target=\"_parent\"><img src=\"https://colab.research.google.com/assets/colab-badge.svg\" alt=\"Open In Colab\"/></a>"
      ]
    },
    {
      "cell_type": "markdown",
      "metadata": {
        "id": "snt4Ic86iypf"
      },
      "source": [
        "*Crie um programa que leia doi numeros e mostre a soma entre eles.*"
      ]
    },
    {
      "cell_type": "code",
      "metadata": {
        "colab": {
          "base_uri": "https://localhost:8080/"
        },
        "id": "nn45AiaBi3_a",
        "outputId": "32c44f8b-1bee-4617-eb4c-c75e39c3c117"
      },
      "source": [
        "n1= int (input ('Digite um numero : '))\r\n",
        "n2 = int (input ('Digite outro valor: '))\r\n",
        "s= n1 + n2 \r\n",
        "print ('A soma entre {} e {} e {}'.format (n1,n2,s))"
      ],
      "execution_count": null,
      "outputs": [
        {
          "output_type": "stream",
          "text": [
            "Digite umm numero : 10\n",
            "Digite outro valor: 20\n",
            "A soma entre 10 e 20 e 30\n"
          ],
          "name": "stdout"
        }
      ]
    },
    {
      "cell_type": "code",
      "metadata": {
        "id": "Rw0YzaDHj5QR",
        "colab": {
          "base_uri": "https://localhost:8080/"
        },
        "outputId": "f4561674-601f-4bb1-805a-6492b43adb3c"
      },
      "source": [
        "n1 = int(input('Digite um numeo: '))\r\n",
        "n2 = int(input('Digite outo numero: '))\r\n",
        "s= n1 + n2\r\n",
        "print ('A soma entre {} e {} e igual a {}'.format(n1,n2,s))\r\n"
      ],
      "execution_count": null,
      "outputs": [
        {
          "output_type": "stream",
          "text": [
            "Digite um numeo10\n",
            "Digite outo numero20\n",
            "A soma entre 10 e 20 e igual a 30\n"
          ],
          "name": "stdout"
        }
      ]
    },
    {
      "cell_type": "code",
      "metadata": {
        "id": "S6c-isbWaB8k"
      },
      "source": [
        ""
      ],
      "execution_count": null,
      "outputs": []
    }
  ]
}