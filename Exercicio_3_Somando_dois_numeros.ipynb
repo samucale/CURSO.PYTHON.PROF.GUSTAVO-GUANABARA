{
  "nbformat": 4,
  "nbformat_minor": 0,
  "metadata": {
    "colab": {
      "name": "Exercicio_3_Somando_dois_numeros.ipynb",
      "provenance": [],
      "collapsed_sections": [],
      "include_colab_link": true
    },
    "kernelspec": {
      "name": "python3",
      "display_name": "Python 3"
    }
  },
  "cells": [
    {
      "cell_type": "markdown",
      "metadata": {
        "id": "view-in-github",
        "colab_type": "text"
      },
      "source": [
        "<a href=\"https://colab.research.google.com/github/samucale/CURSO.PYTHON.PROF.GUSTAVO-GUANABARA/blob/main/Exercicio_3_Somando_dois_numeros.ipynb\" target=\"_parent\"><img src=\"https://colab.research.google.com/assets/colab-badge.svg\" alt=\"Open In Colab\"/></a>"
      ]
    },
    {
      "cell_type": "markdown",
      "metadata": {
        "id": "snt4Ic86iypf"
      },
      "source": [
        "*Crie um programa que leia dois numeros e mostre a soma entre eles.*"
      ]
    },
    {
      "cell_type": "code",
      "metadata": {
        "colab": {
          "base_uri": "https://localhost:8080/"
        },
        "id": "nn45AiaBi3_a",
        "outputId": "32c44f8b-1bee-4617-eb4c-c75e39c3c117"
      },
      "source": [
        "n1= int (input ('Digite um numero : '))\r\n",
        "n2 = int (input ('Digite outro valor: '))\r\n",
        "s= n1 + n2 \r\n",
        "print ('A soma entre {} e {} e {}'.format (n1,n2,s))"
      ],
      "execution_count": null,
      "outputs": [
        {
          "output_type": "stream",
          "text": [
            "Digite umm numero : 10\n",
            "Digite outro valor: 20\n",
            "A soma entre 10 e 20 e 30\n"
          ],
          "name": "stdout"
        }
      ]
    },
    {
      "cell_type": "code",
      "metadata": {
        "id": "Rw0YzaDHj5QR",
        "colab": {
          "base_uri": "https://localhost:8080/"
        },
        "outputId": "f4561674-601f-4bb1-805a-6492b43adb3c"
      },
      "source": [
        "n1 = int(input('Digite um numeo: '))\r\n",
        "n2 = int(input('Digite outo numero: '))\r\n",
        "s= n1 + n2\r\n",
        "print ('A soma entre {} e {} e igual a {}'.format(n1,n2,s))\r\n"
      ],
      "execution_count": null,
      "outputs": [
        {
          "output_type": "stream",
          "text": [
            "Digite um numeo10\n",
            "Digite outo numero20\n",
            "A soma entre 10 e 20 e igual a 30\n"
          ],
          "name": "stdout"
        }
      ]
    },
    {
      "cell_type": "code",
      "metadata": {
        "id": "S6c-isbWaB8k",
        "outputId": "7e6c7c11-3b30-46a9-9a56-fd44bb24f795",
        "colab": {
          "base_uri": "https://localhost:8080/"
        }
      },
      "source": [
        "n1 = int(input('Digite um numero :'))\r\n",
        "n2 = int(input('Digite outro numero : '))\r\n",
        "s = n1 + n2 \r\n",
        "print ('A soma entre {} e {} e igual a {}'.format(n1,n2,s))"
      ],
      "execution_count": 1,
      "outputs": [
        {
          "output_type": "stream",
          "text": [
            "Digite um numero :100\n",
            "Digite outro numero : 200\n",
            "A soma entre 100 e 200 e igual a 300\n"
          ],
          "name": "stdout"
        }
      ]
    },
    {
      "cell_type": "code",
      "metadata": {
        "id": "nC1oaVnaqQDx",
        "outputId": "d8294f55-a2de-40d1-ad14-87a5effc8374",
        "colab": {
          "base_uri": "https://localhost:8080/"
        }
      },
      "source": [
        "n1 = int(input('Digite um numero : '))\r\n",
        "n2  = int(input('Dgite outro numero : '))\r\n",
        "s = n1 + n2 \r\n",
        "print ('A soma entre {} e {} e igual a {}, pode parecer besteira mas a repetiçao GRAVA TA ?'.format(n1,n2,s))\r\n",
        "\r\n",
        "\r\n"
      ],
      "execution_count": 5,
      "outputs": [
        {
          "output_type": "stream",
          "text": [
            "Digite um numero : 20\n",
            "Dgite outro numero : 30\n",
            "A soma entre 20 e 30 e igual a 50, pode parecer besteira mas a repetiçao GRAVA TA ?\n"
          ],
          "name": "stdout"
        }
      ]
    },
    {
      "cell_type": "code",
      "metadata": {
        "id": "ip0SzmDSrD1z",
        "outputId": "bcc06abc-5c67-4730-d7f1-5e528f68ef67",
        "colab": {
          "base_uri": "https://localhost:8080/"
        }
      },
      "source": [
        "n1 = int(input('Digite um numero : '))\r\n",
        "n2 = int(input('Digite outro numero : '))\r\n",
        "n3 = int(input('Digite outro numero : '))\r\n",
        "s = (n1 + n2 + n3)\r\n",
        "print ('A soma entre {},{},{} e {} , mas perai, foi isso que pedia o exercicio ?'.format(n1,n2,n3,s))\r\n"
      ],
      "execution_count": 12,
      "outputs": [
        {
          "output_type": "stream",
          "text": [
            "Digite um numero : 10\n",
            "Digite outro numero : 10\n",
            "Digite outro numero : 10\n",
            "A soma entre 10,10,10 e 30 , mas perai, foi isso que pedia o exercicio ?\n"
          ],
          "name": "stdout"
        }
      ]
    },
    {
      "cell_type": "code",
      "metadata": {
        "id": "78K-8SNbsEAl",
        "outputId": "8b7229bf-bcb7-4eb8-9219-a6459c894cae",
        "colab": {
          "base_uri": "https://localhost:8080/"
        }
      },
      "source": [
        "n1 = int(input('Digite um numero : '))\r\n",
        "n2 = int(input('Digite outro numero : '))\r\n",
        "n3 = int(input('Digite outro numero : '))\r\n",
        "n4 = int(input('Digite outro numero : '))\r\n",
        "s = (n1 + n2 + n3 + n4)\r\n",
        "print ('A soma entre {},{},{},{} e {}, mas sera que nao era melhor ter multiplicado?..claro'.format(n1,n2,n3,n4,s))"
      ],
      "execution_count": 14,
      "outputs": [
        {
          "output_type": "stream",
          "text": [
            "Digite um numero : 10\n",
            "Digite outro numero : 10\n",
            "Digite outro numero : 10\n",
            "Digite outro numero : 10\n",
            "A soma entre 10,10,10,10 e 40, mas sera que nao era melhor ter multiplicado?..claro\n"
          ],
          "name": "stdout"
        }
      ]
    },
    {
      "cell_type": "code",
      "metadata": {
        "id": "2aQVtt90uoEs"
      },
      "source": [
        ""
      ],
      "execution_count": null,
      "outputs": []
    }
  ]
}