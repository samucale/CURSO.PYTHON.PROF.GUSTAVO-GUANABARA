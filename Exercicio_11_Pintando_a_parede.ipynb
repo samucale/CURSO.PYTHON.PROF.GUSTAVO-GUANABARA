{
  "nbformat": 4,
  "nbformat_minor": 0,
  "metadata": {
    "colab": {
      "name": "Exercicio_11_Pintando_a_parede.ipynb",
      "provenance": [],
      "collapsed_sections": [],
      "include_colab_link": true
    },
    "kernelspec": {
      "name": "python3",
      "display_name": "Python 3"
    }
  },
  "cells": [
    {
      "cell_type": "markdown",
      "metadata": {
        "id": "view-in-github",
        "colab_type": "text"
      },
      "source": [
        "<a href=\"https://colab.research.google.com/github/samucale/CURSO.PYTHON.PROF.GUSTAVO-GUANABARA/blob/main/Exercicio_11_Pintando_a_parede.ipynb\" target=\"_parent\"><img src=\"https://colab.research.google.com/assets/colab-badge.svg\" alt=\"Open In Colab\"/></a>"
      ]
    },
    {
      "cell_type": "markdown",
      "metadata": {
        "id": "2cLrDG0dbaVp"
      },
      "source": [
        "*Faça um programa que leia a largura e a altura de uma parede em metros, calcule a sua area e a quantidade de tinta necessaria para pinta - la , sabendo que cada litro de tinta, pinta uma area de 2 metros quadrados*"
      ]
    },
    {
      "cell_type": "code",
      "metadata": {
        "id": "Amgy-rUpb_6d",
        "colab": {
          "base_uri": "https://localhost:8080/"
        },
        "outputId": "2607bff6-8889-49b7-f390-a316577934d9"
      },
      "source": [
        "a = float(input('Digite a largura da parede '))\r\n",
        "l = float(input('Digite a altura da parede '))\r\n",
        "s =  a * l \r\n",
        "print ('A sua parede tem as dimensões de {} x {} e sua area é de {}m'.format(a,l,s))\r\n",
        "tinta =s /2 \r\n",
        "print ('Para pintar essa parede voce vai precisar de {} litros de tinta'.format(tinta))\r\n",
        "\r\n"
      ],
      "execution_count": 10,
      "outputs": [
        {
          "output_type": "stream",
          "text": [
            "Digite a largura da parede 3\n",
            "Digite a altura da parede 2\n",
            "A sua parede tem as dimensões de 3.0 x 2.0 e sua area é de 6.0m\n",
            "Para pintar essa parede voce vai precisar de 3.0 litro de tinta\n"
          ],
          "name": "stdout"
        }
      ]
    },
    {
      "cell_type": "code",
      "metadata": {
        "id": "IUQzzv-ndwwL"
      },
      "source": [
        ""
      ],
      "execution_count": 8,
      "outputs": []
    }
  ]
}