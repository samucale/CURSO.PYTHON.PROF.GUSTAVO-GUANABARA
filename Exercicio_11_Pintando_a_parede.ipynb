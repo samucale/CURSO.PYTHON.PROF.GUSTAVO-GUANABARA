{
  "nbformat": 4,
  "nbformat_minor": 0,
  "metadata": {
    "colab": {
      "name": "Exercicio_11_Pintando_a_parede.ipynb",
      "provenance": [],
      "collapsed_sections": [],
      "include_colab_link": true
    },
    "kernelspec": {
      "name": "python3",
      "display_name": "Python 3"
    }
  },
  "cells": [
    {
      "cell_type": "markdown",
      "metadata": {
        "id": "view-in-github",
        "colab_type": "text"
      },
      "source": [
        "<a href=\"https://colab.research.google.com/github/samucale/CURSO.PYTHON.PROF.GUSTAVO-GUANABARA/blob/main/Exercicio_11_Pintando_a_parede.ipynb\" target=\"_parent\"><img src=\"https://colab.research.google.com/assets/colab-badge.svg\" alt=\"Open In Colab\"/></a>"
      ]
    },
    {
      "cell_type": "markdown",
      "metadata": {
        "id": "2cLrDG0dbaVp"
      },
      "source": [
        "*Faça um programa que leia a largura e a altura de uma parede em metros, calcule a sua area e a quantidade de tinta necessaria para pinta - la , sabendo que cada litro de tinta, pinta uma area de 2 metros quadrados*"
      ]
    },
    {
      "cell_type": "code",
      "metadata": {
        "id": "Amgy-rUpb_6d",
        "colab": {
          "base_uri": "https://localhost:8080/"
        },
        "outputId": "4c0476bc-cb8d-4363-fa4e-a40c069a0297"
      },
      "source": [
        "a = float(input('Digite a largura da parede '))\r\n",
        "l = float(input('Digite a altura da parede '))\r\n",
        "s =  a * l \r\n",
        "print ('A sua parede tem as dimensões de {} x {} e sua area é de {}m'.format(a,l,s))\r\n",
        "tinta =s /2 \r\n",
        "print ('Para pintar essa parede voce vai precisar de {} litros de tinta'.format(tinta))\r\n",
        "\r\n"
      ],
      "execution_count": null,
      "outputs": [
        {
          "output_type": "stream",
          "text": [
            "Digite a largura da parede 1\n",
            "Digite a altura da parede 2\n",
            "A sua parede tem as dimensões de 1.0 x 2.0 e sua area é de 2.0m\n",
            "Para pintar essa parede voce vai precisar de 1.0 litros de tinta\n"
          ],
          "name": "stdout"
        }
      ]
    },
    {
      "cell_type": "code",
      "metadata": {
        "id": "IUQzzv-ndwwL"
      },
      "source": [
        "a = float(input('Digite a altura da parede : '))\r\n",
        "l = float(input('Digite a largura da parede : '))\r\n",
        "print('A sua parede tem as dimensoes de {} x {} e sua area e de {}m'.format(a,l,s))\r\n",
        "tinta = s / 2 \r\n",
        "print ('Para pintae essa parede voce vai precisar de {} litros de tinta'.format(tinta))\r\n"
      ],
      "execution_count": null,
      "outputs": []
    },
    {
      "cell_type": "code",
      "metadata": {
        "id": "Uz3sGHx8_7nv",
        "colab": {
          "base_uri": "https://localhost:8080/"
        },
        "outputId": "10cd96e9-9dea-4793-f107-bbd105491096"
      },
      "source": [
        "a= float(input('Digite a altura da parede :'))\r\n",
        "l= float(input('Digite a largura da parede :'))\r\n",
        "s= a * l\r\n",
        "print ('As medidas as sua parede sao {} de altura por {} de lagura, portanto sua area e de {}'.format (a,l,s))\r\n",
        "tinta = s /2\r\n",
        "print ('Com a area de {} voce usara {:.0f} latas de tinta'.format (s,tinta))"
      ],
      "execution_count": null,
      "outputs": [
        {
          "output_type": "stream",
          "text": [
            "Digite a altura da parede :3\n",
            "Digite a largura da parede :2\n",
            "As medidas as sua parede sao 3.0 de altura por 2.0 de lagura, portanto sua area e de 6.0\n",
            "Com a area de 6.0 voce usara 3 latas de tinta\n"
          ],
          "name": "stdout"
        }
      ]
    },
    {
      "cell_type": "code",
      "metadata": {
        "id": "nfScNLr5Ae6W",
        "outputId": "6dff838f-c8cb-4b5e-abbd-9e5eaf7b0760",
        "colab": {
          "base_uri": "https://localhost:8080/"
        }
      },
      "source": [
        "largura=float(input('digite a largura da parede :'))\r\n",
        "altura=float(input('Digite a altura da parede :'))\r\n",
        "area = largura*altura\r\n",
        "print('As medidas digitadas sao de {} x {} sua area e de {}'.format(largura,altura,area))\r\n",
        "tinta= area/2\r\n",
        "print('Sua area e de {} voce atulizara {} latas de tinta'.format(area,tinta))\r\n"
      ],
      "execution_count": 26,
      "outputs": [
        {
          "output_type": "stream",
          "text": [
            "digite a largura da parede :3\n",
            "Digite a altura da parede :2\n",
            "As medidas digitadas sao de 3.0 x 2.0 sua area e de 6.0\n",
            "Sua area e de 6.0 voce atulizara 3.0 latas de tinta\n"
          ],
          "name": "stdout"
        }
      ]
    },
    {
      "cell_type": "code",
      "metadata": {
        "id": "bxE4Qvid-nhH"
      },
      "source": [
        ""
      ],
      "execution_count": null,
      "outputs": []
    }
  ]
}