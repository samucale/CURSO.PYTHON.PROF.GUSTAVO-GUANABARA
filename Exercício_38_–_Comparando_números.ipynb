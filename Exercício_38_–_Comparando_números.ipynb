{
  "nbformat": 4,
  "nbformat_minor": 0,
  "metadata": {
    "colab": {
      "name": "Exercício 38 – Comparando números",
      "provenance": [],
      "authorship_tag": "ABX9TyNXdVB+jkpnw1VtfL3haKM2",
      "include_colab_link": true
    },
    "kernelspec": {
      "name": "python3",
      "display_name": "Python 3"
    },
    "language_info": {
      "name": "python"
    }
  },
  "cells": [
    {
      "cell_type": "markdown",
      "metadata": {
        "id": "view-in-github",
        "colab_type": "text"
      },
      "source": [
        "<a href=\"https://colab.research.google.com/github/samucale/Curso-em-vd-Python/blob/main/Exerc%C3%ADcio_38_%E2%80%93_Comparando_n%C3%BAmeros.ipynb\" target=\"_parent\"><img src=\"https://colab.research.google.com/assets/colab-badge.svg\" alt=\"Open In Colab\"/></a>"
      ]
    },
    {
      "cell_type": "markdown",
      "metadata": {
        "id": "ta_GDjsuTT87"
      },
      "source": [
        "*Escreva um programa que leia dois números inteiros e compare-os. mostrando na tela uma mensagem*\n"
      ]
    },
    {
      "cell_type": "code",
      "metadata": {
        "id": "kr7T2Qm6TLk2"
      },
      "source": [
        ""
      ],
      "execution_count": null,
      "outputs": []
    }
  ]
}