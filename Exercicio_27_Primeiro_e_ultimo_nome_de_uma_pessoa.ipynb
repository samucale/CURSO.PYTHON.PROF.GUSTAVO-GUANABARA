{
  "nbformat": 4,
  "nbformat_minor": 0,
  "metadata": {
    "colab": {
      "name": "Exercicio 27 - Primeiro e ultimo nome de uma pessoa",
      "provenance": [],
      "authorship_tag": "ABX9TyNxCB4JW8G4MJol6qD1z7nV",
      "include_colab_link": true
    },
    "kernelspec": {
      "name": "python3",
      "display_name": "Python 3"
    }
  },
  "cells": [
    {
      "cell_type": "markdown",
      "metadata": {
        "id": "view-in-github",
        "colab_type": "text"
      },
      "source": [
        "<a href=\"https://colab.research.google.com/github/samucale/Curso-em-vd-Python/blob/main/Exercicio_27_Primeiro_e_ultimo_nome_de_uma_pessoa.ipynb\" target=\"_parent\"><img src=\"https://colab.research.google.com/assets/colab-badge.svg\" alt=\"Open In Colab\"/></a>"
      ]
    },
    {
      "cell_type": "markdown",
      "metadata": {
        "id": "GzeNfpQ8cKs1"
      },
      "source": [
        "*FAÇA UM PROGRAMA QUE LEIA O NOME COMPLETO DE UMA PESSOA , MOSTRANDO EM SEGUIDA O PRIMEIRO E O ULTIMO NOME SEPARADAMENTE.*"
      ]
    },
    {
      "cell_type": "code",
      "metadata": {
        "id": "oX2X9NLlcHfJ",
        "colab": {
          "base_uri": "https://localhost:8080/"
        },
        "outputId": "2d114296-e3e7-4cfb-c430-596264014c49"
      },
      "source": [
        "n = str(input('Digite seu nome completo: ')).strip()\n",
        "nome = n.split()\n",
        "print('Muito prazerem te conhecer!')\n",
        "print('Seu primeiro nome é {}'.format(nome[0]))\n",
        "print('Seu ultimo nome é {}'.format(nome[len(nome)-1]))\n"
      ],
      "execution_count": null,
      "outputs": [
        {
          "output_type": "stream",
          "text": [
            "Digite seu nome completo: Samuel Antionio Silva \n",
            "Muito prazerem te conhecer!\n",
            "Seu primeiro nome é Samuel\n",
            "Seu ultimo nome é Silva\n"
          ],
          "name": "stdout"
        }
      ]
    },
    {
      "cell_type": "code",
      "metadata": {
        "id": "VfFqLVhPtiiL",
        "outputId": "44380a75-8eac-4235-93cb-b4cfe796400d",
        "colab": {
          "base_uri": "https://localhost:8080/"
        }
      },
      "source": [
        "n = str(input('Digite seu nome completo : ')).strip()\n",
        "nome=n.split()\n",
        "print(nome)"
      ],
      "execution_count": 10,
      "outputs": [
        {
          "output_type": "stream",
          "text": [
            "Digite seu nome completo : Samuel Antonio Silva\n",
            "['Samuel', 'Antonio', 'Silva']\n"
          ],
          "name": "stdout"
        }
      ]
    },
    {
      "cell_type": "code",
      "metadata": {
        "id": "u3Ug-3bITbRe",
        "outputId": "c42f9fc4-917d-48a2-a956-858a77757faf",
        "colab": {
          "base_uri": "https://localhost:8080/"
        }
      },
      "source": [
        "n= str(input('Digite seu nome Completo :')).strip()\n",
        "nome = n.split()\n",
        "print('Seu ultimo nome é {}'.format(nome[len(nome)-2]))\n"
      ],
      "execution_count": 12,
      "outputs": [
        {
          "output_type": "stream",
          "text": [
            "Digite seu nome Completo :samuel antonio da silva tercero junior\n",
            "Seu ultimo nome é tercero\n"
          ],
          "name": "stdout"
        }
      ]
    },
    {
      "cell_type": "code",
      "metadata": {
        "id": "NAoVXDbGXo9T"
      },
      "source": [
        ""
      ],
      "execution_count": null,
      "outputs": []
    }
  ]
}