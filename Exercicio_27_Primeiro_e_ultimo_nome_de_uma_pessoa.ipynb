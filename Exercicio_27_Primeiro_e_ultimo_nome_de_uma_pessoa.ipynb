{
  "nbformat": 4,
  "nbformat_minor": 0,
  "metadata": {
    "colab": {
      "name": "Exercicio 27 - Primeiro e ultimo nome de uma pessoa",
      "provenance": [],
      "authorship_tag": "ABX9TyPh/UkohYr9i7BehD+I6So+",
      "include_colab_link": true
    },
    "kernelspec": {
      "name": "python3",
      "display_name": "Python 3"
    }
  },
  "cells": [
    {
      "cell_type": "markdown",
      "metadata": {
        "id": "view-in-github",
        "colab_type": "text"
      },
      "source": [
        "<a href=\"https://colab.research.google.com/github/samucale/CURSO.PYTHON.PROF.GUSTAVO-GUANABARA/blob/main/Exercicio_27_Primeiro_e_ultimo_nome_de_uma_pessoa.ipynb\" target=\"_parent\"><img src=\"https://colab.research.google.com/assets/colab-badge.svg\" alt=\"Open In Colab\"/></a>"
      ]
    },
    {
      "cell_type": "markdown",
      "metadata": {
        "id": "GzeNfpQ8cKs1"
      },
      "source": [
        "*FAÇA UM PROGRAMA QUE LEIA O NOME COMPLETO DE UMA PESSOA , MOSTRANDO EM SEGUIDA O PRIMEIRO E O ULTIMO NOME SEPARADAMENTE.*"
      ]
    },
    {
      "cell_type": "code",
      "metadata": {
        "id": "oX2X9NLlcHfJ"
      },
      "source": [
        ""
      ],
      "execution_count": null,
      "outputs": []
    }
  ]
}