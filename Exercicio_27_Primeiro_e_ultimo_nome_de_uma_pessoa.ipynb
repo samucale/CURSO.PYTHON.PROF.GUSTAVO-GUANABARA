{
  "nbformat": 4,
  "nbformat_minor": 0,
  "metadata": {
    "colab": {
      "name": "Exercicio 27 - Primeiro e ultimo nome de uma pessoa",
      "provenance": [],
      "authorship_tag": "ABX9TyNDRTlH/kK6LRPih1Wef22F",
      "include_colab_link": true
    },
    "kernelspec": {
      "name": "python3",
      "display_name": "Python 3"
    }
  },
  "cells": [
    {
      "cell_type": "markdown",
      "metadata": {
        "id": "view-in-github",
        "colab_type": "text"
      },
      "source": [
        "<a href=\"https://colab.research.google.com/github/samucale/CURSO.PYTHON.PROF.GUSTAVO-GUANABARA/blob/main/Exercicio_27_Primeiro_e_ultimo_nome_de_uma_pessoa.ipynb\" target=\"_parent\"><img src=\"https://colab.research.google.com/assets/colab-badge.svg\" alt=\"Open In Colab\"/></a>"
      ]
    },
    {
      "cell_type": "markdown",
      "metadata": {
        "id": "GzeNfpQ8cKs1"
      },
      "source": [
        "*FAÇA UM PROGRAMA QUE LEIA O NOME COMPLETO DE UMA PESSOA , MOSTRANDO EM SEGUIDA O PRIMEIRO E O ULTIMO NOME SEPARADAMENTE.*"
      ]
    },
    {
      "cell_type": "code",
      "metadata": {
        "id": "oX2X9NLlcHfJ",
        "outputId": "2d114296-e3e7-4cfb-c430-596264014c49",
        "colab": {
          "base_uri": "https://localhost:8080/"
        }
      },
      "source": [
        "n = str(input('Digite seu nome completo: ')).strip()\r\n",
        "nome = n.split()\r\n",
        "print('Muito prazerem te conhecer!')\r\n",
        "print('Seu primeiro nome é {}'.format(nome[0]))\r\n",
        "print('Seu ultimo nome é {}'.format(nome[len(nome)-1]))\r\n"
      ],
      "execution_count": 8,
      "outputs": [
        {
          "output_type": "stream",
          "text": [
            "Digite seu nome completo: Samuel Antionio Silva \n",
            "Muito prazerem te conhecer!\n",
            "Seu primeiro nome é Samuel\n",
            "Seu ultimo nome é Silva\n"
          ],
          "name": "stdout"
        }
      ]
    },
    {
      "cell_type": "code",
      "metadata": {
        "id": "VfFqLVhPtiiL"
      },
      "source": [
        ""
      ],
      "execution_count": null,
      "outputs": []
    }
  ]
}