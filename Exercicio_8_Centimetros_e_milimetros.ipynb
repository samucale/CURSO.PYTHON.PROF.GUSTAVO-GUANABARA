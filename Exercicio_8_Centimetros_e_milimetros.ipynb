{
  "nbformat": 4,
  "nbformat_minor": 0,
  "metadata": {
    "colab": {
      "name": "Exercicio_8_Centimetros_e_milimetros.ipynb",
      "provenance": [],
      "collapsed_sections": [],
      "include_colab_link": true
    },
    "kernelspec": {
      "name": "python3",
      "display_name": "Python 3"
    }
  },
  "cells": [
    {
      "cell_type": "markdown",
      "metadata": {
        "id": "view-in-github",
        "colab_type": "text"
      },
      "source": [
        "<a href=\"https://colab.research.google.com/github/samucale/CURSO.PYTHON.PROF.GUSTAVO-GUANABARA/blob/main/Exercicio_8_Centimetros_e_milimetros.ipynb\" target=\"_parent\"><img src=\"https://colab.research.google.com/assets/colab-badge.svg\" alt=\"Open In Colab\"/></a>"
      ]
    },
    {
      "cell_type": "markdown",
      "metadata": {
        "id": "4VXCdUIPZy0g"
      },
      "source": [
        "*Escreva uma programa que leia um valor em metros e o exiba convertido em centimetros e milimetros*"
      ]
    },
    {
      "cell_type": "code",
      "metadata": {
        "id": "xUd0Fo_lSjNN",
        "colab": {
          "base_uri": "https://localhost:8080/"
        },
        "outputId": "8027ba81-e79f-4c75-9139-efcb37d66d2e"
      },
      "source": [
        "medida=float(input('Uma distancia em metros'))\r\n",
        "cm = medida * 100\r\n",
        "mm = medida * 1000\r\n",
        "print ('A medida de {}m corresponte a {} cm e {}mm'.format(medida,cm,mm))\r\n"
      ],
      "execution_count": 20,
      "outputs": [
        {
          "output_type": "stream",
          "text": [
            "Uma distancia em metros2.5\n",
            "A medida de 2.5m corresponte a 250.0 cm e 2500.0mm\n"
          ],
          "name": "stdout"
        }
      ]
    },
    {
      "cell_type": "code",
      "metadata": {
        "id": "1VUoLL_4UgxZ"
      },
      "source": [
        ""
      ],
      "execution_count": null,
      "outputs": []
    }
  ]
}