{
  "nbformat": 4,
  "nbformat_minor": 0,
  "metadata": {
    "colab": {
      "name": "Exercicio 28- Jogo da adivinhaçao v 1.0",
      "provenance": [],
      "authorship_tag": "ABX9TyNRCw3+++Vaem/RuRlln2Fb",
      "include_colab_link": true
    },
    "kernelspec": {
      "name": "python3",
      "display_name": "Python 3"
    }
  },
  "cells": [
    {
      "cell_type": "markdown",
      "metadata": {
        "id": "view-in-github",
        "colab_type": "text"
      },
      "source": [
        "<a href=\"https://colab.research.google.com/github/samucale/CURSO.PYTHON.PROF.GUSTAVO-GUANABARA/blob/main/Exercicio_28_Jogo_da_adivinha%C3%A7ao_v_1_0.ipynb\" target=\"_parent\"><img src=\"https://colab.research.google.com/assets/colab-badge.svg\" alt=\"Open In Colab\"/></a>"
      ]
    },
    {
      "cell_type": "markdown",
      "metadata": {
        "id": "Kfet-EG4SVSW"
      },
      "source": [
        "*ESCREVA UM PROGRAMA QUE FAÇA UM COMPUTADOR \"PENSAR\" EM UM NUMERO INTEIRO ENTRE 0 E 5 E PEÇA PARA O USUARIO TENTAR DESCOBRIR QUAL FOI O NUMERO ESCOLHIDO PELO COMPUTADOR,O PROGRAMA DEVERA ESCREVER NA TELA SE O USUARIO VENCEU OU PERDEU*"
      ]
    },
    {
      "cell_type": "code",
      "metadata": {
        "id": "fLNWzFM5R3TU"
      },
      "source": [
        ""
      ],
      "execution_count": null,
      "outputs": []
    },
    {
      "cell_type": "code",
      "metadata": {
        "id": "g4QKUBhJUN7z"
      },
      "source": [
        ""
      ],
      "execution_count": null,
      "outputs": []
    }
  ]
}