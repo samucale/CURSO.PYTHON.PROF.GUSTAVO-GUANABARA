{
  "nbformat": 4,
  "nbformat_minor": 0,
  "metadata": {
    "colab": {
      "name": "Exercicio 28- Jogo da adivinhaçao v 1.0",
      "provenance": [],
      "authorship_tag": "ABX9TyNROHA9EOuLSEtwb+VeAysK",
      "include_colab_link": true
    },
    "kernelspec": {
      "name": "python3",
      "display_name": "Python 3"
    }
  },
  "cells": [
    {
      "cell_type": "markdown",
      "metadata": {
        "id": "view-in-github",
        "colab_type": "text"
      },
      "source": [
        "<a href=\"https://colab.research.google.com/github/samucale/CURSO.PYTHON.PROF.GUSTAVO-GUANABARA/blob/main/Exercicio_28_Jogo_da_adivinha%C3%A7ao_v_1_0.ipynb\" target=\"_parent\"><img src=\"https://colab.research.google.com/assets/colab-badge.svg\" alt=\"Open In Colab\"/></a>"
      ]
    },
    {
      "cell_type": "code",
      "metadata": {
        "id": "fLNWzFM5R3TU",
        "outputId": "a4f21f46-b97f-4744-a897-e9508ec5a13e",
        "colab": {
          "base_uri": "https://localhost:8080/"
        }
      },
      "source": [
        "#CONDIÇÕES SIMPLES\n",
        "\n",
        "n1= float(input('Digite a primeira nota : '))\n",
        "n2= float(input('Digite a segunda nota: '))\n",
        "m = (n1 + n2)/2\n",
        "print('A sua média foi {:.1f}'.format(m))\n",
        "if m >= 6.0:\n",
        "  print('Sua media foi boa!Parabens!')\n",
        "else:\n",
        "  print('Sua media foi ruim!Estude mais!')\n",
        "\n",
        "\n"
      ],
      "execution_count": 2,
      "outputs": [
        {
          "output_type": "stream",
          "text": [
            "Digite a primeira nota : 5\n",
            "Digite a segunda nota: 6\n",
            "A sua média foi 5.5\n",
            "Sua media foi ruim!Estude mais!\n"
          ],
          "name": "stdout"
        }
      ]
    },
    {
      "cell_type": "code",
      "metadata": {
        "id": "2NFK-Twg3Yvz",
        "outputId": "8c435a6b-2e8a-4e20-f9fb-e6b2de1029b9",
        "colab": {
          "base_uri": "https://localhost:8080/"
        }
      },
      "source": [
        "#MEDIA SIMPLIFICADA#\n",
        "\n",
        "n1 = float(input('Digite a primeira nota: '))\n",
        "n2 = float(input('Digite a segunda nota: '))\n",
        "m = (n1+n2)/2\n",
        "print('A sua media foi {}'.format(m))\n",
        "print('Parabens'if m>=6 else 'Estude Mais!')\n"
      ],
      "execution_count": 8,
      "outputs": [
        {
          "output_type": "stream",
          "text": [
            "Digite a primeira nota: 6\n",
            "Digite a segunda nota: 5\n",
            "A sua media foi 5.5\n",
            "Estude Mais!\n"
          ],
          "name": "stdout"
        }
      ]
    },
    {
      "cell_type": "markdown",
      "metadata": {
        "id": "Kfet-EG4SVSW"
      },
      "source": [
        "*ESCREVA UM PROGRAMA QUE FAÇA UM COMPUTADOR \"PENSAR\" EM UM NUMERO INTEIRO ENTRE 0 E 5 E PEÇA PARA O USUARIO TENTAR DESCOBRIR QUAL FOI O NUMERO ESCOLHIDO PELO COMPUTADOR,O PROGRAMA DEVERA ESCREVER NA TELA SE O USUARIO VENCEU OU PERDEU*"
      ]
    },
    {
      "cell_type": "code",
      "metadata": {
        "id": "g4QKUBhJUN7z"
      },
      "source": [
        "from random import randint"
      ],
      "execution_count": 51,
      "outputs": []
    },
    {
      "cell_type": "code",
      "metadata": {
        "id": "ZLhqEoqJ5xYm",
        "outputId": "e4b617c7-319f-4a62-8a12-dfdd367bb7bd",
        "colab": {
          "base_uri": "https://localhost:8080/",
          "height": 299
        }
      },
      "source": [
        "\r\n",
        "\r\n"
      ],
      "execution_count": 50,
      "outputs": [
        {
          "output_type": "stream",
          "text": [
            "-=--=--=--=--=--=--=--=--=--=--=--=--=--=--=--=--=--=--=--=-\n",
            "Vou pensar em um numero entre 0 e 5. tente adivinhar....\n",
            "-=--=--=--=--=--=--=--=--=--=--=--=--=--=--=--=--=--=--=--=-\n",
            "Vou pensar5\n"
          ],
          "name": "stdout"
        },
        {
          "output_type": "error",
          "ename": "TypeError",
          "evalue": "ignored",
          "traceback": [
            "\u001b[0;31m---------------------------------------------------------------------------\u001b[0m",
            "\u001b[0;31mTypeError\u001b[0m                                 Traceback (most recent call last)",
            "\u001b[0;32m<ipython-input-50-51fdf563d605>\u001b[0m in \u001b[0;36m<module>\u001b[0;34m()\u001b[0m\n\u001b[1;32m      3\u001b[0m \u001b[0mprint\u001b[0m\u001b[0;34m(\u001b[0m\u001b[0;34m'Vou pensar em um numero entre 0 e 5. tente adivinhar....'\u001b[0m\u001b[0;34m)\u001b[0m\u001b[0;34m\u001b[0m\u001b[0;34m\u001b[0m\u001b[0m\n\u001b[1;32m      4\u001b[0m \u001b[0mprint\u001b[0m\u001b[0;34m(\u001b[0m\u001b[0;34m'-=-'\u001b[0m\u001b[0;34m*\u001b[0m\u001b[0;36m20\u001b[0m\u001b[0;34m)\u001b[0m\u001b[0;34m\u001b[0m\u001b[0;34m\u001b[0m\u001b[0m\n\u001b[0;32m----> 5\u001b[0;31m \u001b[0mjog\u001b[0m\u001b[0;34m=\u001b[0m\u001b[0;34m(\u001b[0m\u001b[0mint\u001b[0m\u001b[0;34m(\u001b[0m\u001b[0minput\u001b[0m\u001b[0;34m(\u001b[0m\u001b[0;34m'Vou pensar'\u001b[0m\u001b[0;34m)\u001b[0m\u001b[0;34m)\u001b[0m\u001b[0;34m)\u001b[0m\u001b[0;34m\u001b[0m\u001b[0;34m\u001b[0m\u001b[0m\n\u001b[0m\u001b[1;32m      6\u001b[0m \u001b[0;34m\u001b[0m\u001b[0m\n\u001b[1;32m      7\u001b[0m \u001b[0;34m\u001b[0m\u001b[0m\n",
            "\u001b[0;31mTypeError\u001b[0m: 'module' object is not callable"
          ]
        }
      ]
    },
    {
      "cell_type": "code",
      "metadata": {
        "id": "50UfqoYvBAku"
      },
      "source": [
        ""
      ],
      "execution_count": null,
      "outputs": []
    }
  ]
}