{
  "nbformat": 4,
  "nbformat_minor": 0,
  "metadata": {
    "colab": {
      "name": "Exercicio_13_Salario_do_funcionario.ipynb",
      "provenance": [],
      "collapsed_sections": [],
      "include_colab_link": true
    },
    "kernelspec": {
      "name": "python3",
      "display_name": "Python 3"
    }
  },
  "cells": [
    {
      "cell_type": "markdown",
      "metadata": {
        "id": "view-in-github",
        "colab_type": "text"
      },
      "source": [
        "<a href=\"https://colab.research.google.com/github/samucale/Curso-em-vd-Python/blob/main/Exercicio_13_Salario_do_funcionario.ipynb\" target=\"_parent\"><img src=\"https://colab.research.google.com/assets/colab-badge.svg\" alt=\"Open In Colab\"/></a>"
      ]
    },
    {
      "cell_type": "markdown",
      "metadata": {
        "id": "gWIrY4rlenne"
      },
      "source": [
        "*Faça um algoritmo que leia o salario de um funcionario e mostre seu novo salario, com 15% de aumento.*"
      ]
    },
    {
      "cell_type": "code",
      "metadata": {
        "id": "QlOq94xae6vR",
        "colab": {
          "base_uri": "https://localhost:8080/"
        },
        "outputId": "e46c3bef-07be-484e-fd5b-48a87ba76b96"
      },
      "source": [
        "n= input('Digite o nome do funcionário :')\n",
        "sal= float(input('Digite o salario do funcionário : R$ '))\n",
        "novo = sal + (sal*15/100)\n",
        "print ('O salario do funcionário {} é R$ {:.2f} com 15% de aumento eles passara a receber R$ {:.2f}'.format (n,sal,novo))"
      ],
      "execution_count": null,
      "outputs": [
        {
          "output_type": "stream",
          "text": [
            "Digite o nome do funcionário :Carlos \n",
            "Digite o salario do funcionário : R$ 1500.00\n",
            "O salario do funcionário Carlos  é R$ 1500.00 com 15% de aumento eles passara a receber R$ 1725.00\n"
          ],
          "name": "stdout"
        }
      ]
    },
    {
      "cell_type": "code",
      "metadata": {
        "id": "7TmmfbqKkQwC",
        "colab": {
          "base_uri": "https://localhost:8080/"
        },
        "outputId": "2a7a1b4b-0921-4902-9837-7ed2db1a6a51"
      },
      "source": [
        "n= input ('Digite o nome do funcionario : ')\n",
        "sal = float (input('digite o salario dd funcionario : R$'  ))\n",
        "novo = sal + (sal*15/100)\n",
        "print ('O salario do funcionario {} e de R$ {} com 15% ele passara receber R$ {}'.format (n,sal,novo))"
      ],
      "execution_count": null,
      "outputs": [
        {
          "output_type": "stream",
          "text": [
            "Digite o nome do funcionario : samuel \n",
            "digite o salario dd funcionario : R$1500\n",
            "O salario do funcionario samuel  e de R$ 1500.0 com 15% ele passara receber R$ 1725.0\n"
          ],
          "name": "stdout"
        }
      ]
    },
    {
      "cell_type": "code",
      "metadata": {
        "id": "eu6wbbNUU5eX",
        "colab": {
          "base_uri": "https://localhost:8080/"
        },
        "outputId": "0e263a3a-469e-42d7-9b4a-aca7fc9dec03"
      },
      "source": [
        "n = input ('Digite o nome do funcionario : ')\n",
        "sal= float(input('Digite o salario do fucionario :  R$ '))\n",
        "novo = sal + (sal*15/100)\n",
        "print ('O salario atual do funcionario {} e de {} , com o aumentos de 15% ele passsara receber {}'.format(n,sal,novo))"
      ],
      "execution_count": null,
      "outputs": [
        {
          "output_type": "stream",
          "text": [
            "Digite o nome do funcionario : Samuel \n",
            "Digite o salario do fucionario :  R$ 1500.00\n",
            "O salario atual do funcionario Samuel  e de 1500.0 , com o aumentos de 15% ele passsara receber 1725.0\n"
          ],
          "name": "stdout"
        }
      ]
    },
    {
      "cell_type": "code",
      "metadata": {
        "id": "y8ExJ46vWIGd",
        "colab": {
          "base_uri": "https://localhost:8080/"
        },
        "outputId": "2766e5ef-a8fe-4158-83e7-f1d16915e7df"
      },
      "source": [
        "nome = input ('Digite o nome do funcionario :  ')\n",
        "sobre = input ('Digite o sobrenome :  ')\n",
        "anonasc = int(input('Digite o ano de nascimento :  '))\n",
        "anoatual = int(input('Digite o ano atual : '))\n",
        "idade = anoatual- anonasc\n",
        "sal = float(input('Digite o salario do funcionario : '))\n",
        "novo = sal + (sal*20/100)\n",
        "print ('Ola {} seu sobrenome e {} (Muito bonito), sua idade e {} seu salario e de R$ {} e passara ganhar {} com  15% de aumento'.format(nome,sobre,idade,sal,novo))"
      ],
      "execution_count": null,
      "outputs": [
        {
          "output_type": "stream",
          "text": [
            "Digite o nome do funcionario :  Fernando\n",
            "Digite o sobrenome :  Tercero \n",
            "Digite o ano de nascimento :  2018\n",
            "Digite o ano atual : 2021\n",
            "Digite o salario do funcionario : 1500.00\n",
            "Ola Fernando seu sobrenome e Tercero  (Muito bonito), sua idade e 3 seu salario e de R$ 1500.0 e passara ganhar 1800.0 com  15% de aumento\n"
          ],
          "name": "stdout"
        }
      ]
    },
    {
      "cell_type": "code",
      "metadata": {
        "id": "KjBlSS2VYgYY",
        "colab": {
          "base_uri": "https://localhost:8080/"
        },
        "outputId": "51327454-43e6-4029-b410-780b4ecbdca5"
      },
      "source": [
        "salario = float(input('Digite o salario do funcionario : R$ '))\n",
        "novo = salario + (salario*15/100)\n",
        "print('Parabens o seu salario e de R$ {} com o aumento de 15 % voce passara receber R$ {}'.format(salario,novo))"
      ],
      "execution_count": null,
      "outputs": [
        {
          "output_type": "stream",
          "text": [
            "Digite o salario do funcionario : R$ 1000.00\n",
            "Parabens o seu salario e de R$ 1000.0 com o aumento de 15 % voce passara receber R$ 1150.0\n"
          ],
          "name": "stdout"
        }
      ]
    },
    {
      "cell_type": "code",
      "metadata": {
        "id": "ophs7gN7Fl33",
        "outputId": "c7ca0b01-6414-403c-d5bf-7e76c6d8b9d9",
        "colab": {
          "base_uri": "https://localhost:8080/"
        }
      },
      "source": [
        "#Nessa linha você devera informar o nome do funcionário#\n",
        "nome = input('Digite o nome do funcionário : ')\n",
        "#Nesssa linha ele deve informar que entrou na empresa \n",
        "anoadm= float(input('Digite o ano que entrou na empresa  :' ))\n",
        "#Nessa linha ele informara o ano atual\n",
        "anoatual= int(input('Digite o ano atual :' ))\n",
        "anodeempr = anoatual - anoadm\n",
        "#Aqui o programa devera imprimir uma mensagem para o funcionário parabenizando pelo anos de trabalho \n",
        "print ('Ola {} esse ano você faz {:.0f} anos de empresa PARABENS,fiquei sabendo que você esta querendo comprar dolares para viajar'.format(nome,anodeempr))\n",
        "# Comprando dolares \n",
        "# obs: Lembrando que teremos que colocar as estrutura condicionais depois \n",
        "#Ele devera informar o valor que ele tem para a compra\n",
        "reais = float(input('Digite o valor que você tem para a compra : R$ '))\n",
        "dolar = reais/ 5.51\n",
        "print ('com o valor de R$ {} reais você poderá  comprar USD {:.2f},me conte mais sebre essa viagem para onde você vai ? '.format(reais,dolar))\n",
        "viagem = input('Digite para qual pais ira viajar :')\n",
        "\n",
        "\n",
        "\n"
      ],
      "execution_count": 20,
      "outputs": [
        {
          "output_type": "stream",
          "text": [
            "Digite o nome do funcionário : Samuel \n",
            "Digite o ano que entrou na empresa  :2008\n",
            "Digite o ano atual :2021\n",
            "Ola Samuel  esse ano você faz 13 anos de empresa PARABENS,fiquei sabendo que você esta querendo comprar dolares\n",
            "Digite o valor que você tem para a compra : R$ 1000.00\n",
            "com o valor de R$ 1000.0 reais você poderá  comprar USD 181.49 \n"
          ],
          "name": "stdout"
        }
      ]
    },
    {
      "cell_type": "code",
      "metadata": {
        "id": "xrNfla4tGmcv"
      },
      "source": [
        ""
      ],
      "execution_count": null,
      "outputs": []
    }
  ]
}