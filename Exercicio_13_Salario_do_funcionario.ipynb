{
  "nbformat": 4,
  "nbformat_minor": 0,
  "metadata": {
    "colab": {
      "name": "Exercicio_13_Salario_do_funcionario.ipynb",
      "provenance": [],
      "collapsed_sections": [],
      "include_colab_link": true
    },
    "kernelspec": {
      "name": "python3",
      "display_name": "Python 3"
    }
  },
  "cells": [
    {
      "cell_type": "markdown",
      "metadata": {
        "id": "view-in-github",
        "colab_type": "text"
      },
      "source": [
        "<a href=\"https://colab.research.google.com/github/samucale/CURSO.PYTHON.PROF.GUSTAVO-GUANABARA/blob/main/Exercicio_13_Salario_do_funcionario.ipynb\" target=\"_parent\"><img src=\"https://colab.research.google.com/assets/colab-badge.svg\" alt=\"Open In Colab\"/></a>"
      ]
    },
    {
      "cell_type": "markdown",
      "metadata": {
        "id": "gWIrY4rlenne"
      },
      "source": [
        "*Faça um algoritmo que leia o salario de um funcionario e mostre seu novo salario, com 15% de aumento.*"
      ]
    },
    {
      "cell_type": "code",
      "metadata": {
        "id": "QlOq94xae6vR",
        "colab": {
          "base_uri": "https://localhost:8080/"
        },
        "outputId": "e46c3bef-07be-484e-fd5b-48a87ba76b96"
      },
      "source": [
        "n= input('Digite o nome do funcionário :')\r\n",
        "sal= float(input('Digite o salario do funcionário : R$ '))\r\n",
        "novo = sal + (sal*15/100)\r\n",
        "print ('O salario do funcionário {} é R$ {:.2f} com 15% de aumento eles passara a receber R$ {:.2f}'.format (n,sal,novo))"
      ],
      "execution_count": 8,
      "outputs": [
        {
          "output_type": "stream",
          "text": [
            "Digite o nome do funcionário :Carlos \n",
            "Digite o salario do funcionário : R$ 1500.00\n",
            "O salario do funcionário Carlos  é R$ 1500.00 com 15% de aumento eles passara a receber R$ 1725.00\n"
          ],
          "name": "stdout"
        }
      ]
    },
    {
      "cell_type": "code",
      "metadata": {
        "id": "7TmmfbqKkQwC",
        "outputId": "2a7a1b4b-0921-4902-9837-7ed2db1a6a51",
        "colab": {
          "base_uri": "https://localhost:8080/"
        }
      },
      "source": [
        "n= input ('Digite o nome do funcionario : ')\r\n",
        "sal = float (input('digite o salario dd funcionario : R$'  ))\r\n",
        "novo = sal + (sal*15/100)\r\n",
        "print ('O salario do funcionario {} e de R$ {} com 15% ele passara receber R$ {}'.format (n,sal,novo))"
      ],
      "execution_count": 7,
      "outputs": [
        {
          "output_type": "stream",
          "text": [
            "Digite o nome do funcionario : samuel \n",
            "digite o salario dd funcionario : R$1500\n",
            "O salario do funcionario samuel  e de R$ 1500.0 com 15% ele passara receber R$ 1725.0\n"
          ],
          "name": "stdout"
        }
      ]
    },
    {
      "cell_type": "code",
      "metadata": {
        "id": "eu6wbbNUU5eX",
        "outputId": "0e263a3a-469e-42d7-9b4a-aca7fc9dec03",
        "colab": {
          "base_uri": "https://localhost:8080/"
        }
      },
      "source": [
        "n = input ('Digite o nome do funcionario : ')\r\n",
        "sal= float(input('Digite o salario do fucionario :  R$ '))\r\n",
        "novo = sal + (sal*15/100)\r\n",
        "print ('O salario atual do funcionario {} e de {} , com o aumentos de 15% ele passsara receber {}'.format(n,sal,novo))"
      ],
      "execution_count": 10,
      "outputs": [
        {
          "output_type": "stream",
          "text": [
            "Digite o nome do funcionario : Samuel \n",
            "Digite o salario do fucionario :  R$ 1500.00\n",
            "O salario atual do funcionario Samuel  e de 1500.0 , com o aumentos de 15% ele passsara receber 1725.0\n"
          ],
          "name": "stdout"
        }
      ]
    },
    {
      "cell_type": "code",
      "metadata": {
        "id": "dm7g6UzyWH0q"
      },
      "source": [
        ""
      ],
      "execution_count": null,
      "outputs": []
    },
    {
      "cell_type": "code",
      "metadata": {
        "id": "GiSj5FFsWIAb"
      },
      "source": [
        ""
      ],
      "execution_count": null,
      "outputs": []
    },
    {
      "cell_type": "code",
      "metadata": {
        "id": "bZlDnIPCWIBe"
      },
      "source": [
        ""
      ],
      "execution_count": null,
      "outputs": []
    },
    {
      "cell_type": "code",
      "metadata": {
        "id": "NUKhEE_dWIDf"
      },
      "source": [
        ""
      ],
      "execution_count": null,
      "outputs": []
    },
    {
      "cell_type": "code",
      "metadata": {
        "id": "y8ExJ46vWIGd",
        "outputId": "2766e5ef-a8fe-4158-83e7-f1d16915e7df",
        "colab": {
          "base_uri": "https://localhost:8080/"
        }
      },
      "source": [
        "nome = input ('Digite o nome do funcionario :  ')\r\n",
        "sobre = input ('Digite o sobrenome :  ')\r\n",
        "anonasc = int(input('Digite o ano de nascimento :  '))\r\n",
        "anoatual = int(input('Digite o ano atual : '))\r\n",
        "idade = anoatual- anonasc\r\n",
        "sal = float(input('Digite o salario do funcionario : '))\r\n",
        "novo = sal + (sal*20/100)\r\n",
        "print ('Ola {} seu sobrenome e {} (Muito bonito), sua idade e {} seu salario e de R$ {} e passara ganhar {} com  15% de aumento'.format(nome,sobre,idade,sal,novo))"
      ],
      "execution_count": 15,
      "outputs": [
        {
          "output_type": "stream",
          "text": [
            "Digite o nome do funcionario :  Fernando\n",
            "Digite o sobrenome :  Tercero \n",
            "Digite o ano de nascimento :  2018\n",
            "Digite o ano atual : 2021\n",
            "Digite o salario do funcionario : 1500.00\n",
            "Ola Fernando seu sobrenome e Tercero  (Muito bonito), sua idade e 3 seu salario e de R$ 1500.0 e passara ganhar 1800.0 com  15% de aumento\n"
          ],
          "name": "stdout"
        }
      ]
    },
    {
      "cell_type": "code",
      "metadata": {
        "id": "KjBlSS2VYgYY"
      },
      "source": [
        ""
      ],
      "execution_count": null,
      "outputs": []
    }
  ]
}