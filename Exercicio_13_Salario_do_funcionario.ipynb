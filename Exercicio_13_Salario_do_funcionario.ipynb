{
  "nbformat": 4,
  "nbformat_minor": 0,
  "metadata": {
    "colab": {
      "name": "Exercicio_13_Salario_do_funcionario.ipynb",
      "provenance": [],
      "collapsed_sections": [],
      "include_colab_link": true
    },
    "kernelspec": {
      "name": "python3",
      "display_name": "Python 3"
    }
  },
  "cells": [
    {
      "cell_type": "markdown",
      "metadata": {
        "id": "view-in-github",
        "colab_type": "text"
      },
      "source": [
        "<a href=\"https://colab.research.google.com/github/samucale/CURSO.PYTHON.PROF.GUSTAVO-GUANABARA/blob/main/Exercicio_13_Salario_do_funcionario.ipynb\" target=\"_parent\"><img src=\"https://colab.research.google.com/assets/colab-badge.svg\" alt=\"Open In Colab\"/></a>"
      ]
    },
    {
      "cell_type": "markdown",
      "metadata": {
        "id": "gWIrY4rlenne"
      },
      "source": [
        "*Faça um algoritmo que leia o salario de um funcionario e mostre seu novo salario, com 15% de aumento.*"
      ]
    },
    {
      "cell_type": "code",
      "metadata": {
        "id": "QlOq94xae6vR",
        "colab": {
          "base_uri": "https://localhost:8080/"
        },
        "outputId": "1d5a3d6c-b720-41cf-a1b2-2ce90c7dd904"
      },
      "source": [
        "n= input('Digite o nome do funcionário :')\r\n",
        "sal= float(input('Digite o salario do funcionário : R$ '))\r\n",
        "novo = sal + (sal*15/100)\r\n",
        "print ('O salario do funcionário {} é R$ {:.2f} com 15% de aumento eles passara a receber R$ {:.2f}'.format (n,sal,novo))"
      ],
      "execution_count": 12,
      "outputs": [
        {
          "output_type": "stream",
          "text": [
            "Digite o nome do funcionário :Samuel\n",
            "Digite o salario do funcionário : R$ 3000.00\n",
            "O salario do funcionário Samuel é R$ 3000.00 com 15% de aumento eles passara a receber R$ 3450.00\n"
          ],
          "name": "stdout"
        }
      ]
    },
    {
      "cell_type": "code",
      "metadata": {
        "id": "7TmmfbqKkQwC"
      },
      "source": [
        ""
      ],
      "execution_count": 12,
      "outputs": []
    }
  ]
}