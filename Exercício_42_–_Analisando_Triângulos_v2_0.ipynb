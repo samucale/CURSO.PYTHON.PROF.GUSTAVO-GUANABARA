{
  "nbformat": 4,
  "nbformat_minor": 0,
  "metadata": {
    "colab": {
      "name": "Exercício 42 – Analisando Triângulos v2.0",
      "provenance": [],
      "authorship_tag": "ABX9TyOIZgVzCofKBGOTvbCypNbc",
      "include_colab_link": true
    },
    "kernelspec": {
      "name": "python3",
      "display_name": "Python 3"
    },
    "language_info": {
      "name": "python"
    }
  },
  "cells": [
    {
      "cell_type": "markdown",
      "metadata": {
        "id": "view-in-github",
        "colab_type": "text"
      },
      "source": [
        "<a href=\"https://colab.research.google.com/github/samucale/Curso-em-vd-Python/blob/main/Exerc%C3%ADcio_42_%E2%80%93_Analisando_Tri%C3%A2ngulos_v2_0.ipynb\" target=\"_parent\"><img src=\"https://colab.research.google.com/assets/colab-badge.svg\" alt=\"Open In Colab\"/></a>"
      ]
    },
    {
      "cell_type": "markdown",
      "metadata": {
        "id": "gq4wznNAX1Fs"
      },
      "source": [
        "**Refaça o DESAFIO 35 dos triângulos, acrescentando o recurso de mostrar que tipo de triângulo será formado:\n",
        "\n",
        "– EQUILÁTERO: todos os lados iguais\n",
        "\n",
        "– ISÓSCELES: dois lados iguais, um diferente\n",
        "\n",
        "– ESCALENO: todos os lados diferentes**"
      ]
    },
    {
      "cell_type": "code",
      "metadata": {
        "id": "tdmQmiOsX8ZN"
      },
      "source": [
        ""
      ],
      "execution_count": null,
      "outputs": []
    }
  ]
}