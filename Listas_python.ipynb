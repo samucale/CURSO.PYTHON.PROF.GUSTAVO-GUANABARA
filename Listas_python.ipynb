{
 "cells": [
  {
   "cell_type": "markdown",
   "metadata": {
    "colab_type": "text",
    "id": "view-in-github"
   },
   "source": [
    "<a href=\"https://colab.research.google.com/github/samucale/CURSO.PYTHON.PROF.GUSTAVO-GUANABARA/blob/main/Listas_python.ipynb\" target=\"_parent\"><img src=\"https://colab.research.google.com/assets/colab-badge.svg\" alt=\"Open In Colab\"/></a>"
   ]
  },
  {
   "cell_type": "code",
   "execution_count": 5,
   "metadata": {
    "colab": {
     "base_uri": "https://localhost:8080/"
    },
    "id": "05Z3-6aKJN3w",
    "outputId": "b0b6201f-53a5-4565-8902-8d3e0f061203"
   },
   "outputs": [
    {
     "name": "stdout",
     "output_type": "stream",
     "text": [
      "bianca\n"
     ]
    }
   ],
   "source": [
    "filhos = ['bianca','henrique','Fernando']\n",
    "print(filhos[0])"
   ]
  },
  {
   "cell_type": "code",
   "execution_count": null,
   "metadata": {
    "colab": {
     "base_uri": "https://localhost:8080/"
    },
    "id": "unQa8D8wJkIc",
    "outputId": "889f972d-f01e-48e6-c271-cb7366e674ed"
   },
   "outputs": [],
   "source": [
    "filhos=['bianca','henrique','fernando']\n",
    "mensagemb =('minha filha mais velha é :')+ filhos[0] .title ()\n",
    "mensagemh =('mue filho mais bravo é :')+ filhos[1].title()\n",
    "mensagemf = ('meu filho gut gut é o :') + filhos[2].title()\n",
    "\n",
    "print (mensagemb)\n",
    "print (mensagemh)\n",
    "print (mensagemf)\n",
    "#Nesse exercicio conseguimos criar uma lista ,acessar cada item da lista e inserir uma mensagem#\n"
   ]
  },
  {
   "cell_type": "code",
   "execution_count": null,
   "metadata": {
    "colab": {
     "base_uri": "https://localhost:8080/"
    },
    "id": "eYMoQ9V5HBh2",
    "outputId": "cf97d684-c5dd-44d0-f4c8-cc915eb34cd1"
   },
   "outputs": [],
   "source": [
    "motos = ['suzuki','honda','harley','yamaha']\n",
    "popped_motos = motos.pop()\n",
    "print(motos)\n",
    "print(popped_motos)\n",
    "#nesse metod conseguimos excluir um item da lista imprimir e mostrar que ainda temos acesso ao item removido#"
   ]
  },
  {
   "cell_type": "code",
   "execution_count": 7,
   "metadata": {
    "colab": {
     "base_uri": "https://localhost:8080/"
    },
    "id": "2CTQ2nmJTY72",
    "outputId": "830bcc4e-a7a6-4650-a803-b7a88e5a0114"
   },
   "outputs": [
    {
     "name": "stdout",
     "output_type": "stream",
     "text": [
      "['suzuki', 'honda', 'harley', 'yamaha', 'amazona']\n"
     ]
    }
   ],
   "source": [
    "motos= ['suzuki','honda','harley','yamaha']\n",
    "motos.append('amazona')\n",
    "print(motos)\n",
    "#nesse metodo conseguimos incluir mais itens na nossa lista#"
   ]
  },
  {
   "cell_type": "code",
   "execution_count": null,
   "metadata": {
    "colab": {
     "base_uri": "https://localhost:8080/"
    },
    "id": "ba1ArdlnTs7p",
    "outputId": "ffa55578-972f-4ed0-9660-1b527316d0a2"
   },
   "outputs": [],
   "source": [
    "motos =['suzuki','honda','harley','yamaha','amazonas']\r\n",
    "motos.remove('amazonas')\r\n",
    "print(motos)\r\n",
    "#nesse metodo conseguimos removr um item da lista#"
   ]
  },
  {
   "cell_type": "code",
   "execution_count": 8,
   "metadata": {
    "colab": {
     "base_uri": "https://localhost:8080/"
    },
    "id": "tZ6bmmcBcoNa",
    "outputId": "d434253e-89c5-4d55-92ea-d64ea179e767"
   },
   "outputs": [
    {
     "name": "stdout",
     "output_type": "stream",
     "text": [
      "['suzuki', 'honda', 'harley', 'yamaha', 'amazonas']\n",
      "['suzuki', 'honda', 'harley', 'yamaha']\n",
      "a moto amazonas é muito cara para mim\n"
     ]
    }
   ],
   "source": [
    "motos=['suzuki','honda','harley','yamaha','amazonas']\n",
    "print(motos)\n",
    "caro='amazonas'\n",
    "motos.remove(caro)\n",
    "print(motos)\n",
    "print('a moto {} é muito cara para mim'.format(caro))\n",
    "\n",
    "#Nesse meodo removemos um item da lista e no final justificamos sua ausencia#\n"
   ]
  },
  {
   "cell_type": "markdown",
   "metadata": {
    "id": "Yu2NLZpdWwWk"
   },
   "source": [
    "**SE VOCÊ PODESE CONVIDAR ALGUEM,VIVO OU MORTO PAA UM JNTAR QUEM VOC~E CONVIDARIA ?CRIE UMA LISTA QUE INCLUA PELO MENOS TRES PESSOAS QUE VOCÊ GOSTARIA DE CONVIDAR PARA O JANTAR , EM SEGUIDA , ULTIZE SUA LISTA PARA EXIBIR UMA MENSAGEM PARA CADA PESSOA,CONVIDANDO PARA O JANTAR.**"
   ]
  },
  {
   "cell_type": "code",
   "execution_count": null,
   "metadata": {
    "colab": {
     "base_uri": "https://localhost:8080/"
    },
    "id": "-VLe5dW4WGtF",
    "outputId": "8c901705-49a3-4154-fab7-a74397e9184f"
   },
   "outputs": [],
   "source": [
    "jantar=['king','elvis','bob']\r\n",
    "nome1=('king')\r\n",
    "nome2=('elvis')\r\n",
    "nome3=('bob')\r\n",
    "print('ola {} sera um prazer em jantar com você'.format(nome1))\r\n",
    "print('ola {} sera um prazer em jantar com você'.format(nome2))\r\n",
    "print('Ola {} sera um prazer em jantar com você'.format(nome3))\r\n"
   ]
  },
  {
   "cell_type": "markdown",
   "metadata": {
    "id": "-2LnWHKxavp2"
   },
   "source": [
    "**VOCER A ACABOU DE SABER QUE UM DOS CONVIDADOS NÃO PODERÁ COMPARECER AO JANTA,PORTANTO SERA NECESSARIO ENVIAR UM NOVO CONJUNTO DE CONVITES.VOCE DEVERA PENSAR EM OUTRA PESSOA PARA CONVIDAR**\r\n",
    "\r\n",
    "*INCLUA NO FINAL DA LISTA O NOME DO CONVIDADO QUE NÃO COMPRARECERÁ*\r\n",
    "\r\n",
    "*MODIFIQUE SUA LISTA SUBSTITUINDO O NOME DO CONVIDADO QUE NÃO NÃO PODERA COMPARECER PELO NOME DO NOVO CONVIDADO*\r\n",
    "\r\n",
    "*EXIBA UM SEGUNDO CONJUNTO DE DE MENSAGEM COM CONVITE , UMA PARA CADA PESSOA QUE CONTINUA PRESENTE NA LISTA*\r\n",
    "\r\n"
   ]
  },
  {
   "cell_type": "code",
   "execution_count": null,
   "metadata": {
    "colab": {
     "base_uri": "https://localhost:8080/"
    },
    "id": "Rj9baeCkceKY",
    "outputId": "28ff5969-25d4-4e2c-8065-0f499e75417c"
   },
   "outputs": [],
   "source": [
    "jantar=['king','elvis','bob']\r\n",
    "ausente='king'\r\n",
    "jantar.remove(ausente)\r\n",
    "print('O CONDIDADO {} NÃO PODERA COMPRARECER AO NOSSO JANTAR'.format(ausente))\r\n",
    "jantar.append('chuck')\r\n",
    "novo=('chuck')\r\n",
    "print('O NOME DE {} FOI SUBSTITUIDO PELO CONVIDADO {}'.format(ausente,novo))\r\n",
    "n1=('elvis')\r\n",
    "n2=('bob')\r\n",
    "n3=('chuck')\r\n",
    "print('ola {} é com muito prazer que eu covido para um belo jantar'.format(n1))\r\n",
    "print('ola {} é com muito prazer que eu convid para um belo jantar'.format(n2))\r\n",
    "print('ola {} é com muito prazer que eu convido para um belo jantar'.format(n3))\r\n"
   ]
  },
  {
   "cell_type": "code",
   "execution_count": 1,
   "metadata": {
    "colab": {
     "base_uri": "https://localhost:8080/"
    },
    "id": "EIT4ypT2hNJy",
    "outputId": "a5332ddb-7b0a-43d1-cb84-309242bc216e"
   },
   "outputs": [
    {
     "name": "stdout",
     "output_type": "stream",
     "text": [
      "ola elvis é com muito prazer que eu te convdo para um belo jantar\n",
      "Ola bob é com muito prazer que eu te convido para um belo jantar\n",
      "ola chuck é com muito prazer que eu te convido para um belo jantar\n"
     ]
    }
   ],
   "source": [
    "jantar=['elvis','bob','chuck']\r\n",
    "n1=('elvis')\r\n",
    "n2=('bob')\r\n",
    "n3=('chuck')\r\n",
    "print('ola {} é com muito prazer que eu te convdo para um belo jantar'.format(n1))\r\n",
    "print('Ola {} é com muito prazer que eu te convido para um belo jantar'.format(n2))\r\n",
    "print('ola {} é com muito prazer que eu te convido para um belo jantar'.format(n3))\r\n"
   ]
  },
  {
   "cell_type": "code",
   "execution_count": 5,
   "metadata": {
    "id": "hwUikbPIkiJ2"
   },
   "outputs": [
    {
     "name": "stdout",
     "output_type": "stream",
     "text": [
      "['audi', 'bmw', 'subaru', 'toyota']\n"
     ]
    }
   ],
   "source": [
    "#ODENANDO A LISTA COM O METODO SORT()\n",
    "\n",
    "carros = ['bmw','audi','toyota','subaru']\n",
    "carros.sort ()\n",
    "print(carros)"
   ]
  },
  {
   "cell_type": "code",
   "execution_count": 11,
   "metadata": {},
   "outputs": [
    {
     "name": "stdout",
     "output_type": "stream",
     "text": [
      "Essa lista é a original:\n",
      "['bmw', 'audi', 'toyota', 'subaru']\n",
      "\n",
      "Essa lista é sorteada:\n",
      "['audi', 'bmw', 'subaru', 'toyota']\n",
      "\n",
      "Essa lista é a original novamente\n",
      "['bmw', 'audi', 'toyota', 'subaru']\n"
     ]
    }
   ],
   "source": [
    "#ORDENANDO A LISTA EM ORDEM ALFABETICA REVERSA\n",
    "\n",
    "carros = ['bmw','audi','toyota','subaru']\n",
    "print ('Essa lista é a original:')\n",
    "print (carros)\n",
    "print ('\\nEssa lista é sorteada:')\n",
    "print(sorted(carros))\n",
    "print ('\\nEssa lista é a original novamente')\n",
    "print(carros)\n",
    "\n"
   ]
  },
  {
   "cell_type": "code",
   "execution_count": 13,
   "metadata": {},
   "outputs": [
    {
     "name": "stdout",
     "output_type": "stream",
     "text": [
      "['bmw', 'audi', 'toyota', 'subaru']\n",
      "['subaru', 'toyota', 'audi', 'bmw']\n"
     ]
    }
   ],
   "source": [
    "# INVETENDO A ORDEM DA LISTA COM O METODO (REVERSE)\n",
    "\n",
    "\n",
    "carros = ['bmw','audi','toyota','subaru']\n",
    "print(carros)\n",
    "carros.reverse()\n",
    "print(carros)"
   ]
  },
  {
   "cell_type": "code",
   "execution_count": 14,
   "metadata": {},
   "outputs": [
    {
     "data": {
      "text/plain": [
       "4"
      ]
     },
     "execution_count": 14,
     "metadata": {},
     "output_type": "execute_result"
    }
   ],
   "source": [
    "# DESCOBRINDO O TAMANHO DA LISTA COM O METODO (LEN)\n",
    "\n",
    "carros =['bmw','audi','toyota','subaru']\n",
    "len(carros)"
   ]
  },
  {
   "cell_type": "code",
   "execution_count": null,
   "metadata": {},
   "outputs": [],
   "source": []
  },
  {
   "cell_type": "code",
   "execution_count": null,
   "metadata": {},
   "outputs": [],
   "source": []
  }
 ],
 "metadata": {
  "colab": {
   "authorship_tag": "ABX9TyPhHXqtBH0T6s9ZvL8A8PM/",
   "include_colab_link": true,
   "name": "Listas python",
   "provenance": []
  },
  "kernelspec": {
   "display_name": "Python 3",
   "language": "python",
   "name": "python3"
  },
  "language_info": {
   "codemirror_mode": {
    "name": "ipython",
    "version": 3
   },
   "file_extension": ".py",
   "mimetype": "text/x-python",
   "name": "python",
   "nbconvert_exporter": "python",
   "pygments_lexer": "ipython3",
   "version": "3.8.5"
  }
 },
 "nbformat": 4,
 "nbformat_minor": 4
}
