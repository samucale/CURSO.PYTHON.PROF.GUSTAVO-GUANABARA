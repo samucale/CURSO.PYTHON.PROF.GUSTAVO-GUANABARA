{
  "nbformat": 4,
  "nbformat_minor": 0,
  "metadata": {
    "colab": {
      "name": "Exercício 44 – Gerenciador de Pagamentos",
      "provenance": [],
      "authorship_tag": "ABX9TyPNmXNviPYZcF53WrfQYDD9",
      "include_colab_link": true
    },
    "kernelspec": {
      "name": "python3",
      "display_name": "Python 3",
      "language": "python"
    },
    "language_info": {
      "name": "python",
      "version": "3.8.5-final"
    }
  },
  "cells": [
    {
      "cell_type": "markdown",
      "metadata": {
        "id": "view-in-github",
        "colab_type": "text"
      },
      "source": [
        "<a href=\"https://colab.research.google.com/github/samucale/Curso-em-vd-Python/blob/main/Exerc%C3%ADcio_44_%E2%80%93_Gerenciador_de_Pagamentos.ipynb\" target=\"_parent\"><img src=\"https://colab.research.google.com/assets/colab-badge.svg\" alt=\"Open In Colab\"/></a>"
      ]
    },
    {
      "cell_type": "markdown",
      "metadata": {
        "id": "0nm5vX4-Yztl"
      },
      "source": [
        "**Elabore um programa que calcule o valor a ser pago por um produto, considerando o seu preço normal e condição de pagamento:\n",
        "\n",
        "– à vista dinheiro/cheque: 10% de desconto\n",
        "\n",
        "– à vista no cartão: 5% de desconto\n",
        "\n",
        "– em até 2x no cartão: preço formal \n",
        "\n",
        "– 3x ou mais no cartão: 20% de juros**"
      ]
    },
    {
      "source": [
        "RETORNOR AQUI............"
      ],
      "cell_type": "markdown",
      "metadata": {}
    },
    {
      "cell_type": "code",
      "execution_count": 4,
      "metadata": {},
      "outputs": [
        {
          "output_type": "stream",
          "name": "stdout",
          "text": [
            "FORMAS DE PAGAMENTOS\n",
            "[1] á vista dinheiro/cheque\n",
            "[2] á vista no cartão\n",
            "[3] 2 x no cartão o preço sera normal\n",
            "[4] 3 x ou mais no cartão\n",
            "\n",
            "Sua compra sera parcelada em 2x de R$ 60.00 com juros\n",
            "Suas compra de R$ 100.00 vai custar R$ 100.00 no final\n"
          ]
        }
      ],
      "source": [
        "preço = float(input('Digite o valor da compra'))\n",
        "print('''FORMAS DE PAGAMENTOS\n",
        "[1] á vista dinheiro/cheque\n",
        "[2] á vista no cartão\n",
        "[3] 2 x no cartão o preço sera normal\n",
        "[4] 3 x ou mais no cartão\n",
        "''')\n",
        "opcao = int(input('Qual a condição de pagamento : '))\n",
        "if opcao ==1 : \n",
        "    total = preço -(preço * 10/100)  \n",
        "\n",
        "elif opcao ==2 :\n",
        "    total = preço - (preço * 5/100)\n",
        "elif opcao==3 : \n",
        "    total=preço \n",
        "    parcela =total / 2 \n",
        "    print ('Sua compra sera parcelada em 2 x de R$ {} reais '.format(parcela))\n",
        "elif opcao ==4:\n",
        "    total = preço + (preço * 20/100)\n",
        "    totalparc = int(input('Quantas parcelas ?'))\n",
        "    p\n",
        "    totaarcela = total / totalparcl = preço\n",
        "    print ('Sua compra sera parcelada em {}x de R$ {:.2F} com juros'.format(totalparc,parcela))\n",
        "print ('Suas compra de R$ {:.2f} vai custar R$ {:.2f} no final'.format(preço,total))    \n",
        "\n",
        "\n",
        "\n",
        "\n"
      ]
    },
    {
      "cell_type": "code",
      "execution_count": null,
      "metadata": {},
      "outputs": [],
      "source": []
    }
  ]
}