{
  "nbformat": 4,
  "nbformat_minor": 0,
  "metadata": {
    "colab": {
      "name": "Exercício 44 – Gerenciador de Pagamentos",
      "provenance": [],
      "authorship_tag": "ABX9TyPNmXNviPYZcF53WrfQYDD9",
      "include_colab_link": true
    },
    "kernelspec": {
      "name": "python3",
      "display_name": "Python 3"
    },
    "language_info": {
      "name": "python"
    }
  },
  "cells": [
    {
      "cell_type": "markdown",
      "metadata": {
        "id": "view-in-github",
        "colab_type": "text"
      },
      "source": [
        "<a href=\"https://colab.research.google.com/github/samucale/Curso-em-vd-Python/blob/main/Exerc%C3%ADcio_44_%E2%80%93_Gerenciador_de_Pagamentos.ipynb\" target=\"_parent\"><img src=\"https://colab.research.google.com/assets/colab-badge.svg\" alt=\"Open In Colab\"/></a>"
      ]
    },
    {
      "cell_type": "markdown",
      "metadata": {
        "id": "0nm5vX4-Yztl"
      },
      "source": [
        "**Elabore um programa que calcule o valor a ser pago por um produto, considerando o seu preço normal e condição de pagamento:\n",
        "\n",
        "– à vista dinheiro/cheque: 10% de desconto\n",
        "\n",
        "– à vista no cartão: 5% de desconto\n",
        "\n",
        "– em até 2x no cartão: preço formal \n",
        "\n",
        "– 3x ou mais no cartão: 20% de juros**"
      ]
    },
    {
      "cell_type": "code",
      "metadata": {
        "id": "p4Ztuon6Y4ak"
      },
      "source": [
        ""
      ],
      "execution_count": null,
      "outputs": []
    }
  ]
}