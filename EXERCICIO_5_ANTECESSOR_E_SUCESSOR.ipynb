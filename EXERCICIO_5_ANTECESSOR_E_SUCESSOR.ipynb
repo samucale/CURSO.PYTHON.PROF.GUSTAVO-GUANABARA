{
  "nbformat": 4,
  "nbformat_minor": 0,
  "metadata": {
    "colab": {
      "name": "EXERCICIO 5 ANTECESSOR E SUCESSOR",
      "provenance": [],
      "mount_file_id": "1Xf8Dq-l8lOnAW4vX9XAUWELOHgd8c7B_",
      "authorship_tag": "ABX9TyP31zoqfqI8vE+lFWT5CUK6",
      "include_colab_link": true
    },
    "kernelspec": {
      "name": "python3",
      "display_name": "Python 3",
      "language": "python"
    }
  },
  "cells": [
    {
      "cell_type": "markdown",
      "metadata": {
        "id": "view-in-github",
        "colab_type": "text"
      },
      "source": [
        "<a href=\"https://colab.research.google.com/github/samucale/CURSO.PYTHON.PROF.GUSTAVO-GUANABARA/blob/main/EXERCICIO_5_ANTECESSOR_E_SUCESSOR.ipynb\" target=\"_parent\"><img src=\"https://colab.research.google.com/assets/colab-badge.svg\" alt=\"Open In Colab\"/></a>"
      ]
    },
    {
      "cell_type": "markdown",
      "metadata": {
        "id": "Ori2eIF9CimK"
      },
      "source": [
        "**EXERCICIO 5 ANTECESSOR E SUCESSOR**"
      ]
    },
    {
      "cell_type": "code",
      "metadata": {
        "colab": {
          "base_uri": "https://localhost:8080/"
        },
        "id": "wI8sLhxNCLjV",
        "outputId": "bcfa1397-d601-4d57-efcf-8ec3aefe65bb"
      },
      "source": [
        "n= int(input('digite um numero :'))\n",
        "\n",
        "print ('Analisando o valor {} seu antecessor é {} e seu sucessor é {}'.format (n,(n-1),(n+1)))\n"
      ],
      "execution_count": 1,
      "outputs": [
        {
          "output_type": "stream",
          "name": "stdout",
          "text": [
            "Analisando o valor 10 seu antecessor é 9 e seu sucessor é 11\n"
          ]
        }
      ]
    },
    {
      "cell_type": "markdown",
      "metadata": {
        "id": "Y5VqTNr7CcH9"
      },
      "source": []
    }
  ]
}