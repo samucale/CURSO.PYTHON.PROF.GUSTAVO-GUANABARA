{
  "nbformat": 4,
  "nbformat_minor": 0,
  "metadata": {
    "colab": {
      "name": "Exercicio_12_Desconto_do_produto.ipynb",
      "provenance": [],
      "collapsed_sections": [],
      "include_colab_link": true
    },
    "kernelspec": {
      "name": "python3",
      "display_name": "Python 3"
    }
  },
  "cells": [
    {
      "cell_type": "markdown",
      "metadata": {
        "id": "view-in-github",
        "colab_type": "text"
      },
      "source": [
        "<a href=\"https://colab.research.google.com/github/samucale/CURSO.PYTHON.PROF.GUSTAVO-GUANABARA/blob/main/Exercicio_12_Desconto_do_produto.ipynb\" target=\"_parent\"><img src=\"https://colab.research.google.com/assets/colab-badge.svg\" alt=\"Open In Colab\"/></a>"
      ]
    },
    {
      "cell_type": "markdown",
      "metadata": {
        "id": "VnLkwfAEd7tl"
      },
      "source": [
        "*Faça um algoritmo que leia o preço de um produto e mostre seu novo preço, com 5% de desconto*"
      ]
    },
    {
      "cell_type": "code",
      "metadata": {
        "id": "oRLWABv3eNh8",
        "colab": {
          "base_uri": "https://localhost:8080/"
        },
        "outputId": "d31a1488-5030-48b6-860d-7ab299e75323"
      },
      "source": [
        "preço = float(input('Digite o valor do produto R$ '))\r\n",
        "novo =  preço - (preço *5/100)\r\n",
        "print ('O produto com o valor de R$ {:.2f} sairá por R$ {:.2f} com 5% de desconto'.format (preço,novo))"
      ],
      "execution_count": null,
      "outputs": [
        {
          "output_type": "stream",
          "text": [
            "Digite o valor do produto R$ 50.00\n",
            "O produto com o valor de R$ 50.00 sairá por R$ 47.50 com 5% de desconto\n"
          ],
          "name": "stdout"
        }
      ]
    },
    {
      "cell_type": "code",
      "metadata": {
        "id": "flY9JL9LEj2c"
      },
      "source": [
        ""
      ],
      "execution_count": null,
      "outputs": []
    },
    {
      "cell_type": "code",
      "metadata": {
        "id": "dyigHjqAEj8o",
        "outputId": "6fca0a2d-3e8a-49df-dcf2-2214260b77d1",
        "colab": {
          "base_uri": "https://localhost:8080/"
        }
      },
      "source": [
        "preço = float(input('Digite o valor do produto : R$ '))\r\n",
        "atual = preço - (preço *5/100)\r\n",
        "print('O valor atual e de {},o valor sera de {} com 5% de desconto'.format(preço,atual))\r\n"
      ],
      "execution_count": 5,
      "outputs": [
        {
          "output_type": "stream",
          "text": [
            "Digite o valor do produto : R$ 100.00\n",
            "O valor atual e de 100.0,o valor sera de 95.0 com 5% de desconto\n"
          ],
          "name": "stdout"
        }
      ]
    },
    {
      "cell_type": "code",
      "metadata": {
        "id": "R0KKiD2NGFJg",
        "outputId": "c790d0f0-8f6c-42ad-c14e-5e546075b118",
        "colab": {
          "base_uri": "https://localhost:8080/"
        }
      },
      "source": [
        "preçoatual= float(input('Digite o valor atual : R$ '))\r\n",
        "desconto = preçoatual - (preçoatual *5/100)\r\n",
        "print ('O valor atual do produto e de {} , com 5 % de desconto ele passara ter o valor de R$ {}'.format(preçoatual,desconto))"
      ],
      "execution_count": 6,
      "outputs": [
        {
          "output_type": "stream",
          "text": [
            "Digite o valor atual : R$ 1000.00\n",
            "O valor atual do produto e de 1000.0 , com 5 % de desconto ele passara ter o valor de R$ 950.0\n"
          ],
          "name": "stdout"
        }
      ]
    },
    {
      "cell_type": "code",
      "metadata": {
        "id": "axauy3mrEkAC",
        "outputId": "fdaecf05-9f23-47c1-e1bd-c78e758040f3",
        "colab": {
          "base_uri": "https://localhost:8080/"
        }
      },
      "source": [
        "loja =float(input('Digite o valor da loja :R$ '))\r\n",
        "desconto = loja - (loja *5/100)\r\n",
        "print ('O valor atual do produto e de {} com o valor de 5 % ele passara ter o valor de R$ {}'.format(loja,desconto))"
      ],
      "execution_count": 9,
      "outputs": [
        {
          "output_type": "stream",
          "text": [
            "Digite o valor da loja :R$ 3000.00\n",
            "O valor atual do produto e de 3000.0 com o valor de 5 % ele passara ter o valor de R$ 2850.0\n"
          ],
          "name": "stdout"
        }
      ]
    },
    {
      "cell_type": "code",
      "metadata": {
        "id": "z0qzSmHEhSzU"
      },
      "source": [
        ""
      ],
      "execution_count": null,
      "outputs": []
    },
    {
      "cell_type": "code",
      "metadata": {
        "id": "aCxBq5e5IGGn"
      },
      "source": [
        ""
      ],
      "execution_count": null,
      "outputs": []
    },
    {
      "cell_type": "code",
      "metadata": {
        "id": "-38pBn__IGII"
      },
      "source": [
        ""
      ],
      "execution_count": null,
      "outputs": []
    },
    {
      "cell_type": "code",
      "metadata": {
        "id": "MntzKBi4IGTq"
      },
      "source": [
        ""
      ],
      "execution_count": null,
      "outputs": []
    },
    {
      "cell_type": "code",
      "metadata": {
        "id": "-FAm3Z0DIGUx"
      },
      "source": [
        ""
      ],
      "execution_count": null,
      "outputs": []
    },
    {
      "cell_type": "code",
      "metadata": {
        "id": "UX13U47LIGWG"
      },
      "source": [
        ""
      ],
      "execution_count": null,
      "outputs": []
    },
    {
      "cell_type": "code",
      "metadata": {
        "id": "ufp3f6NOIGYt",
        "outputId": "452787f9-6f78-474f-a928-90b44c14bc68",
        "colab": {
          "base_uri": "https://localhost:8080/"
        }
      },
      "source": [
        "valordaloja =float(input('Digite o valor do produto : R$ '))\r\n",
        "desconto = valordaloja - (valordaloja *5/100)\r\n",
        "print('O valor do produto e de R$ {} ele passara a custar R${} com o desconto de 5%'.format(valordaloja,desconto))"
      ],
      "execution_count": 10,
      "outputs": [
        {
          "output_type": "stream",
          "text": [
            "Digite o valor do produto : R$ 300.00\n",
            "O valor do produto e de R$ 300.0 ele passara a custar R$285.0 com o desconto de 5%\n"
          ],
          "name": "stdout"
        }
      ]
    },
    {
      "cell_type": "code",
      "metadata": {
        "id": "-hH1i1agIz7S"
      },
      "source": [
        ""
      ],
      "execution_count": null,
      "outputs": []
    }
  ]
}