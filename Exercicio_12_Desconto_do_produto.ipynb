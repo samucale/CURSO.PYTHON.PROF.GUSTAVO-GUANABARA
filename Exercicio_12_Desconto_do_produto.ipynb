{
  "nbformat": 4,
  "nbformat_minor": 0,
  "metadata": {
    "colab": {
      "name": "Exercicio_12_Desconto_do_produto.ipynb",
      "provenance": [],
      "collapsed_sections": [],
      "include_colab_link": true
    },
    "kernelspec": {
      "name": "python3",
      "display_name": "Python 3"
    }
  },
  "cells": [
    {
      "cell_type": "markdown",
      "metadata": {
        "id": "view-in-github",
        "colab_type": "text"
      },
      "source": [
        "<a href=\"https://colab.research.google.com/github/samucale/CURSO.PYTHON.PROF.GUSTAVO-GUANABARA/blob/main/Exercicio_12_Desconto_do_produto.ipynb\" target=\"_parent\"><img src=\"https://colab.research.google.com/assets/colab-badge.svg\" alt=\"Open In Colab\"/></a>"
      ]
    },
    {
      "cell_type": "markdown",
      "metadata": {
        "id": "VnLkwfAEd7tl"
      },
      "source": [
        "*Faça um algoritmo que leia o preço de um produto e mostre seu novo preço, com 5% de desconto*"
      ]
    },
    {
      "cell_type": "code",
      "metadata": {
        "id": "oRLWABv3eNh8",
        "colab": {
          "base_uri": "https://localhost:8080/"
        },
        "outputId": "d31a1488-5030-48b6-860d-7ab299e75323"
      },
      "source": [
        "preço = float(input('Digite o valor do produto R$ '))\r\n",
        "novo =  preço - (preço *5/100)\r\n",
        "print ('O produto com o valor de R$ {:.2f} sairá por R$ {:.2f} com 5% de desconto'.format (preço,novo))"
      ],
      "execution_count": 11,
      "outputs": [
        {
          "output_type": "stream",
          "text": [
            "Digite o valor do produto R$ 50.00\n",
            "O produto com o valor de R$ 50.00 sairá por R$ 47.50 com 5% de desconto\n"
          ],
          "name": "stdout"
        }
      ]
    },
    {
      "cell_type": "code",
      "metadata": {
        "id": "z0qzSmHEhSzU"
      },
      "source": [
        ""
      ],
      "execution_count": null,
      "outputs": []
    }
  ]
}