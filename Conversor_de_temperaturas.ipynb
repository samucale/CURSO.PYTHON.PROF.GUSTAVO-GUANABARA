{
  "nbformat": 4,
  "nbformat_minor": 0,
  "metadata": {
    "colab": {
      "name": "Conversor de temperaturas ",
      "provenance": [],
      "authorship_tag": "ABX9TyOsDEtEYw4QNqyCpm87vPCV",
      "include_colab_link": true
    },
    "kernelspec": {
      "name": "python3",
      "display_name": "Python 3"
    }
  },
  "cells": [
    {
      "cell_type": "markdown",
      "metadata": {
        "id": "view-in-github",
        "colab_type": "text"
      },
      "source": [
        "<a href=\"https://colab.research.google.com/github/samucale/CURSO.PYTHON.PROF.GUSTAVO-GUANABARA/blob/main/Conversor_de_temperaturas.ipynb\" target=\"_parent\"><img src=\"https://colab.research.google.com/assets/colab-badge.svg\" alt=\"Open In Colab\"/></a>"
      ]
    },
    {
      "cell_type": "markdown",
      "metadata": {
        "id": "UPH1BS9xzvNw"
      },
      "source": [
        "##EXERCICIO##\r\n"
      ]
    },
    {
      "cell_type": "code",
      "metadata": {
        "id": "ebZ8HSbfz9tq"
      },
      "source": [
        ""
      ],
      "execution_count": null,
      "outputs": []
    },
    {
      "cell_type": "code",
      "metadata": {
        "colab": {
          "base_uri": "https://localhost:8080/"
        },
        "id": "munzkzdQx1_S",
        "outputId": "83128a6d-2f81-4a12-ae86-7bc7bf5378d5"
      },
      "source": [
        "c= float (input(\"iforme a temperatura em 'c : \"))\r\n",
        "f= 9 * c / 5 + 32 \r\n",
        "print ('Atemepratura de {}  C corresponde a {} em \"f\" !'.format (c,f))"
      ],
      "execution_count": 1,
      "outputs": [
        {
          "output_type": "stream",
          "text": [
            "iforme a temperatura em 'c : 20\n",
            "Atemepratura de 20.0  C corresponde a 68.0 em \"f\" !\n"
          ],
          "name": "stdout"
        }
      ]
    },
    {
      "cell_type": "code",
      "metadata": {
        "id": "T0DeQYLYzquI"
      },
      "source": [
        ""
      ],
      "execution_count": null,
      "outputs": []
    }
  ]
}