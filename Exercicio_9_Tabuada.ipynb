{
  "cells": [
    {
      "cell_type": "markdown",
      "metadata": {
        "colab_type": "text",
        "id": "view-in-github"
      },
      "source": [
        "<a href=\"https://colab.research.google.com/github/samucale/CURSO.PYTHON.PROF.GUSTAVO-GUANABARA/blob/main/Exercicio_9_Tabuada.ipynb\" target=\"_parent\"><img src=\"https://colab.research.google.com/assets/colab-badge.svg\" alt=\"Open In Colab\"/></a>"
      ]
    },
    {
      "cell_type": "markdown",
      "metadata": {
        "id": "187Vf-W9aY6Z"
      },
      "source": [
        "*Faça um programa que leia um numero inteiro qualquer e mostre na tela a sua tabuada*"
      ]
    },
    {
      "cell_type": "code",
      "execution_count": 1,
      "metadata": {
        "colab": {
          "base_uri": "https://localhost:8080/"
        },
        "id": "2zaajOY2akUG",
        "outputId": "1a98fbc5-a35a-4da4-8674-4d76c41a04fb"
      },
      "outputs": [
        {
          "name": "stdout",
          "output_type": "stream",
          "text": [
            "____________\n",
            "2 x 1 = 2\n",
            "2 x 2 = 4\n",
            "2 x 3 = 6\n",
            "2 x 4 = 8\n",
            "2 x 5 = 10\n",
            "2 x 6 = 12\n",
            "2 x 7 = 14\n",
            "2 x 8 = 16\n",
            "2 x 9 = 18\n",
            "2 x 10 = 20\n",
            "____________\n"
          ]
        }
      ],
      "source": [
        "num = int(input('Digite um numero :'))\r\n",
        "print('_'*12)\r\n",
        "print('{} x {} = {}'.format(num,1,num*1))\r\n",
        "print('{} x {} = {}'.format(num,2,num*2))\r\n",
        "print('{} x {} = {}'.format(num,3,num*3))\r\n",
        "print('{} x {} = {}'.format(num,4,num*4))\r\n",
        "print('{} x {} = {}'.format(num,5,num*5))\r\n",
        "print('{} x {} = {}'.format(num,6,num*6))\r\n",
        "print('{} x {} = {}'.format(num,7,num*7))\r\n",
        "print('{} x {} = {}'.format(num,8,num*8))\r\n",
        "print('{} x {} = {}'.format(num,9,num*9))\r\n",
        "print('{} x {} = {}'.format(num,10,num*10))\r\n",
        "print ('_'*12)"
      ]
    },
    {
      "cell_type": "code",
      "execution_count": null,
      "metadata": {
        "id": "0JjOAnPJZaMB"
      },
      "outputs": [],
      "source": []
    }
  ],
  "metadata": {
    "colab": {
      "collapsed_sections": [],
      "include_colab_link": true,
      "name": "Exercicio_9_Tabuada.ipynb",
      "provenance": []
    },
    "kernelspec": {
      "display_name": "Python 3.8.5 64-bit (conda)",
      "name": "python385jvsc74a57bd0011ad2dedc57127ea8c83e989a76f073505c5db27349089d71c7b58aa3e2c9cf"
    },
    "language_info": {
      "codemirror_mode": {
        "name": "ipython",
        "version": 3
      },
      "file_extension": ".py",
      "mimetype": "text/x-python",
      "name": "python",
      "nbconvert_exporter": "python",
      "pygments_lexer": "ipython3",
      "version": "3.8.5"
    }
  },
  "nbformat": 4,
  "nbformat_minor": 0
}