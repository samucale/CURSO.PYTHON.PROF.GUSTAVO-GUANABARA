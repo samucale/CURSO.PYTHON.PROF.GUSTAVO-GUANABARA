{
  "nbformat": 4,
  "nbformat_minor": 0,
  "metadata": {
    "colab": {
      "name": "Exercicio_9_Tabuada.ipynb",
      "provenance": [],
      "collapsed_sections": [],
      "include_colab_link": true
    },
    "kernelspec": {
      "name": "python3",
      "display_name": "Python 3"
    }
  },
  "cells": [
    {
      "cell_type": "markdown",
      "metadata": {
        "id": "view-in-github",
        "colab_type": "text"
      },
      "source": [
        "<a href=\"https://colab.research.google.com/github/samucale/CURSO.PYTHON.PROF.GUSTAVO-GUANABARA/blob/main/Exercicio_9_Tabuada.ipynb\" target=\"_parent\"><img src=\"https://colab.research.google.com/assets/colab-badge.svg\" alt=\"Open In Colab\"/></a>"
      ]
    },
    {
      "cell_type": "markdown",
      "metadata": {
        "id": "187Vf-W9aY6Z"
      },
      "source": [
        "*Faça um programa que leia um numero inteiro qualquer e mostre na tela a sua tabuada*"
      ]
    },
    {
      "cell_type": "code",
      "metadata": {
        "id": "2zaajOY2akUG",
        "colab": {
          "base_uri": "https://localhost:8080/"
        },
        "outputId": "1a98fbc5-a35a-4da4-8674-4d76c41a04fb"
      },
      "source": [
        "num = int(input('Digite um numero :'))\r\n",
        "print('_'*12)\r\n",
        "print('{} x {} = {}'.format(num,1,num*1))\r\n",
        "print('{} x {} = {}'.format(num,2,num*2))\r\n",
        "print('{} x {} = {}'.format(num,3,num*3))\r\n",
        "print('{} x {} = {}'.format(num,4,num*4))\r\n",
        "print('{} x {} = {}'.format(num,5,num*5))\r\n",
        "print('{} x {} = {}'.format(num,6,num*6))\r\n",
        "print('{} x {} = {}'.format(num,7,num*7))\r\n",
        "print('{} x {} = {}'.format(num,8,num*8))\r\n",
        "print('{} x {} = {}'.format(num,9,num*9))\r\n",
        "print('{} x {} = {}'.format(num,10,num*10))\r\n",
        "print ('_'*12)"
      ],
      "execution_count": 5,
      "outputs": [
        {
          "output_type": "stream",
          "text": [
            "Digite um numero :2\n",
            "____________\n",
            "2 x 1 = 2\n",
            "2 x 2 = 4\n",
            "2 x 3 = 6\n",
            "2 x 4 = 8\n",
            "2 x 5 = 10\n",
            "2 x 6 = 12\n",
            "2 x 7 = 14\n",
            "2 x 8 = 16\n",
            "2 x 9 = 18\n",
            "2 x 10 = 20\n",
            "____________\n"
          ],
          "name": "stdout"
        }
      ]
    },
    {
      "cell_type": "code",
      "metadata": {
        "id": "0JjOAnPJZaMB"
      },
      "source": [
        ""
      ],
      "execution_count": null,
      "outputs": []
    }
  ]
}