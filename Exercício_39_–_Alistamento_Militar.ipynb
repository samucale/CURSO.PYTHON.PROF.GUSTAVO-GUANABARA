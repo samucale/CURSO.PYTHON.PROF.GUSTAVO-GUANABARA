{
  "nbformat": 4,
  "nbformat_minor": 0,
  "metadata": {
    "colab": {
      "name": "Exercício 39 – Alistamento Militar",
      "provenance": [],
      "authorship_tag": "ABX9TyNrsLWc+5E33NBxcJQbcLXU",
      "include_colab_link": true
    },
    "kernelspec": {
      "name": "python385jvsc74a57bd0011ad2dedc57127ea8c83e989a76f073505c5db27349089d71c7b58aa3e2c9cf",
      "display_name": "Python 3.8.5 64-bit ('base': conda)"
    },
    "language_info": {
      "name": "python",
      "version": "3.8.5-final"
    }
  },
  "cells": [
    {
      "cell_type": "markdown",
      "metadata": {
        "id": "view-in-github",
        "colab_type": "text"
      },
      "source": [
        "<a href=\"https://colab.research.google.com/github/samucale/Curso-em-vd-Python/blob/main/Exerc%C3%ADcio_39_%E2%80%93_Alistamento_Militar.ipynb\" target=\"_parent\"><img src=\"https://colab.research.google.com/assets/colab-badge.svg\" alt=\"Open In Colab\"/></a>"
      ]
    },
    {
      "cell_type": "markdown",
      "metadata": {
        "id": "eBW-ujBgTr1S"
      },
      "source": [
        "*Faça um programa que leia o ano de nascimento de um jovem e informe, de acordo com a sua idade, se ele ainda vai se alistar ao serviço militar, se é a hora exata de se alistar ou se já passou do tempo do alistamento. Seu programa também deverá mostrar o tempo que falta ou que passou do prazo.*"
      ]
    },
    {
      "cell_type": "code",
      "metadata": {
        "id": "gyxdFhw3TwDi",
        "outputId": "d7932548-2c6e-4a25-a4c9-57b9efb3df92",
        "colab": {
          "base_uri": "https://localhost:8080/"
        }
      },
      "source": [
        "from datetime import date\n",
        "atual  =date.today().year\n",
        "nasc = int(input('Ano de nascimento: '))\n",
        "idade  = atual -nasc\n",
        "print('Quem nasceu em {} tem {} anos em {}.'.format(nasc,idade,atual))\n",
        "if idade== 18:\n",
        "  saldo = 18 - idade  \n",
        "  print ('Voce precisa se aprensentar IMEDIATAMENTE !')\n",
        "elif idade < 18:\n",
        "  saldo = 18 - idade \n",
        "  print('Ainda faltam {} anos para o alistamento'.format(saldo))\n",
        "  ano = atual + saldo\n",
        "  print ('Seu alistamento sera em {}'.format(ano))\n",
        "elif idade > 18:\n",
        "  saldo  = idade - 18   \n",
        "  print('Você ja deveria ter se alistado do há {} anos.'.format(saldo))\n",
        "  ano = atual - saldo\n",
        "  print ('Seu alistamento foi em {}'.format (ano))\n",
        "\n",
        "\n",
        "\n"
      ],
      "execution_count": 1,
      "outputs": [
        {
          "output_type": "error",
          "ename": "ValueError",
          "evalue": "invalid literal for int() with base 10: ''",
          "traceback": [
            "\u001b[1;31m---------------------------------------------------------------------------\u001b[0m",
            "\u001b[1;31mValueError\u001b[0m                                Traceback (most recent call last)",
            "\u001b[1;32m<ipython-input-1-0d15aa67a307>\u001b[0m in \u001b[0;36m<module>\u001b[1;34m\u001b[0m\n\u001b[0;32m      1\u001b[0m \u001b[1;32mfrom\u001b[0m \u001b[0mdatetime\u001b[0m \u001b[1;32mimport\u001b[0m \u001b[0mdate\u001b[0m\u001b[1;33m\u001b[0m\u001b[1;33m\u001b[0m\u001b[0m\n\u001b[0;32m      2\u001b[0m \u001b[0matual\u001b[0m  \u001b[1;33m=\u001b[0m\u001b[0mdate\u001b[0m\u001b[1;33m.\u001b[0m\u001b[0mtoday\u001b[0m\u001b[1;33m(\u001b[0m\u001b[1;33m)\u001b[0m\u001b[1;33m.\u001b[0m\u001b[0myear\u001b[0m\u001b[1;33m\u001b[0m\u001b[1;33m\u001b[0m\u001b[0m\n\u001b[1;32m----> 3\u001b[1;33m \u001b[0mnasc\u001b[0m \u001b[1;33m=\u001b[0m \u001b[0mint\u001b[0m\u001b[1;33m(\u001b[0m\u001b[0minput\u001b[0m\u001b[1;33m(\u001b[0m\u001b[1;34m'Ano de nascimento: '\u001b[0m\u001b[1;33m)\u001b[0m\u001b[1;33m)\u001b[0m\u001b[1;33m\u001b[0m\u001b[1;33m\u001b[0m\u001b[0m\n\u001b[0m\u001b[0;32m      4\u001b[0m \u001b[0midade\u001b[0m  \u001b[1;33m=\u001b[0m \u001b[0matual\u001b[0m \u001b[1;33m-\u001b[0m\u001b[0mnasc\u001b[0m\u001b[1;33m\u001b[0m\u001b[1;33m\u001b[0m\u001b[0m\n\u001b[0;32m      5\u001b[0m \u001b[0mprint\u001b[0m\u001b[1;33m(\u001b[0m\u001b[1;34m'Quem nasceu em {} tem {} anos em {}.'\u001b[0m\u001b[1;33m.\u001b[0m\u001b[0mformat\u001b[0m\u001b[1;33m(\u001b[0m\u001b[0mnasc\u001b[0m\u001b[1;33m,\u001b[0m\u001b[0midade\u001b[0m\u001b[1;33m,\u001b[0m\u001b[0matual\u001b[0m\u001b[1;33m)\u001b[0m\u001b[1;33m)\u001b[0m\u001b[1;33m\u001b[0m\u001b[1;33m\u001b[0m\u001b[0m\n",
            "\u001b[1;31mValueError\u001b[0m: invalid literal for int() with base 10: ''"
          ]
        }
      ]
    },
    {
      "cell_type": "code",
      "metadata": {
        "id": "j8FnGNDDXU4N"
      },
      "source": [
        "from datetime import date\n"
      ],
      "execution_count": 2,
      "outputs": []
    },
    {
      "cell_type": "code",
      "execution_count": null,
      "metadata": {},
      "outputs": [],
      "source": [
        "atual =  date.today().year\n",
        "anonasc = int(input('digite o ano do seu nascimento : '))\n",
        "\n",
        "\n"
      ]
    }
  ]
}