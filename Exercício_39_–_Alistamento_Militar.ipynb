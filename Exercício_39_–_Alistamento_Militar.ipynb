{
  "nbformat": 4,
  "nbformat_minor": 0,
  "metadata": {
    "colab": {
      "name": "Exercício 39 – Alistamento Militar",
      "provenance": [],
      "authorship_tag": "ABX9TyNrsLWc+5E33NBxcJQbcLXU",
      "include_colab_link": true
    },
    "kernelspec": {
      "name": "python3",
      "display_name": "Python 3"
    },
    "language_info": {
      "name": "python"
    }
  },
  "cells": [
    {
      "cell_type": "markdown",
      "metadata": {
        "id": "view-in-github",
        "colab_type": "text"
      },
      "source": [
        "<a href=\"https://colab.research.google.com/github/samucale/Curso-em-vd-Python/blob/main/Exerc%C3%ADcio_39_%E2%80%93_Alistamento_Militar.ipynb\" target=\"_parent\"><img src=\"https://colab.research.google.com/assets/colab-badge.svg\" alt=\"Open In Colab\"/></a>"
      ]
    },
    {
      "cell_type": "markdown",
      "metadata": {
        "id": "eBW-ujBgTr1S"
      },
      "source": [
        "*Faça um programa que leia o ano de nascimento de um jovem e informe, de acordo com a sua idade, se ele ainda vai se alistar ao serviço militar, se é a hora exata de se alistar ou se já passou do tempo do alistamento. Seu programa também deverá mostrar o tempo que falta ou que passou do prazo.*"
      ]
    },
    {
      "cell_type": "code",
      "metadata": {
        "id": "gyxdFhw3TwDi",
        "outputId": "d7932548-2c6e-4a25-a4c9-57b9efb3df92",
        "colab": {
          "base_uri": "https://localhost:8080/"
        }
      },
      "source": [
        "from datetime import date\n",
        "atual  =date.today().year\n",
        "nasc = int(input('Ano de nascimento: '))\n",
        "idade  = atual -nasc\n",
        "print('Quem nasceu em {} tem {} anos em {}.'.format(nasc,idade,atual))\n",
        "if idade== 18:\n",
        "  saldo = 18 - idade  \n",
        "  print ('Voce precisa se aprensentar IMEDIATAMENTE !')\n",
        "elif idade < 18:\n",
        "  saldo = 18 - idade \n",
        "  print('Ainda faltam {} anos para o alistamento'.format(saldo))\n",
        "  ano = atual + saldo\n",
        "  print ('Seu alistamento sera em {}'.format(ano))\n",
        "elif idade > 18:\n",
        "  saldo  = idade - 18   \n",
        "  print('Você ja deveria ter se alistado do há {} anos.'.format(saldo))\n",
        "  ano = atual - saldo\n",
        "  print ('Seu alistamento foi em {}'.format (ano))\n",
        "\n",
        "\n",
        "\n"
      ],
      "execution_count": 13,
      "outputs": [
        {
          "output_type": "stream",
          "text": [
            "Ano de nascimento: 2005\n",
            "Quem nasceu em 2005 tem 16 anos em 2021.\n",
            "Ainda faltam 2 anos para o alistamento\n",
            "Seu alistamento sera em 2023\n"
          ],
          "name": "stdout"
        }
      ]
    },
    {
      "cell_type": "code",
      "metadata": {
        "id": "j8FnGNDDXU4N"
      },
      "source": [
        ""
      ],
      "execution_count": null,
      "outputs": []
    }
  ]
}