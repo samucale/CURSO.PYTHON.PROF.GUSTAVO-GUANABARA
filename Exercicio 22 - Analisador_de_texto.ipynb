{
  "nbformat": 4,
  "nbformat_minor": 0,
  "metadata": {
    "colab": {
      "name": "Analisador de texto ",
      "provenance": [],
      "authorship_tag": "ABX9TyNgj1+gStaDIh/qMwvplP5X",
      "include_colab_link": true
    },
    "kernelspec": {
      "name": "python3",
      "display_name": "Python 3"
    }
  },
  "cells": [
    {
      "cell_type": "markdown",
      "metadata": {
        "id": "view-in-github",
        "colab_type": "text"
      },
      "source": [
        "<a href=\"https://colab.research.google.com/github/samucale/CURSO.PYTHON.PROF.GUSTAVO-GUANABARA/blob/main/Exercicio%2022%20-%20Analisador_de_texto.ipynb\" target=\"_parent\"><img src=\"https://colab.research.google.com/assets/colab-badge.svg\" alt=\"Open In Colab\"/></a>"
      ]
    },
    {
      "cell_type": "markdown",
      "metadata": {
        "id": "y0mw0sksVN1e"
      },
      "source": [
        "**CRIE UM PROGRAMA QUE LEIA O NOME COMPLETO DE UMA PESSOA E MOSTRE :**\r\n",
        "\r\n",
        "\r\n",
        "* O NOME COM TODAS AS LETRA E MAIUSCULAS.\r\n",
        "* QUANTAS LETRAS AO TODO (SEM CONSIDERAR ESPAÇOS )\r\n",
        "* QUANTAS LETRAS TEM O PRIMEIRO NOME \r\n",
        "\r\n",
        "\r\n",
        "\r\n",
        "\r\n"
      ]
    },
    {
      "cell_type": "code",
      "metadata": {
        "id": "lNjbReXk1ZVH",
        "outputId": "0d970050-e2ae-4a91-810e-4b7e7befcd0e",
        "colab": {
          "base_uri": "https://localhost:8080/"
        }
      },
      "source": [
        "nome = str(input('Digite seu nome completo: ')).strip()\r\n",
        "print('Analisando seu nome...')\r\n",
        "print('Seu nome em maiuscula e {}'.format(nome.upper()))\r\n",
        "print('Seu nome em minuscula e {}'.format(nome.lower()))\r\n",
        "print('Seu nome tem ao todo {}'.format(len(nome)-nome.count(' ')))\r\n",
        "separa = nome.split()\r\n",
        "print('Seu primeiro nome e {} e ele tem {} letras'.format(separa[0],len(separa[0])))"
      ],
      "execution_count": 1,
      "outputs": [
        {
          "output_type": "stream",
          "text": [
            "Digite seu nome completo: Samuel Antonio Silva \n",
            "Analisando seu nome...\n",
            "Seu nomeem maiuscula e SAMUEL ANTONIO SILVA\n",
            "Seu nome em minuscula e samuel antonio silva\n",
            "Seu nome tem ao todo 18\n",
            "Seu primeiro nome e Samuel e ele tem 6 letras\n"
          ],
          "name": "stdout"
        }
      ]
    },
    {
      "cell_type": "code",
      "metadata": {
        "id": "KHTj4wHr2uQ-"
      },
      "source": [
        ""
      ],
      "execution_count": 1,
      "outputs": []
    }
  ]
}