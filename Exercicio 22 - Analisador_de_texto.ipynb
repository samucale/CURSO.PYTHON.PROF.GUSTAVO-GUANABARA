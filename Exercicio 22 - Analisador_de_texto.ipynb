{
  "nbformat": 4,
  "nbformat_minor": 0,
  "metadata": {
    "colab": {
      "name": "Analisador de texto ",
      "provenance": [],
      "authorship_tag": "ABX9TyMroDBnegYQ8Tdb1G11NPbM",
      "include_colab_link": true
    },
    "kernelspec": {
      "name": "python3",
      "display_name": "Python 3"
    }
  },
  "cells": [
    {
      "cell_type": "markdown",
      "metadata": {
        "id": "view-in-github",
        "colab_type": "text"
      },
      "source": [
        "<a href=\"https://colab.research.google.com/github/samucale/CURSO.PYTHON.PROF.GUSTAVO-GUANABARA/blob/main/Exercicio%2022%20-%20Analisador_de_texto.ipynb\" target=\"_parent\"><img src=\"https://colab.research.google.com/assets/colab-badge.svg\" alt=\"Open In Colab\"/></a>"
      ]
    },
    {
      "cell_type": "markdown",
      "metadata": {
        "id": "y0mw0sksVN1e"
      },
      "source": [
        "**CRIE UM PROGRAMA QUE LEIA O NOME COMPLETO DE UMA PESSOA E MOSTRE :**\r\n",
        "\r\n",
        "\r\n",
        "* O NOME COM TODAS AS LETRA E MAIUSCULAS.\r\n",
        "* QUANTAS LETRAS AO TODO (SEM CONSIDERAR ESPAÇOS )\r\n",
        "* QUANTAS LETRAS TEM O PRIMEIRO NOME \r\n",
        "\r\n",
        "\r\n",
        "\r\n",
        "\r\n"
      ]
    },
    {
      "cell_type": "markdown",
      "metadata": {
        "id": "Gpghnv0wVMwJ"
      },
      "source": [
        ""
      ]
    }
  ]
}