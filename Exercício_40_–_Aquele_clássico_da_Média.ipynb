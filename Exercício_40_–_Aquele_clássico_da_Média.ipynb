{
  "nbformat": 4,
  "nbformat_minor": 0,
  "metadata": {
    "colab": {
      "name": "Exercício 40 – Aquele clássico da Média",
      "provenance": [],
      "authorship_tag": "ABX9TyMkFFbalbcURPLXiOXFjQFz",
      "include_colab_link": true
    },
    "kernelspec": {
      "name": "python385jvsc74a57bd0011ad2dedc57127ea8c83e989a76f073505c5db27349089d71c7b58aa3e2c9cf",
      "display_name": "Python 3.8.5 64-bit ('base': conda)"
    },
    "language_info": {
      "name": "python",
      "version": "3.8.5-final"
    }
  },
  "cells": [
    {
      "cell_type": "markdown",
      "metadata": {
        "id": "view-in-github",
        "colab_type": "text"
      },
      "source": [
        "<a href=\"https://colab.research.google.com/github/samucale/Curso-em-vd-Python/blob/main/Exerc%C3%ADcio_40_%E2%80%93_Aquele_cl%C3%A1ssico_da_M%C3%A9dia.ipynb\" target=\"_parent\"><img src=\"https://colab.research.google.com/assets/colab-badge.svg\" alt=\"Open In Colab\"/></a>"
      ]
    },
    {
      "cell_type": "markdown",
      "metadata": {
        "id": "oCgRmFLSCl9Q"
      },
      "source": [
        "*Exercício Python 040: Crie um programa que leia duas notas de um aluno e calcule sua média, mostrando uma mensagem no final, de acordo com a média atingida:\n",
        "\n",
        "– Média abaixo de 5.0: REPROVADO\n",
        "\n",
        "– Média entre 5.0 e 6.9: RECUPERAÇÃO\n",
        "\n",
        "– Média 7.0 ou superior: APROVADO*"
      ]
    },
    {
      "cell_type": "code",
      "metadata": {
        "id": "oJH--q5yCvbx",
        "outputId": "2a5559e3-e92b-47d6-c8eb-4f38cfe41686",
        "colab": {
          "base_uri": "https://localhost:8080/"
        }
      },
      "source": [
        "nota1 = float(input('Primeira nota: '))\n",
        "nota2 = float(input('Segunda nota: '))\n",
        "media = (nota1 + nota2)/2\n",
        "print ('Tirando {:.2f} e {:.2f},a media do aluno é {:.1f}'.format(nota1,nota2,media))\n",
        "if media <= 5 :\n",
        "  print ('O aluno esta REPROVADO')\n",
        "elif media >=5 and media < 7:\n",
        "  print ('O aluno esta em recuperação')\n",
        "else :\n",
        "  print('APROVADO') \n"
      ],
      "execution_count": 14,
      "outputs": [
        {
          "output_type": "stream",
          "name": "stdout",
          "text": [
            "Tirando 9.00 e 3.00,a media do aluno é 6.0\nO aluno esta em recuperação\n"
          ]
        }
      ]
    },
    {
      "source": [
        "#REVER ESSE EXERCICIO PARA COMPREENDER MELHOR O AS MÉDIAS "
      ],
      "cell_type": "markdown",
      "metadata": {}
    },
    {
      "cell_type": "code",
      "execution_count": 13,
      "metadata": {},
      "outputs": [
        {
          "output_type": "stream",
          "name": "stdout",
          "text": [
            "Aprovado\n"
          ]
        }
      ],
      "source": [
        "nota1  = float(input('Digite a primeira nota'))\n",
        "nota2  =float (input('Digite a segunda nota'))\n",
        "media= nota1 + nota2 / 2 \n",
        "if media <= 5 : \n",
        "    print ('O Aluno foi reprovado')\n",
        "elif media >= 5 and media < 7 :\n",
        "    print ('O aluno está em recuperação')\n",
        "else : \n",
        "    print('Aprovado')    \n",
        "\n",
        "\n",
        "\n"
      ]
    },
    {
      "source": [
        "– Média abaixo de 5.0: REPROVADO\n",
        "\n",
        "– Média entre 5.0 e 6.9: RECUPERAÇÃO\n",
        "\n",
        "– Média 7.0 ou superior: APROVADO*"
      ],
      "cell_type": "markdown",
      "metadata": {}
    },
    {
      "cell_type": "code",
      "execution_count": 16,
      "metadata": {},
      "outputs": [
        {
          "output_type": "stream",
          "name": "stdout",
          "text": [
            "Recuperação\n"
          ]
        }
      ],
      "source": [
        "nota1 = float(input('Primeira nota '))\n",
        "nota2 = float(input('Segunda nota '))\n",
        "media = nota1 + nota2 / 2 \n",
        "if media <=5 :\n",
        "    print ('Reprovado')\n",
        "elif media >= 5 and media <7:\n",
        "    print ('Recuperação')  \n",
        "else :\n",
        "    print ('APROVADO')      \n"
      ]
    },
    {
      "source": [
        "– Média abaixo de 5.0: REPROVADO\n",
        "\n",
        "– Média entre 5.0 e 6.9: RECUPERAÇÃO\n",
        "\n",
        "– Média 7.0 ou superior: APROVADO*"
      ],
      "cell_type": "markdown",
      "metadata": {}
    },
    {
      "cell_type": "code",
      "execution_count": 40,
      "metadata": {},
      "outputs": [
        {
          "output_type": "stream",
          "name": "stdout",
          "text": [
            "APROVADO\n"
          ]
        }
      ],
      "source": [
        "seme1 = float(input(' primeiro semestre'))\n",
        "seme2 = float(input('segundo semestre'))\n",
        "media = seme1 + seme2/2\n",
        "if media <= 5 : \n",
        "    print ('REPROVADO')\n",
        "elif media >=5 and media <7:\n",
        "    print ('RECUPERAÇÃO')  \n",
        "else :\n",
        "    print ('APROVADO')     \n",
        "\n",
        "           \n",
        "\n",
        "\n"
      ]
    },
    {
      "cell_type": "code",
      "execution_count": 61,
      "metadata": {},
      "outputs": [
        {
          "output_type": "stream",
          "name": "stdout",
          "text": [
            "o aluno Samuel  tirou 8.0 na primeira prova e 6.0 na segunda prova,sua media é 11.0 ele esta APROVADO\n"
          ]
        }
      ],
      "source": [
        "nome = input('Digite o nome do aluno : ')\n",
        "nota1 = float(input('Digite a primeira nota : '))\n",
        "nota2 = float(input('Digite a segunda nota : '))\n",
        "media = nota1 + nota2 /2 \n",
        "if media <= 5 : \n",
        "    print ('O Aluno {} tirou {} na primeira prova e {} na segunda prova, sua media é {} ele esta REPROVADO,'.format(nome,nota1,nota2,media))\n",
        "elif media >= 5 and media <7:\n",
        "    print ('O Aluno {} tirou {} na primeira prova e {} na segunda prova,sua media é  {} ele esta de RECUPARAÇÃO'.format(nome,nota1,nota2,media))  \n",
        "else :\n",
        "    print ('o Aluno {} tirou {} na primeira prova e {} na segunda prova,sua media é {} ele esta APROVADO'.format(nome,nota1,nota2,media))      \n",
        "\n",
        "\n",
        "        \n"
      ]
    },
    {
      "cell_type": "code",
      "execution_count": null,
      "metadata": {},
      "outputs": [],
      "source": []
    }
  ]
}