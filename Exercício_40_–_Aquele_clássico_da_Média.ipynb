{
  "nbformat": 4,
  "nbformat_minor": 0,
  "metadata": {
    "colab": {
      "name": "Exercício 40 – Aquele clássico da Média",
      "provenance": [],
      "authorship_tag": "ABX9TyMkFFbalbcURPLXiOXFjQFz",
      "include_colab_link": true
    },
    "kernelspec": {
      "name": "python3",
      "display_name": "Python 3"
    },
    "language_info": {
      "name": "python"
    }
  },
  "cells": [
    {
      "cell_type": "markdown",
      "metadata": {
        "id": "view-in-github",
        "colab_type": "text"
      },
      "source": [
        "<a href=\"https://colab.research.google.com/github/samucale/Curso-em-vd-Python/blob/main/Exerc%C3%ADcio_40_%E2%80%93_Aquele_cl%C3%A1ssico_da_M%C3%A9dia.ipynb\" target=\"_parent\"><img src=\"https://colab.research.google.com/assets/colab-badge.svg\" alt=\"Open In Colab\"/></a>"
      ]
    },
    {
      "cell_type": "markdown",
      "metadata": {
        "id": "oCgRmFLSCl9Q"
      },
      "source": [
        "*Exercício Python 040: Crie um programa que leia duas notas de um aluno e calcule sua média, mostrando uma mensagem no final, de acordo com a média atingida:\n",
        "\n",
        "– Média abaixo de 5.0: REPROVADO\n",
        "\n",
        "– Média entre 5.0 e 6.9: RECUPERAÇÃO\n",
        "\n",
        "– Média 7.0 ou superior: APROVADO*"
      ]
    },
    {
      "cell_type": "code",
      "metadata": {
        "id": "oJH--q5yCvbx",
        "outputId": "2a5559e3-e92b-47d6-c8eb-4f38cfe41686",
        "colab": {
          "base_uri": "https://localhost:8080/"
        }
      },
      "source": [
        "nota1 = float(input('Primeira nota: '))\n",
        "nota2 = float(input('Segunda nota: '))\n",
        "media = (nota1 + nota2)/2\n",
        "print ('Tirando {:.2f} e {:.2f},a media do aluno é {:.1f}'.format(nota1,nota2,media))\n",
        "if media <= 5 :\n",
        "  print ('O aluno esta REPROVADO')\n",
        "elif media >=5 and media < 7:\n",
        "  print ('O aluno esta em recuperação')\n",
        "else :\n",
        "  print('APROVADO') \n"
      ],
      "execution_count": 8,
      "outputs": [
        {
          "output_type": "stream",
          "text": [
            "Primeira nota: 2\n",
            "Segunda nota: 2\n",
            "Tirando 2.00 e 2.00,a media do aluno é 2.0\n",
            "O aluno esta REPROVADO\n"
          ],
          "name": "stdout"
        }
      ]
    },
    {
      "cell_type": "code",
      "metadata": {
        "id": "o78OvXiefi6M"
      },
      "source": [
        ""
      ],
      "execution_count": null,
      "outputs": []
    }
  ]
}