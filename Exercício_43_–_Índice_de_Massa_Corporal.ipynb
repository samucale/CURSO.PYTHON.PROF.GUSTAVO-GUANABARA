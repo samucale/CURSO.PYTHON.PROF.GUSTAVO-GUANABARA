{
  "nbformat": 4,
  "nbformat_minor": 0,
  "metadata": {
    "colab": {
      "name": "Exercício 43 – Índice de Massa Corporal",
      "provenance": [],
      "authorship_tag": "ABX9TyNG1rZReAIOlqF4xhrxy6zd",
      "include_colab_link": true
    },
    "kernelspec": {
      "name": "python3",
      "display_name": "Python 3",
      "language": "python"
    },
    "language_info": {
      "name": "python",
      "version": "3.8.5-final"
    }
  },
  "cells": [
    {
      "source": [
        "Desenvolva uma lógica que leia o peso e a altura de uma pessoa, calcule seu Índice de Massa Corporal (IMC) e mostre seu status, de acordo com a tabela abaixo:\n",
        "– IMC abaixo de 18,5: Abaixo do Peso\n",
        "\n",
        "– Entre 18,5 e 25: Peso Ideal\n",
        "\n",
        "– 25 até 30: Sobrepeso\n",
        "\n",
        "– 30 até 40: Obesidade\n",
        "\n",
        "– Acima de 40: Obesidade Mórbida"
      ],
      "cell_type": "markdown",
      "metadata": {}
    },
    {
      "source": [
        "VOLTAR A AULA 12\n",
        "\n"
      ],
      "cell_type": "markdown",
      "metadata": {}
    },
    {
      "cell_type": "code",
      "execution_count": 16,
      "metadata": {},
      "outputs": [
        {
          "output_type": "stream",
          "name": "stdout",
          "text": [
            "Seu IMC é de 28.3\nVoce esta em sobrepeso\n"
          ]
        }
      ],
      "source": [
        "\n",
        "peso = float (input('Informe seu peso : '))\n",
        "alt = float (input('Iforme sua altura : '))\n",
        "imc = peso / (alt **2)\n",
        "print ('Seu IMC é de {:.1f}'.format(imc))\n",
        "if imc < 18.5 : \n",
        "    print ('Você esta abaixo do peso normal')\n",
        "elif 18.5 <= imc < 25:\n",
        "    print ('Parabens você esta na faixa de peso normal')\n",
        "elif 25 <= imc <= 30:\n",
        "    print ('Voce esta em sobrepeso')    \n",
        "elif 30 <= imc < 40 :\n",
        "    print ('Voce esta em obesidade')\n",
        "elif imc >= 40:\n",
        "    print('Voce esta em obesidade morbida')\n",
        "\n",
        "\n",
        "\n",
        "\n",
        "\n"
      ]
    },
    {
      "cell_type": "code",
      "execution_count": null,
      "metadata": {},
      "outputs": [],
      "source": []
    }
  ]
}