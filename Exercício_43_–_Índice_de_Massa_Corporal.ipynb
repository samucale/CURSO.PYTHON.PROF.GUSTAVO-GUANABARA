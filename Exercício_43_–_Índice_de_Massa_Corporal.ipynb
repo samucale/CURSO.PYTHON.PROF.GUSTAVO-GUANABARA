{
  "nbformat": 4,
  "nbformat_minor": 0,
  "metadata": {
    "colab": {
      "name": "Exercício 43 – Índice de Massa Corporal",
      "provenance": [],
      "authorship_tag": "ABX9TyNG1rZReAIOlqF4xhrxy6zd",
      "include_colab_link": true
    },
    "kernelspec": {
      "name": "python3",
      "display_name": "Python 3",
      "language": "python"
    },
    "language_info": {
      "name": "python",
      "version": "3.8.5-final"
    }
  },
  "cells": [
    {
      "cell_type": "markdown",
      "metadata": {
        "id": "view-in-github",
        "colab_type": "text"
      },
      "source": [
        "<a href=\"https://colab.research.google.com/github/samucale/Curso-em-vd-Python/blob/main/Exerc%C3%ADcio_43_%E2%80%93_%C3%8Dndice_de_Massa_Corporal.ipynb\" target=\"_parent\"><img src=\"https://colab.research.google.com/assets/colab-badge.svg\" alt=\"Open In Colab\"/></a>"
      ]
    },
    {
      "cell_type": "code",
      "metadata": {
        "id": "NI--imZpYca3"
      },
      "source": [],
      "execution_count": null,
      "outputs": []
    },
    {
      "cell_type": "markdown",
      "metadata": {
        "id": "txiB1cMVYiR5"
      },
      "source": [
        "**Desenvolva uma lógica que leia o peso e a altura de uma pessoa, calcule seu Índice de Massa Corporal (IMC) e mostre seu status, de acordo com a tabela abaixo:\n",
        "\n",
        "– IMC abaixo de 18,5: Abaixo do Peso\n",
        "\n",
        "– Entre 18,5 e 25: Peso Ideal\n",
        "\n",
        "– 25 até 30: Sobrepeso\n",
        "\n",
        "– 30 até 40: Obesidade\n",
        "\n",
        "– Acima de 40: Obesidade Mórbida**"
      ]
    },
    {
      "cell_type": "code",
      "metadata": {
        "id": "aPBwEhj3YkfV"
      },
      "source": [],
      "execution_count": 1,
      "outputs": []
    }
  ]
}