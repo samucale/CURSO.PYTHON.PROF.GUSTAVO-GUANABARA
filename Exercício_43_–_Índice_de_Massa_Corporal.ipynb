{
  "nbformat": 4,
  "nbformat_minor": 0,
  "metadata": {
    "colab": {
      "name": "Exercício 43 – Índice de Massa Corporal",
      "provenance": [],
      "authorship_tag": "ABX9TyNG1rZReAIOlqF4xhrxy6zd",
      "include_colab_link": true
    },
    "kernelspec": {
      "name": "python3",
      "display_name": "Python 3",
      "language": "python"
    },
    "language_info": {
      "name": "python",
      "version": "3.8.5-final"
    }
  },
  "cells": [
    {
      "cell_type": "code",
      "metadata": {
        "id": "aPBwEhj3YkfV"
      },
      "source": [
        "print ('massa')"
      ],
      "execution_count": 1,
      "outputs": []
    },
    {
      "cell_type": "code",
      "execution_count": null,
      "metadata": {},
      "outputs": [],
      "source": []
    }
  ]
}