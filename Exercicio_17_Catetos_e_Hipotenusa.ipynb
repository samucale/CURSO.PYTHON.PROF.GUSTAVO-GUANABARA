{
  "nbformat": 4,
  "nbformat_minor": 0,
  "metadata": {
    "colab": {
      "name": "Exercicio 17 - Catetos e Hipotenusa",
      "provenance": [],
      "include_colab_link": true
    },
    "kernelspec": {
      "name": "python3",
      "display_name": "Python 3"
    }
  },
  "cells": [
    {
      "cell_type": "markdown",
      "metadata": {
        "id": "view-in-github",
        "colab_type": "text"
      },
      "source": [
        "<a href=\"https://colab.research.google.com/github/samucale/CURSO.PYTHON.PROF.GUSTAVO-GUANABARA/blob/main/Exercicio_17_Catetos_e_Hipotenusa.ipynb\" target=\"_parent\"><img src=\"https://colab.research.google.com/assets/colab-badge.svg\" alt=\"Open In Colab\"/></a>"
      ]
    },
    {
      "cell_type": "markdown",
      "metadata": {
        "id": "fj5cAXSs0Rv3"
      },
      "source": [
        "*FAÇA UM PROGRAMA QUE LEIA O COMPRIMENTO DO CATETO OPOSTO E DO CATETO ADJACENTE DE UM TRIANGULO RETANGULO CALCULE E MOSTRE O CUMPRIMENTO DA HPOTENUSA*"
      ]
    },
    {
      "cell_type": "code",
      "metadata": {
        "id": "BKUPbrIX09L6"
      },
      "source": [
        "from math import hypot"
      ],
      "execution_count": 1,
      "outputs": []
    },
    {
      "cell_type": "code",
      "metadata": {
        "id": "s7bkD9pPMNhv",
        "colab": {
          "base_uri": "https://localhost:8080/"
        },
        "outputId": "f17faf80-b963-41cf-fdaf-37885a624897"
      },
      "source": [
        "co = float(input('Comprimento do cateto oposto: '))\r\n",
        "ca = float(input('Comprirmtno do cateto adjacente: '))\r\n",
        "hi = hypot(co,ca)\r\n",
        "print('A hipotenusa vai medir {:.2f}'.format(hi))\r\n"
      ],
      "execution_count": 2,
      "outputs": [
        {
          "output_type": "stream",
          "text": [
            "Comprimento do cateto oposto: 3\n",
            "Comprirmtno do cateto adjacente: 2\n",
            "A hipotenusa vai medir 3.61\n"
          ],
          "name": "stdout"
        }
      ]
    },
    {
      "cell_type": "code",
      "metadata": {
        "id": "r10XS8KhNP7_",
        "outputId": "9c51f6f3-e196-4e50-e887-5413464cf1b5",
        "colab": {
          "base_uri": "https://localhost:8080/"
        }
      },
      "source": [
        "co = float(input('Comprimento do cateto oposto: '))\r\n",
        "ca = float(input('Comprimento do cateto adjacente: '))\r\n",
        "hi=hypot(co,ca)\r\n",
        "print('A hipotenusa vai medir {:.2f}'.format(hi))     "
      ],
      "execution_count": 11,
      "outputs": [
        {
          "output_type": "stream",
          "text": [
            "Comprimento do cateto oposto: 3\n",
            "Comprimento do cateto adjacente: 2\n",
            "A hipotenusa vai medir 3.61\n"
          ],
          "name": "stdout"
        }
      ]
    },
    {
      "cell_type": "code",
      "metadata": {
        "id": "5fnqqB3rbBKD"
      },
      "source": [
        ""
      ],
      "execution_count": 8,
      "outputs": []
    }
  ]
}