{
  "nbformat": 4,
  "nbformat_minor": 0,
  "metadata": {
    "colab": {
      "name": "Exercicio 17 - Catetos e Hipotenusa",
      "provenance": [],
      "include_colab_link": true
    },
    "kernelspec": {
      "name": "python3",
      "display_name": "Python 3"
    }
  },
  "cells": [
    {
      "cell_type": "markdown",
      "metadata": {
        "id": "view-in-github",
        "colab_type": "text"
      },
      "source": [
        "<a href=\"https://colab.research.google.com/github/samucale/CURSO.PYTHON.PROF.GUSTAVO-GUANABARA/blob/main/Exercicio_17_Catetos_e_Hipotenusa.ipynb\" target=\"_parent\"><img src=\"https://colab.research.google.com/assets/colab-badge.svg\" alt=\"Open In Colab\"/></a>"
      ]
    },
    {
      "cell_type": "markdown",
      "metadata": {
        "id": "fj5cAXSs0Rv3"
      },
      "source": [
        "*FAÇA UM PROGRAMA QUE LEIA O COMPRIMENTO DO CATETO OPOSTO E DO CATETO ADJACENTE DE UM TRIANGULO RETANGULO CALCULE E MOSTRE O CUMPRIMENTO DA HPOTENUSA*"
      ]
    },
    {
      "cell_type": "code",
      "metadata": {
        "id": "BKUPbrIX09L6"
      },
      "source": [
        "from math import hypot"
      ],
      "execution_count": 1,
      "outputs": []
    },
    {
      "cell_type": "code",
      "metadata": {
        "id": "s7bkD9pPMNhv",
        "outputId": "d8520d48-4cfd-493a-f3e2-41c1ed7a4d0a",
        "colab": {
          "base_uri": "https://localhost:8080/"
        }
      },
      "source": [
        "co = float(input('Comprimento do cateto oposto: '))\r\n",
        "ca = float(input('Comprirmtno do cateto adjacente: '))\r\n",
        "hi = hypot(co,ca)\r\n",
        "print('A hipotenusa vai medir {:.2f}'.format(hi))\r\n"
      ],
      "execution_count": 5,
      "outputs": [
        {
          "output_type": "stream",
          "text": [
            "Comprimento do cateto oposto: 2\n",
            "Comprirmtno do cateto adjacente: 3.2\n",
            "A hipotenusa vai medir 3.77\n"
          ],
          "name": "stdout"
        }
      ]
    },
    {
      "cell_type": "code",
      "metadata": {
        "id": "r10XS8KhNP7_"
      },
      "source": [
        ""
      ],
      "execution_count": null,
      "outputs": []
    }
  ]
}