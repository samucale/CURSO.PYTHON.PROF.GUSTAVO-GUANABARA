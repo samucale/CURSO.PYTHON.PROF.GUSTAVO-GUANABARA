{
  "nbformat": 4,
  "nbformat_minor": 0,
  "metadata": {
    "colab": {
      "name": "Exercicio 31 - Custo da viagem ",
      "provenance": [],
      "authorship_tag": "ABX9TyM3bZ+8TJJ+jMXGf7tcvo1S",
      "include_colab_link": true
    },
    "kernelspec": {
      "name": "python3",
      "display_name": "Python 3"
    }
  },
  "cells": [
    {
      "cell_type": "markdown",
      "metadata": {
        "id": "view-in-github",
        "colab_type": "text"
      },
      "source": [
        "<a href=\"https://colab.research.google.com/github/samucale/CURSO.PYTHON.PROF.GUSTAVO-GUANABARA/blob/main/Exercicio_31_Custo_da_viagem.ipynb\" target=\"_parent\"><img src=\"https://colab.research.google.com/assets/colab-badge.svg\" alt=\"Open In Colab\"/></a>"
      ]
    },
    {
      "cell_type": "markdown",
      "metadata": {
        "id": "wBGkSxh8XlfK"
      },
      "source": [
        "*DESENVOLVA UM PROGRAMA QUE PERGUNTE A DISTANCIA DE UMA VIAGEM EM KM.CALCULE O PRECO DA PASSAGEM , COBRANDO R$0.50 POR KM PARA VIAGENS DE ATE 200 KM E \r\n",
        "0,45 PARA VIAGENS MAIS LONGAS*."
      ]
    },
    {
      "cell_type": "code",
      "metadata": {
        "id": "pG3QOny4X9Sc",
        "outputId": "b5431058-60ef-4d2e-d4ae-f43ddf24a683",
        "colab": {
          "base_uri": "https://localhost:8080/"
        }
      },
      "source": [
        "distancia=float(input('Digite a distancia: '))\r\n",
        "print('Voce esta prestes a começar uma viagem de {}km. '.format(distancia))\r\n",
        "if distancia <= 200:\r\n",
        "  preço = distancia*0.50\r\n",
        "else:\r\n",
        "  preço = distancia*0.45\r\n",
        "print('E o preço da sua passagem sera de R$ {:.2F}'.format(preço))   \r\n",
        "\r\n"
      ],
      "execution_count": 4,
      "outputs": [
        {
          "output_type": "stream",
          "text": [
            "Digite a distancia: 100\n",
            "Voce esta prestes a começar uma viagem de 100.0km. \n",
            "E o preço da sua passagem sera de R$ 50.00\n"
          ],
          "name": "stdout"
        }
      ]
    },
    {
      "cell_type": "code",
      "metadata": {
        "id": "fz82RhqBkccR"
      },
      "source": [
        ""
      ],
      "execution_count": 2,
      "outputs": []
    }
  ]
}