{
  "nbformat": 4,
  "nbformat_minor": 0,
  "metadata": {
    "colab": {
      "name": "Exercicio 31 - Custo da viagem ",
      "provenance": [],
      "include_colab_link": true
    },
    "kernelspec": {
      "name": "python3",
      "display_name": "Python 3"
    }
  },
  "cells": [
    {
      "cell_type": "markdown",
      "metadata": {
        "id": "view-in-github",
        "colab_type": "text"
      },
      "source": [
        "<a href=\"https://colab.research.google.com/github/samucale/CURSO.PYTHON.PROF.GUSTAVO-GUANABARA/blob/main/Exercicio_31_Custo_da_viagem.ipynb\" target=\"_parent\"><img src=\"https://colab.research.google.com/assets/colab-badge.svg\" alt=\"Open In Colab\"/></a>"
      ]
    },
    {
      "cell_type": "markdown",
      "metadata": {
        "id": "wBGkSxh8XlfK"
      },
      "source": [
        "*DESENVOLVA UM PROGRAMA QUE PERGUNTE A DISTANCIA DE UMA VIAGEM EM KM.CALCULE O PRECO DA PASSAGEM , COBRANDO R$0.50 POR KM PARA VIAGENS DE ATE 200 KM E \r\n",
        "0,45 PARA VIAGENS MAIS LONGAS*."
      ]
    },
    {
      "cell_type": "code",
      "metadata": {
        "id": "pG3QOny4X9Sc",
        "colab": {
          "base_uri": "https://localhost:8080/"
        },
        "outputId": "b5431058-60ef-4d2e-d4ae-f43ddf24a683"
      },
      "source": [
        "distancia=float(input('Digite a distancia: '))\r\n",
        "print('Voce esta prestes a começar uma viagem de {}km. '.format(distancia))\r\n",
        "if distancia <= 200:\r\n",
        "  preço = distancia*0.50\r\n",
        "else:\r\n",
        "  preço = distancia*0.45\r\n",
        "print('E o preço da sua passagem sera de R$ {:.2F}'.format(preço))   \r\n",
        "\r\n"
      ],
      "execution_count": null,
      "outputs": [
        {
          "output_type": "stream",
          "text": [
            "Digite a distancia: 100\n",
            "Voce esta prestes a começar uma viagem de 100.0km. \n",
            "E o preço da sua passagem sera de R$ 50.00\n"
          ],
          "name": "stdout"
        }
      ]
    },
    {
      "cell_type": "code",
      "metadata": {
        "id": "fz82RhqBkccR",
        "outputId": "91427502-7d4f-44b4-d85a-727c6c647b4e",
        "colab": {
          "base_uri": "https://localhost:8080/"
        }
      },
      "source": [
        "distancia=float(input('Digite a distancia:'))\r\n",
        "print('Você esta prestes a começar uma viagem de {}km'.format(distancia))\r\n",
        "if distancia <=200:\r\n",
        "  preço = distancia*0.50\r\n",
        "else:\r\n",
        "  preço=distancia*0.45\r\n",
        "print('E o preço da sua passagem sera de R$ {:.2f}'.format(preço))    "
      ],
      "execution_count": 2,
      "outputs": [
        {
          "output_type": "stream",
          "text": [
            "Digite a distancia:100\n",
            "Você esta prestes a começar uma viagem de 100.0km\n",
            "E o preço da sua passagem sera de R$ 50.00\n"
          ],
          "name": "stdout"
        }
      ]
    },
    {
      "cell_type": "code",
      "metadata": {
        "id": "Gfg7rkFR5bwb",
        "outputId": "b1f043b8-968a-4dcf-b474-4faab531c4cb",
        "colab": {
          "base_uri": "https://localhost:8080/"
        }
      },
      "source": [
        "dist=float(input('Digite a distancia: '))\r\n",
        "print('Você esta prestes a iniciar um viagem de {} km'.format(dist))\r\n",
        "if dist <=200:\r\n",
        "  preço = dist*0.50\r\n",
        "else:\r\n",
        "  preço=dist*0.45 \r\n",
        "print('E o preço da sua viagem sera de R$ {:.2f} , faça uma boa viagem '.format(dist))\r\n",
        "\r\n",
        "\r\n"
      ],
      "execution_count": 8,
      "outputs": [
        {
          "output_type": "stream",
          "text": [
            "Digite a distancia: 300\n",
            "Você esta prestes a iniciar um viagem de 300.0 km\n",
            "E o preço da sua viagem sera de R$ 300.00 , faça uma boa viagem \n"
          ],
          "name": "stdout"
        }
      ]
    },
    {
      "cell_type": "code",
      "metadata": {
        "id": "Fhn0vzc673J4",
        "outputId": "2b899ffa-c4a7-4b67-8b53-d4ee182a7476",
        "colab": {
          "base_uri": "https://localhost:8080/"
        }
      },
      "source": [
        "dist=int(input('Digite a distancia: '))\r\n",
        "print('Você está prestes a começar um viagem de {} com a SAMIBUS'.format(dist))\r\n",
        "if dist <= 200:\r\n",
        "  preço = dist*0.50\r\n",
        "else:\r\n",
        "  preço=dist*0.45\r\n",
        "print('A sua viagem custara R$ {}'.format(preço))   \r\n",
        "  "
      ],
      "execution_count": 17,
      "outputs": [
        {
          "output_type": "stream",
          "text": [
            "Digite a distancia: 500\n",
            "Você está prestes a começar um viagem de 500 com a SAMIBUS\n",
            "A sua viagem custara R$ 225.0\n"
          ],
          "name": "stdout"
        }
      ]
    },
    {
      "cell_type": "code",
      "metadata": {
        "id": "MJKa4k-FBxU1"
      },
      "source": [
        ""
      ],
      "execution_count": null,
      "outputs": []
    },
    {
      "cell_type": "code",
      "metadata": {
        "id": "BZ-DkrPdBxXV"
      },
      "source": [
        ""
      ],
      "execution_count": null,
      "outputs": []
    },
    {
      "cell_type": "code",
      "metadata": {
        "id": "1rlXXUrHBxaX"
      },
      "source": [
        ""
      ],
      "execution_count": null,
      "outputs": []
    },
    {
      "cell_type": "code",
      "metadata": {
        "id": "LwK4SG2sBxci"
      },
      "source": [
        ""
      ],
      "execution_count": null,
      "outputs": []
    },
    {
      "cell_type": "code",
      "metadata": {
        "id": "2ayq-v3kBxfG"
      },
      "source": [
        ""
      ],
      "execution_count": null,
      "outputs": []
    }
  ]
}