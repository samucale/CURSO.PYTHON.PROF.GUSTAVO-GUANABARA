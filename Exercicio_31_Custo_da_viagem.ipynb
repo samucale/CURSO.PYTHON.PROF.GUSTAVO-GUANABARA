{
  "nbformat": 4,
  "nbformat_minor": 0,
  "metadata": {
    "colab": {
      "name": "Exercicio 31 - Custo da viagem ",
      "provenance": [],
      "authorship_tag": "ABX9TyN20+//vV2y3FNbf4ejwIKN",
      "include_colab_link": true
    },
    "kernelspec": {
      "name": "python3",
      "display_name": "Python 3"
    }
  },
  "cells": [
    {
      "cell_type": "markdown",
      "metadata": {
        "id": "view-in-github",
        "colab_type": "text"
      },
      "source": [
        "<a href=\"https://colab.research.google.com/github/samucale/CURSO.PYTHON.PROF.GUSTAVO-GUANABARA/blob/main/Exercicio_31_Custo_da_viagem.ipynb\" target=\"_parent\"><img src=\"https://colab.research.google.com/assets/colab-badge.svg\" alt=\"Open In Colab\"/></a>"
      ]
    },
    {
      "cell_type": "markdown",
      "metadata": {
        "id": "wBGkSxh8XlfK"
      },
      "source": [
        "*DESENVOLVA UM PROGRAMA QUE PERGUNTE A DISTANCIA DE UMA VIAGEM EM KM.CALCULE O PRECO DA PASSAGEM , COBRANDO R$0.50 POR KM PARA VIAGENS DE ATE 200 KM E \r\n",
        "0,45 PARA VIAGENS MAIS LONGAS*."
      ]
    },
    {
      "cell_type": "code",
      "metadata": {
        "id": "pG3QOny4X9Sc"
      },
      "source": [
        ""
      ],
      "execution_count": null,
      "outputs": []
    }
  ]
}