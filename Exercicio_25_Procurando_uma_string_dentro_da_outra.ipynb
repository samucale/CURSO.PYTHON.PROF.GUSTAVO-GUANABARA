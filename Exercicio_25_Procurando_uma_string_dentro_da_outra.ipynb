{
  "nbformat": 4,
  "nbformat_minor": 0,
  "metadata": {
    "colab": {
      "name": "Exercicio 25  - Procurando uma string dentro da outra ",
      "provenance": [],
      "include_colab_link": true
    },
    "kernelspec": {
      "name": "python3",
      "display_name": "Python 3"
    }
  },
  "cells": [
    {
      "cell_type": "markdown",
      "metadata": {
        "id": "view-in-github",
        "colab_type": "text"
      },
      "source": [
        "<a href=\"https://colab.research.google.com/github/samucale/CURSO.PYTHON.PROF.GUSTAVO-GUANABARA/blob/main/Exercicio_25_Procurando_uma_string_dentro_da_outra.ipynb\" target=\"_parent\"><img src=\"https://colab.research.google.com/assets/colab-badge.svg\" alt=\"Open In Colab\"/></a>"
      ]
    },
    {
      "cell_type": "markdown",
      "metadata": {
        "id": "j2bmm1SmaPCt"
      },
      "source": [
        "*CRIE UM PROGRAMA  QUE LEIA O NOME DE UMA PESSOA E DIGA SE ELA TEM 'SILVA' NO NOME*"
      ]
    },
    {
      "cell_type": "code",
      "metadata": {
        "id": "6hIbx9vFady9",
        "outputId": "1a54edac-9176-4916-fbef-3eac97c9517e",
        "colab": {
          "base_uri": "https://localhost:8080/"
        }
      },
      "source": [
        "nome = str(input('Digite seu nome completo')).strip()\r\n",
        "print('Seu nome tem silva ? {}'.format('silva'in nome.lower()))\r\n"
      ],
      "execution_count": 2,
      "outputs": [
        {
          "output_type": "stream",
          "text": [
            "Digite seu nome completoSamuel Antonio silva\n",
            "Seu nome tem silva ? True\n"
          ],
          "name": "stdout"
        }
      ]
    },
    {
      "cell_type": "code",
      "metadata": {
        "id": "-7XJpepT8cWr"
      },
      "source": [
        ""
      ],
      "execution_count": 2,
      "outputs": []
    }
  ]
}