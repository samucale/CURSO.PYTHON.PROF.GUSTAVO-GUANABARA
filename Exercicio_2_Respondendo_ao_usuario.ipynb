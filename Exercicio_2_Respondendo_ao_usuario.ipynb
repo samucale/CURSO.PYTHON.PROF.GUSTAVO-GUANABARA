{
  "nbformat": 4,
  "nbformat_minor": 0,
  "metadata": {
    "colab": {
      "name": "Exercicio_2_Respondendo_ao_usuario.ipynb",
      "provenance": [],
      "include_colab_link": true
    },
    "kernelspec": {
      "name": "python3",
      "display_name": "Python 3"
    }
  },
  "cells": [
    {
      "cell_type": "markdown",
      "metadata": {
        "id": "view-in-github",
        "colab_type": "text"
      },
      "source": [
        "<a href=\"https://colab.research.google.com/github/samucale/CURSO.PYTHON.PROF.GUSTAVO-GUANABARA/blob/main/Exercicio_2_Respondendo_ao_usuario.ipynb\" target=\"_parent\"><img src=\"https://colab.research.google.com/assets/colab-badge.svg\" alt=\"Open In Colab\"/></a>"
      ]
    },
    {
      "cell_type": "markdown",
      "metadata": {
        "id": "7Vk9VsD5g2Ta"
      },
      "source": [
        "*RESPONDENDO AO USUARIO*"
      ]
    },
    {
      "cell_type": "code",
      "metadata": {
        "colab": {
          "base_uri": "https://localhost:8080/"
        },
        "id": "q6dNRF4zgU-c",
        "outputId": "3d174b58-d345-4d99-a39b-7d0de34a98a1"
      },
      "source": [
        "nome=input('digite seu nome :')\r\n",
        "print(\"E um prazer em conhecer {}!\".format (nome))"
      ],
      "execution_count": 6,
      "outputs": [
        {
          "output_type": "stream",
          "text": [
            "digite seu nome :CARLOS \n",
            "E um prazer em conhecer CARLOS !\n"
          ],
          "name": "stdout"
        }
      ]
    },
    {
      "cell_type": "code",
      "metadata": {
        "id": "qTjQ-2SMgkr1",
        "colab": {
          "base_uri": "https://localhost:8080/"
        },
        "outputId": "a71487db-40e9-43de-ea09-7fe2dcb4b3ef"
      },
      "source": [
        "nome =input ('digite seu nome')\r\n",
        "print ('e um prazer em conhecer {}'.format(nome))"
      ],
      "execution_count": 4,
      "outputs": [
        {
          "output_type": "stream",
          "text": [
            "digite seu nomeSamuel \n",
            "e um prazer em conhecer Samuel \n"
          ],
          "name": "stdout"
        }
      ]
    },
    {
      "cell_type": "code",
      "metadata": {
        "colab": {
          "base_uri": "https://localhost:8080/"
        },
        "id": "JDDA6C8Af2Xh",
        "outputId": "705740f3-df7e-4809-abca-57958066cb93"
      },
      "source": [
        "nome = input ('Digite seu nome : ')\r\n",
        "print ('E UM PRAZER EM CONHECER {}'.format (nome))"
      ],
      "execution_count": 9,
      "outputs": [
        {
          "output_type": "stream",
          "text": [
            "Digite seu nome : Fernando \n",
            "E UM PRAZER EM CONHECER Fernando \n"
          ],
          "name": "stdout"
        }
      ]
    },
    {
      "cell_type": "code",
      "metadata": {
        "colab": {
          "base_uri": "https://localhost:8080/"
        },
        "id": "upPN2Cf9g-0A",
        "outputId": "9ff73d5a-dce1-424a-ebc7-5d899fc89fa9"
      },
      "source": [
        "nome = input ('Digite eu nome : ')\r\n",
        "print ('E um prazer em conhecer {}'.format(nome))"
      ],
      "execution_count": 15,
      "outputs": [
        {
          "output_type": "stream",
          "text": [
            "Digite eu nome : Samuel\n",
            "E um prazer em conhecer Samuel\n"
          ],
          "name": "stdout"
        }
      ]
    },
    {
      "cell_type": "code",
      "metadata": {
        "id": "cL9tjCN4lQ3S"
      },
      "source": [
        ""
      ],
      "execution_count": 15,
      "outputs": []
    }
  ]
}