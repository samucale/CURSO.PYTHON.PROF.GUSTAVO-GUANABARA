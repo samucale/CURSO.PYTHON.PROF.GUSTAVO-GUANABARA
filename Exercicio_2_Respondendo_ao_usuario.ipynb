{
  "nbformat": 4,
  "nbformat_minor": 0,
  "metadata": {
    "colab": {
      "name": "Exercicio_2_Respondendo_ao_usuario.ipynb",
      "provenance": [],
      "include_colab_link": true
    },
    "kernelspec": {
      "name": "python3",
      "display_name": "Python 3"
    }
  },
  "cells": [
    {
      "cell_type": "markdown",
      "metadata": {
        "id": "view-in-github",
        "colab_type": "text"
      },
      "source": [
        "<a href=\"https://colab.research.google.com/github/samucale/CURSO.PYTHON.PROF.GUSTAVO-GUANABARA/blob/main/Exercicio_2_Respondendo_ao_usuario.ipynb\" target=\"_parent\"><img src=\"https://colab.research.google.com/assets/colab-badge.svg\" alt=\"Open In Colab\"/></a>"
      ]
    },
    {
      "cell_type": "markdown",
      "metadata": {
        "id": "7Vk9VsD5g2Ta"
      },
      "source": [
        "*RESPONDENDO AO USUARIO*"
      ]
    },
    {
      "cell_type": "code",
      "metadata": {
        "colab": {
          "base_uri": "https://localhost:8080/"
        },
        "id": "06WkamHhgHFy",
        "outputId": "6403f37a-66c2-4bb6-fd31-6d8c9417e1a2"
      },
      "source": [
        "from google.colab import drive\n",
        "drive.mount('/content/drive')"
      ],
      "execution_count": 24,
      "outputs": [
        {
          "output_type": "stream",
          "text": [
            "Drive already mounted at /content/drive; to attempt to forcibly remount, call drive.mount(\"/content/drive\", force_remount=True).\n"
          ],
          "name": "stdout"
        }
      ]
    },
    {
      "cell_type": "code",
      "metadata": {
        "colab": {
          "base_uri": "https://localhost:8080/"
        },
        "id": "q6dNRF4zgU-c",
        "outputId": "3d174b58-d345-4d99-a39b-7d0de34a98a1"
      },
      "source": [
        "nome=input('digite seu nome :')\r\n",
        "print(\"E um prazer em conhecer {}!\".format (nome))"
      ],
      "execution_count": null,
      "outputs": [
        {
          "output_type": "stream",
          "text": [
            "digite seu nome :CARLOS \n",
            "E um prazer em conhecer CARLOS !\n"
          ],
          "name": "stdout"
        }
      ]
    },
    {
      "cell_type": "code",
      "metadata": {
        "id": "qTjQ-2SMgkr1",
        "colab": {
          "base_uri": "https://localhost:8080/"
        },
        "outputId": "a71487db-40e9-43de-ea09-7fe2dcb4b3ef"
      },
      "source": [
        "nome =input ('digite seu nome')\r\n",
        "print ('e um prazer em conhecer {}'.format(nome))"
      ],
      "execution_count": null,
      "outputs": [
        {
          "output_type": "stream",
          "text": [
            "digite seu nomeSamuel \n",
            "e um prazer em conhecer Samuel \n"
          ],
          "name": "stdout"
        }
      ]
    },
    {
      "cell_type": "code",
      "metadata": {
        "colab": {
          "base_uri": "https://localhost:8080/"
        },
        "id": "JDDA6C8Af2Xh",
        "outputId": "705740f3-df7e-4809-abca-57958066cb93"
      },
      "source": [
        "nome = input ('Digite seu nome : ')\r\n",
        "print ('E UM PRAZER EM CONHECER {}'.format (nome))"
      ],
      "execution_count": null,
      "outputs": [
        {
          "output_type": "stream",
          "text": [
            "Digite seu nome : Fernando \n",
            "E UM PRAZER EM CONHECER Fernando \n"
          ],
          "name": "stdout"
        }
      ]
    },
    {
      "cell_type": "code",
      "metadata": {
        "colab": {
          "base_uri": "https://localhost:8080/"
        },
        "id": "upPN2Cf9g-0A",
        "outputId": "9ff73d5a-dce1-424a-ebc7-5d899fc89fa9"
      },
      "source": [
        "nome = input ('Digite eu nome : ')\r\n",
        "print ('E um prazer em conhecer {}'.format(nome))"
      ],
      "execution_count": null,
      "outputs": [
        {
          "output_type": "stream",
          "text": [
            "Digite eu nome : Samuel\n",
            "E um prazer em conhecer Samuel\n"
          ],
          "name": "stdout"
        }
      ]
    },
    {
      "cell_type": "code",
      "metadata": {
        "id": "n_yCM1hdkLzA"
      },
      "source": [
        "from datetime import datetime"
      ],
      "execution_count": 29,
      "outputs": []
    },
    {
      "cell_type": "code",
      "metadata": {
        "id": "cL9tjCN4lQ3S",
        "cellView": "code",
        "colab": {
          "base_uri": "https://localhost:8080/"
        },
        "outputId": "65242e39-61f5-4c83-d1ce-ef6ea44ecbd1"
      },
      "source": [
        "\n",
        "nome= input('Digite seu nome : ')\n",
        "anonasc= int(input('Digite o ano do seu nascimento : '))\n",
        "anoatual= int(input('Digite o ano atual  : '))\n",
        "idade = (anoatual - anonasc)\n",
        "sonho = input ('Digite seu maior sonho : ')\n",
        "print ('Ola {} sua idade e {} anos seu maior sonho e {}, nao desista '.format(nome,idade,sonho))"
      ],
      "execution_count": 40,
      "outputs": [
        {
          "output_type": "stream",
          "text": [
            "Digite seu nome : Samuel\n",
            "Digite o ano do seu nascimento : 1982\n",
            "Digite o ano atual  : 2021\n",
            "Digite seu maior sonho : ser programador\n",
            "Ola Samuel sua idade e 39 anos seu maior sonho e ser programador, nao desista \n"
          ],
          "name": "stdout"
        }
      ]
    },
    {
      "cell_type": "code",
      "metadata": {
        "id": "bkRPo5WKh9Zm"
      },
      "source": [
        ""
      ],
      "execution_count": null,
      "outputs": []
    }
  ]
}