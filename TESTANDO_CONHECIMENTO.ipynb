{
  "nbformat": 4,
  "nbformat_minor": 0,
  "metadata": {
    "colab": {
      "name": "TESTANDO CONHECIMENTO",
      "provenance": [],
      "authorship_tag": "ABX9TyM7MYeM7mPZOdxYPNvRs5hf",
      "include_colab_link": true
    },
    "kernelspec": {
      "name": "python3",
      "display_name": "Python 3"
    }
  },
  "cells": [
    {
      "cell_type": "markdown",
      "metadata": {
        "id": "view-in-github",
        "colab_type": "text"
      },
      "source": [
        "<a href=\"https://colab.research.google.com/github/samucale/CURSO.PYTHON.PROF.GUSTAVO-GUANABARA/blob/main/TESTANDO_CONHECIMENTO.ipynb\" target=\"_parent\"><img src=\"https://colab.research.google.com/assets/colab-badge.svg\" alt=\"Open In Colab\"/></a>"
      ]
    },
    {
      "cell_type": "markdown",
      "metadata": {
        "id": "aK_LX5NaLPfR"
      },
      "source": [
        "*VIAGEM*"
      ]
    },
    {
      "cell_type": "code",
      "metadata": {
        "id": "rGL2voaELJ8O"
      },
      "source": [
        "nome = input('Digite seu nome:  ')\r\n",
        "idade = int(input('Digite sua idade: '))\r\n",
        "if idade<=17:\r\n",
        "  print('{} você precisara de autorização de um responsavel para viajar sozinho(a)'.format(nome,idade))\r\n",
        "else (break)\r\n",
        "distancia = float(input('Digite a distancia da viagem'))\r\n",
        "print('Olá {} esta prestes a começar uma viagem de {} Km com a SAMIBUES'.format(nome,distancia))"
      ],
      "execution_count": null,
      "outputs": []
    }
  ]
}