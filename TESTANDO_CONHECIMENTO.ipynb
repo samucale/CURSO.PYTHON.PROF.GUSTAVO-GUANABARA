{
  "nbformat": 4,
  "nbformat_minor": 0,
  "metadata": {
    "colab": {
      "name": "TESTANDO CONHECIMENTO",
      "provenance": [],
      "include_colab_link": true
    },
    "kernelspec": {
      "name": "python3",
      "display_name": "Python 3"
    }
  },
  "cells": [
    {
      "cell_type": "markdown",
      "metadata": {
        "id": "view-in-github",
        "colab_type": "text"
      },
      "source": [
        "<a href=\"https://colab.research.google.com/github/samucale/Curso-em-vd-Python/blob/main/TESTANDO_CONHECIMENTO.ipynb\" target=\"_parent\"><img src=\"https://colab.research.google.com/assets/colab-badge.svg\" alt=\"Open In Colab\"/></a>"
      ]
    },
    {
      "cell_type": "markdown",
      "metadata": {
        "id": "aK_LX5NaLPfR"
      },
      "source": [
        "*VIAGEM*"
      ]
    },
    {
      "cell_type": "code",
      "metadata": {
        "id": "rGL2voaELJ8O"
      },
      "source": [
        "nome = input('Digite seu nome:  ')\n",
        "idade = int(input('Digite sua idade: '))\n",
        "if idade<=17:\n",
        "  print('{} você precisara de autorização de um responsavel para viajar sozinho(a)'.format(nome,idade))\n",
        "else (break)\n",
        "distancia = float(input('Digite a distancia da viagem'))\n",
        "print('Olá {} esta prestes a começar uma viagem de {} Km com a SAMIBUES'.format(nome,distancia))"
      ],
      "execution_count": null,
      "outputs": []
    },
    {
      "cell_type": "code",
      "metadata": {
        "id": "gnrghDNIdMrY"
      },
      "source": [
        ""
      ],
      "execution_count": null,
      "outputs": []
    },
    {
      "cell_type": "code",
      "metadata": {
        "id": "MzA-mXycYBXf",
        "outputId": "e9dcd9f8-ba4d-4819-828f-04b4f7d83736",
        "colab": {
          "base_uri": "https://localhost:8080/"
        }
      },
      "source": [
        "#Nessa linha você devera informar o nome do funcionário#\n",
        "nome = input('Digite Seu nome Completo :  ')\n",
        "#Nesssa linha ele deve informar que entrou na empresa \n",
        "anoadm= float(input('Digite o ano que entrou na empresa  :' ))\n",
        "#Nessa linha ele informara o ano atual\n",
        "anoatual= int(input('Digite o ano atual :' ))\n",
        "anodeempr = anoatual - anoadm\n",
        "#Aqui o programa devera imprimir uma mensagem para o funcionário parabenizando pelo anos de trabalho \n",
        "print ('Ola {} esse ano você faz {:.0f} anos de empresa PARABENS,'.format(nome,anodeempr))\n",
        "#Aqui o Funcionario informa que precisará de dolares para comprar (atente para as condicionais)\n",
        "condi = input('você esta precisando comprar dolares para viajar ?')\n",
        "if condi =='sim':\n",
        "  reais = float(input('quantos reais você tem para a compra ?'))\n",
        "  conv = reais / 5.51\n",
        "  print ('Olha com o valor de R$ {} você poderá comprar USD {}'.format(reais,conv))\n",
        "else:\n",
        "  print('ótimo aproveite seu dia {}'.format(nome)) \n",
        "  \n",
        "\n",
        "\n",
        "\n",
        "\n",
        "\n",
        "  \n",
        "    \n",
        "\n",
        "\n",
        "\n",
        "    \n",
        "\n",
        "\n"
      ],
      "execution_count": 91,
      "outputs": [
        {
          "output_type": "stream",
          "text": [
            "Digite o nome do funcionário : Samuel \n",
            "Digite o ano que entrou na empresa  :200\n",
            "Digite o ano atual :2021\n",
            "Ola Samuel  esse ano você faz 1821 anos de empresa PARABENS,\n",
            "você esta precisando comprar dolares para viajar ?não \n",
            "ótimo aproveite seu dia Samuel \n"
          ],
          "name": "stdout"
        }
      ]
    },
    {
      "cell_type": "code",
      "metadata": {
        "id": "rMe6UCtPbXnl"
      },
      "source": [
        ""
      ],
      "execution_count": null,
      "outputs": []
    },
    {
      "cell_type": "code",
      "metadata": {
        "id": "JFlRvYbcazb-"
      },
      "source": [
        "20"
      ],
      "execution_count": null,
      "outputs": []
    }
  ]
}