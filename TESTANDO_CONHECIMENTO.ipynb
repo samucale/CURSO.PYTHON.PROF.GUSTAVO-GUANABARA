{
  "nbformat": 4,
  "nbformat_minor": 0,
  "metadata": {
    "colab": {
      "name": "TESTANDO CONHECIMENTO",
      "provenance": [],
      "include_colab_link": true
    },
    "kernelspec": {
      "name": "python3",
      "display_name": "Python 3"
    }
  },
  "cells": [
    {
      "cell_type": "markdown",
      "metadata": {
        "id": "view-in-github",
        "colab_type": "text"
      },
      "source": [
        "<a href=\"https://colab.research.google.com/github/samucale/Curso-em-vd-Python/blob/main/TESTANDO_CONHECIMENTO.ipynb\" target=\"_parent\"><img src=\"https://colab.research.google.com/assets/colab-badge.svg\" alt=\"Open In Colab\"/></a>"
      ]
    },
    {
      "cell_type": "markdown",
      "metadata": {
        "id": "aK_LX5NaLPfR"
      },
      "source": [
        "*VIAGEM*"
      ]
    },
    {
      "cell_type": "code",
      "metadata": {
        "id": "rGL2voaELJ8O"
      },
      "source": [
        "nome = input('Digite seu nome:  ')\n",
        "idade = int(input('Digite sua idade: '))\n",
        "if idade<=17:\n",
        "  print('{} você precisara de autorização de um responsavel para viajar sozinho(a)'.format(nome,idade))\n",
        "else (break)\n",
        "distancia = float(input('Digite a distancia da viagem'))\n",
        "print('Olá {} esta prestes a começar uma viagem de {} Km com a SAMIBUES'.format(nome,distancia))"
      ],
      "execution_count": null,
      "outputs": []
    },
    {
      "cell_type": "code",
      "metadata": {
        "id": "gnrghDNIdMrY"
      },
      "source": [
        ""
      ],
      "execution_count": null,
      "outputs": []
    },
    {
      "cell_type": "code",
      "metadata": {
        "colab": {
          "base_uri": "https://localhost:8080/",
          "height": 265
        },
        "id": "MzA-mXycYBXf",
        "outputId": "cbc659ed-5368-4e37-9b28-ff160fd4c29e"
      },
      "source": [
        "#Nessa linha você devera informar o nome do funcionário#\n",
        "nome = str(input('Digite Seu nome Completo:  '))\n",
        "#Nesssa linha ele deve informar que entrou na empresa \n",
        "#anoadm= float(input('Digite o ano que entrou na empresa: ' ))\n",
        "#Nessa linha ele informara o ano atual\n",
        "#anoatual= int(input('Digite o ano atual: ' ))\n",
        "#anodeempr = anoatual - anoadm\n",
        "#Aqui o programa devera imprimir uma mensagem para o funcionário parabenizando pelo anos de trabalho \n",
        "#print ('Ola {} esse ano você faz {:.0f} anos de empresa PARABENS,'.format(nome,anodeempr))\n",
        "#Aqui o Funcionario informa que precisará de dolares para comprar (atente para as condicionais)\n",
        "#condi = input('Você esta precisando comprar dolares para viajar ?')\n",
        "#if condi =='sim':\n",
        "  #reais = float(input('Quantos reais você tem para a compra ? '))\n",
        "  #conv = reais / 5.51\n",
        "  #print ('Olha com o valor de R$ {:.2f} você poderá comprar USD {:.2f}'.format(reais,conv))\n",
        "#else:\n",
        "  #print('Ótimo aproveite seu dia {}'.format(nome)) \n",
        "#pais = (input('Para qual pais você ira viajar ? '))\n",
        "#print ('Nossa {} parece ser um  maravilhoso'.format(pais))#\n",
        "print('olha eu estou curioso , seu nome completo é {},'.format(nome))\n",
        "print('seu ultimo nome é {}'.format\n",
        "\n",
        "\n",
        "\n",
        "\n"
      ],
      "execution_count": 111,
      "outputs": [
        {
          "output_type": "stream",
          "text": [
            "Digite Seu nome Completo:  Samuel Antonio silva \n",
            "olha eu estou curioso , seu nome completo é Samuel Antonio silva ,\n"
          ],
          "name": "stdout"
        },
        {
          "output_type": "error",
          "ename": "IndexError",
          "evalue": "ignored",
          "traceback": [
            "\u001b[0;31m---------------------------------------------------------------------------\u001b[0m",
            "\u001b[0;31mIndexError\u001b[0m                                Traceback (most recent call last)",
            "\u001b[0;32m<ipython-input-111-f609ea91a868>\u001b[0m in \u001b[0;36m<module>\u001b[0;34m()\u001b[0m\n\u001b[1;32m     19\u001b[0m \u001b[0;31m#print ('Nossa {} parece ser um  maravilhoso'.format(pais))#\u001b[0m\u001b[0;34m\u001b[0m\u001b[0;34m\u001b[0m\u001b[0;34m\u001b[0m\u001b[0m\n\u001b[1;32m     20\u001b[0m \u001b[0mprint\u001b[0m\u001b[0;34m(\u001b[0m\u001b[0;34m'olha eu estou curioso , seu nome completo é {},'\u001b[0m\u001b[0;34m.\u001b[0m\u001b[0mformat\u001b[0m\u001b[0;34m(\u001b[0m\u001b[0mnome\u001b[0m\u001b[0;34m)\u001b[0m\u001b[0;34m)\u001b[0m\u001b[0;34m\u001b[0m\u001b[0;34m\u001b[0m\u001b[0m\n\u001b[0;32m---> 21\u001b[0;31m \u001b[0mprint\u001b[0m\u001b[0;34m(\u001b[0m\u001b[0;34m'seu ultimo nome é {}'\u001b[0m\u001b[0;34m.\u001b[0m\u001b[0mformat\u001b[0m\u001b[0;34m(\u001b[0m\u001b[0mnome\u001b[0m\u001b[0;34m[\u001b[0m\u001b[0mlen\u001b[0m\u001b[0;34m(\u001b[0m\u001b[0mnome\u001b[0m\u001b[0;34m)\u001b[0m\u001b[0;34m]\u001b[0m\u001b[0;34m)\u001b[0m\u001b[0;34m)\u001b[0m\u001b[0;34m\u001b[0m\u001b[0;34m\u001b[0m\u001b[0m\n\u001b[0m\u001b[1;32m     22\u001b[0m \u001b[0;34m\u001b[0m\u001b[0m\n\u001b[1;32m     23\u001b[0m \u001b[0;34m\u001b[0m\u001b[0m\n",
            "\u001b[0;31mIndexError\u001b[0m: string index out of range"
          ]
        }
      ]
    },
    {
      "cell_type": "code",
      "metadata": {
        "id": "rMe6UCtPbXnl"
      },
      "source": [
        ""
      ],
      "execution_count": 111,
      "outputs": []
    },
    {
      "cell_type": "code",
      "metadata": {
        "id": "JFlRvYbcazb-"
      },
      "source": [
        "20"
      ],
      "execution_count": null,
      "outputs": []
    }
  ]
}