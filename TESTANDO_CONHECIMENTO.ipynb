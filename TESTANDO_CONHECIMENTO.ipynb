{
  "nbformat": 4,
  "nbformat_minor": 0,
  "metadata": {
    "colab": {
      "name": "TESTANDO CONHECIMENTO",
      "provenance": [],
      "include_colab_link": true
    },
    "kernelspec": {
      "name": "python3",
      "display_name": "Python 3"
    }
  },
  "cells": [
    {
      "cell_type": "markdown",
      "metadata": {
        "id": "view-in-github",
        "colab_type": "text"
      },
      "source": [
        "<a href=\"https://colab.research.google.com/github/samucale/Curso-em-vd-Python/blob/main/TESTANDO_CONHECIMENTO.ipynb\" target=\"_parent\"><img src=\"https://colab.research.google.com/assets/colab-badge.svg\" alt=\"Open In Colab\"/></a>"
      ]
    },
    {
      "cell_type": "markdown",
      "metadata": {
        "id": "aK_LX5NaLPfR"
      },
      "source": [
        "*VIAGEM*"
      ]
    },
    {
      "cell_type": "code",
      "metadata": {
        "id": "rGL2voaELJ8O"
      },
      "source": [
        "nome = input('Digite seu nome:  ')\n",
        "idade = int(input('Digite sua idade: '))\n",
        "if idade<=17:\n",
        "  print('{} você precisara de autorização de um responsavel para viajar sozinho(a)'.format(nome,idade))\n",
        "else (break)\n",
        "distancia = float(input('Digite a distancia da viagem'))\n",
        "print('Olá {} esta prestes a começar uma viagem de {} Km com a SAMIBUES'.format(nome,distancia))"
      ],
      "execution_count": null,
      "outputs": []
    },
    {
      "cell_type": "code",
      "metadata": {
        "id": "gnrghDNIdMrY"
      },
      "source": [
        ""
      ],
      "execution_count": null,
      "outputs": []
    },
    {
      "cell_type": "code",
      "metadata": {
        "colab": {
          "base_uri": "https://localhost:8080/"
        },
        "id": "MzA-mXycYBXf",
        "outputId": "7b1a12ec-700c-41ae-f790-22cbcc29b02d"
      },
      "source": [
        "#Nessa linha você devera informar o nome do funcionário#\n",
        "n=str(input('Digite seu nome Completo: ')).strip()\n",
        "nome=n.split()\n",
        "#Nesssa linha ele deve informar que entrou na empresa \n",
        "anoadm= float(input('Digite o ano que entrou na empresa: ' ))\n",
        "#Nessa linha ele informara o ano atual\n",
        "anoatual= int(input('Digite o ano atual: ' ))\n",
        "anodeempr = anoatual - anoadm\n",
        "#Aqui o programa devera imprimir uma mensagem para o funcionário parabenizando pelo anos de trabalho \n",
        "print ('Ola {} esse ano você faz {:.0f} anos de empresa PARABENS,darems uma viagem pelo tempo que esta com a gente'.format(n,anodeempr))\n",
        "#Aqui o Funcionario informa que precisará de dolares para comprar (atente para as condicionais)\n",
        "condi = input('você esta precisando comprar dolares para essa viagem ?')\n",
        "if condi =='sim':\n",
        "  reais = float(input('Quantos reais você tem para a compra ? '))\n",
        "  conv = reais / 5.51\n",
        "  print ('Olha com o valor de R$ {:.2f} você poderá comprar USD {:.2f}'.format(reais,conv))\n",
        "else:\n",
        "  print('Ótimo aproveite seu dia {}'.format(nome[0]))\n",
        "\n",
        "pais = (input('Para qual pais você ira viajar ? '))\n",
        "print ('Nossa {} parece ser um  maravilhoso'.format(pais))\n",
        "print('olha eu estou curioso , seu nome completo é {},'.format(n))\n",
        "print('seu ultimo nome é {}'.format(nome[len(nome)-1]))\n",
        "\n",
        "\n",
        "\n",
        "\n"
      ],
      "execution_count": 24,
      "outputs": [
        {
          "output_type": "stream",
          "text": [
            "Digite seu nome Completo: Samuel Antonio Siva \n",
            "Digite o ano que entrou na empresa: 2008\n",
            "Digite o ano atual: 2021\n",
            "Ola Samuel Antonio Siva esse ano você faz 13 anos de empresa PARABENS,darems uma viagem pelo tempo que esta com a gente\n",
            "você esta precisando comprar dolares para essa viagem ?não\n",
            "Ótimo aproveite seu dia Samuel\n",
            "Para qual pais você ira viajar ? 1000.00\n",
            "Nossa 1000.00 parece ser um  maravilhoso\n",
            "olha eu estou curioso , seu nome completo é Samuel Antonio Siva,\n",
            "seu ultimo nome é Siva\n"
          ],
          "name": "stdout"
        }
      ]
    },
    {
      "cell_type": "code",
      "metadata": {
        "id": "rMe6UCtPbXnl"
      },
      "source": [
        ""
      ],
      "execution_count": 8,
      "outputs": []
    },
    {
      "cell_type": "code",
      "metadata": {
        "id": "JFlRvYbcazb-"
      },
      "source": [
        "20"
      ],
      "execution_count": null,
      "outputs": []
    }
  ]
}