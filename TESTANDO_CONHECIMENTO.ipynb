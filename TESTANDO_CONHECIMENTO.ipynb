{
  "nbformat": 4,
  "nbformat_minor": 0,
  "metadata": {
    "colab": {
      "name": "TESTANDO CONHECIMENTO",
      "provenance": [],
      "include_colab_link": true
    },
    "kernelspec": {
      "name": "python3",
      "display_name": "Python 3"
    }
  },
  "cells": [
    {
      "cell_type": "markdown",
      "metadata": {
        "id": "view-in-github",
        "colab_type": "text"
      },
      "source": [
        "<a href=\"https://colab.research.google.com/github/samucale/Curso-em-vd-Python/blob/main/TESTANDO_CONHECIMENTO.ipynb\" target=\"_parent\"><img src=\"https://colab.research.google.com/assets/colab-badge.svg\" alt=\"Open In Colab\"/></a>"
      ]
    },
    {
      "cell_type": "markdown",
      "metadata": {
        "id": "aK_LX5NaLPfR"
      },
      "source": [
        "*VIAGEM*"
      ]
    },
    {
      "cell_type": "code",
      "metadata": {
        "id": "rGL2voaELJ8O"
      },
      "source": [
        "nome = input('Digite seu nome:  ')\n",
        "idade = int(input('Digite sua idade: '))\n",
        "if idade<=17:\n",
        "  print('{} você precisara de autorização de um responsavel para viajar sozinho(a)'.format(nome,idade))\n",
        "else (break)\n",
        "distancia = float(input('Digite a distancia da viagem'))\n",
        "print('Olá {} esta prestes a começar uma viagem de {} Km com a SAMIBUES'.format(nome,distancia))"
      ],
      "execution_count": null,
      "outputs": []
    },
    {
      "cell_type": "code",
      "metadata": {
        "id": "gnrghDNIdMrY"
      },
      "source": [
        ""
      ],
      "execution_count": null,
      "outputs": []
    },
    {
      "cell_type": "code",
      "metadata": {
        "colab": {
          "base_uri": "https://localhost:8080/"
        },
        "id": "MzA-mXycYBXf",
        "outputId": "0db8edb6-4cd3-4a7b-cefd-1c69ac10de86"
      },
      "source": [
        "from datetime import date \n",
        "\n",
        "n=str(input('Digite seu nome Completo: ')).strip()\n",
        "nome=n.split()\n",
        "anoadm =   float(input('Digite o ano que entrou na empresa: ' ))\n",
        "anoatual = date.today().year\n",
        "anodeempr =anoatual - anoadm\n",
        "print ('Ola {} Obrigado por estar conosco {} anos,'.format(n,anodeempr))\n",
        "print ('Iremos te presentear com uma viagem para qualquer pais da EUROPA')\n",
        "pais = (input('Para qual pais você deseja  viajar ? '))\n",
        "print ('Nossa {} parece ser um lugar maravilhoso,'.format(pais))\n",
        "dolares = input('Você esta precisando comprar dolares para essa viagem ?')\n",
        "if dolares=='sim':\n",
        "  reais = float(input('Quantos reais você tem para a compra ? :'))\n",
        "  conv = reaii / 5.51 \n",
        "  print('Olha com o valor de R$ {:.2f} você poderá comprar USD {:.2f} e viajar para {}'.format(reais,conv,pais))\n",
        "  print('seu ultimo nome é {}'.format(nome[len(nome)-1]))\n",
        "else:\n",
        "  print('Ótimo aproveite seu dia {}'.format(nome[0]))\n",
        "\n",
        "\n",
        "\n",
        "\n",
        "\n",
        "\n",
        "\n",
        "\n"
      ],
      "execution_count": 22,
      "outputs": [
        {
          "output_type": "stream",
          "text": [
            "Digite seu nome Completo: Samuel Antonio Silva \n",
            "Digite o ano que entrou na empresa: 2008\n",
            "Ola Samuel Antonio Silva Obrigado por estar conosco 13.0 anos,\n",
            "Iremos te presentear com uma viagem para qualquer pais da EUROPA\n",
            "Para qual pais você deseja  viajar ? italia\n",
            "Nossa italia parece ser um lugar maravilhoso,\n",
            "você esta precisando comprar dolares para essa viagem ?não\n",
            "Ótimo aproveite seu dia Samuel\n"
          ],
          "name": "stdout"
        }
      ]
    },
    {
      "cell_type": "code",
      "metadata": {
        "id": "rMe6UCtPbXnl"
      },
      "source": [
        ""
      ],
      "execution_count": null,
      "outputs": []
    },
    {
      "cell_type": "code",
      "metadata": {
        "id": "JFlRvYbcazb-"
      },
      "source": [
        ""
      ],
      "execution_count": null,
      "outputs": []
    }
  ]
}