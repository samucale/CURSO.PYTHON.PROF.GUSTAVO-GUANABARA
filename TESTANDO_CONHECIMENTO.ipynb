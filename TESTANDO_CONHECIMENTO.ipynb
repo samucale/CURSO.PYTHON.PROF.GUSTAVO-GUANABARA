{
  "nbformat": 4,
  "nbformat_minor": 0,
  "metadata": {
    "colab": {
      "name": "TESTANDO CONHECIMENTO",
      "provenance": [],
      "include_colab_link": true
    },
    "kernelspec": {
      "name": "python385jvsc74a57bd0011ad2dedc57127ea8c83e989a76f073505c5db27349089d71c7b58aa3e2c9cf",
      "display_name": "Python 3.8.5 64-bit ('base': conda)"
    }
  },
  "cells": [
    {
      "cell_type": "code",
      "execution_count": 21,
      "metadata": {},
      "outputs": [],
      "source": [
        "from datetime import date"
      ]
    },
    {
      "source": [],
      "cell_type": "markdown",
      "metadata": {}
    },
    {
      "cell_type": "code",
      "metadata": {
        "colab": {
          "base_uri": "https://localhost:8080/"
        },
        "id": "MzA-mXycYBXf",
        "outputId": "0db8edb6-4cd3-4a7b-cefd-1c69ac10de86"
      },
      "source": [
        "nome1=str(input('Digite seu nome Completo: ')).strip()\n",
        "nome=nome1.split()\n",
        "anoadm =   float(input('Digite o ano que entrou na empresa: '))\n",
        "anoatual = date.today().year\n",
        "anodeempr =anoatual - anoadm\n",
        "print ('Ola {} obrigado por estar conosco há {} anos,'.format(nome1,anodeempr))\n",
        "print ('Queremos te presentear com uma viagem para qualquer pais da EUROPA.')\n",
        "cond = input ('Você aceita nosso convite ?')\n",
        "if cond =='sim':\n",
        "  pais1 = (input('Para qual pais você deseja  viajar ? ')).strip()\n",
        "  pais = pais1.split()\n",
        "  print ('Nossa {} parece ser um lugar maravilhoso '.format(pais1))\n",
        "  resp = input ( 'Você esta precisando de dolares para viagem ? ')\n",
        "  \n",
        "\n",
        "\n"
      ],
      "execution_count": 33,
      "outputs": [
        {
          "output_type": "stream",
          "name": "stdout",
          "text": [
            "Ola Samuel obrigado por estar conosco há 13.0 anos,\n",
            "Queremos te presentear com uma viagem para qualquer pais da EUROPA.\n",
            "Nossa italia parece ser um lugar maravilhoso \n"
          ]
        },
        {
          "output_type": "error",
          "ename": "TypeError",
          "evalue": "unsupported operand type(s) for /: 'str' and 'float'",
          "traceback": [
            "\u001b[1;31m---------------------------------------------------------------------------\u001b[0m",
            "\u001b[1;31mTypeError\u001b[0m                                 Traceback (most recent call last)",
            "\u001b[1;32m<ipython-input-33-b9a30b3d461a>\u001b[0m in \u001b[0;36m<module>\u001b[1;34m\u001b[0m\n\u001b[0;32m     16\u001b[0m   \u001b[0mcond\u001b[0m \u001b[1;33m=\u001b[0m\u001b[0mfloat\u001b[0m\u001b[1;33m(\u001b[0m\u001b[0minput\u001b[0m\u001b[1;33m(\u001b[0m\u001b[1;34m'Quanto você tem para compra'\u001b[0m\u001b[1;33m)\u001b[0m\u001b[1;33m)\u001b[0m\u001b[1;33m\u001b[0m\u001b[1;33m\u001b[0m\u001b[0m\n\u001b[0;32m     17\u001b[0m \u001b[1;32mif\u001b[0m \u001b[0mcond\u001b[0m\u001b[1;33m==\u001b[0m \u001b[1;34m'sim'\u001b[0m\u001b[1;33m:\u001b[0m\u001b[1;33m\u001b[0m\u001b[1;33m\u001b[0m\u001b[0m\n\u001b[1;32m---> 18\u001b[1;33m   \u001b[0mdol\u001b[0m \u001b[1;33m=\u001b[0m \u001b[0mcond\u001b[0m \u001b[1;33m/\u001b[0m \u001b[1;36m5.51\u001b[0m\u001b[1;33m\u001b[0m\u001b[1;33m\u001b[0m\u001b[0m\n\u001b[0m\u001b[0;32m     19\u001b[0m   \u001b[0mprint\u001b[0m \u001b[1;33m(\u001b[0m\u001b[1;34m'Com o valor de R${} reais você poderá comprar USD{} '\u001b[0m\u001b[1;33m.\u001b[0m\u001b[0mformat\u001b[0m \u001b[1;33m(\u001b[0m\u001b[0mcond\u001b[0m\u001b[1;33m,\u001b[0m\u001b[0mdol\u001b[0m\u001b[1;33m)\u001b[0m\u001b[1;33m)\u001b[0m\u001b[1;33m\u001b[0m\u001b[1;33m\u001b[0m\u001b[0m\n\u001b[0;32m     20\u001b[0m \u001b[1;32melse\u001b[0m\u001b[1;33m:\u001b[0m\u001b[1;33m\u001b[0m\u001b[1;33m\u001b[0m\u001b[0m\n",
            "\u001b[1;31mTypeError\u001b[0m: unsupported operand type(s) for /: 'str' and 'float'"
          ]
        }
      ]
    },
    {
      "source": [],
      "cell_type": "markdown",
      "metadata": {}
    },
    {
      "source": [],
      "cell_type": "markdown",
      "metadata": {}
    },
    {
      "source": [],
      "cell_type": "markdown",
      "metadata": {}
    },
    {
      "cell_type": "code",
      "metadata": {
        "id": "rMe6UCtPbXnl"
      },
      "source": [],
      "execution_count": null,
      "outputs": []
    },
    {
      "cell_type": "code",
      "metadata": {
        "id": "JFlRvYbcazb-"
      },
      "source": [],
      "execution_count": null,
      "outputs": []
    }
  ]
}