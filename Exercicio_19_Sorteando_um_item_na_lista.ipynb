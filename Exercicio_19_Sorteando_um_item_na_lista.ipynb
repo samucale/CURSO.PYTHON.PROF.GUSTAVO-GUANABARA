{
  "nbformat": 4,
  "nbformat_minor": 0,
  "metadata": {
    "colab": {
      "name": "Exercicio 19 - Sorteando um item  na lista ",
      "provenance": [],
      "include_colab_link": true
    },
    "kernelspec": {
      "name": "python3",
      "display_name": "Python 3"
    }
  },
  "cells": [
    {
      "cell_type": "markdown",
      "metadata": {
        "id": "view-in-github",
        "colab_type": "text"
      },
      "source": [
        "<a href=\"https://colab.research.google.com/github/samucale/CURSO.PYTHON.PROF.GUSTAVO-GUANABARA/blob/main/Exercicio_19_Sorteando_um_item_na_lista.ipynb\" target=\"_parent\"><img src=\"https://colab.research.google.com/assets/colab-badge.svg\" alt=\"Open In Colab\"/></a>"
      ]
    },
    {
      "cell_type": "markdown",
      "metadata": {
        "id": "9pk3wpfV2Jar"
      },
      "source": [
        "*UM PROFESSOR QUER SORTEAR UM DOS SEUS QUATRO ALUNOS PARA APAGAR O QUADRO . FAÇA UM PROGRAMA QUE AJUDE ELE, LENDDO O NOME DELES E ESCREVENDO O NOME DO ESCOLHIDO.*"
      ]
    },
    {
      "cell_type": "code",
      "metadata": {
        "id": "fBy0kLtZbXK2"
      },
      "source": [
        "import random"
      ],
      "execution_count": 4,
      "outputs": []
    },
    {
      "cell_type": "code",
      "metadata": {
        "id": "Hi7NroFF2jAi",
        "outputId": "a7fe0f62-4233-4f41-adf4-639db2fd92c9",
        "colab": {
          "base_uri": "https://localhost:8080/"
        }
      },
      "source": [
        "aluno1 = input('Digite o nome do aluno: ')\r\n",
        "aluno2 = input('Digite o nome do aluno: ')\r\n",
        "aluno3 = input('Digite o nome do aluno: ')\r\n",
        "aluno4 = input('Digite o nome do aluno: ')\r\n",
        "lista = [aluno1,aluno2,aluno3,aluno4]\r\n",
        "escolhido = random.choice(lista)\r\n",
        "print('O aluno escolhido foi {}'.format(escolhido))"
      ],
      "execution_count": 5,
      "outputs": [
        {
          "output_type": "stream",
          "text": [
            "Digite o nome do aluno: carlos \n",
            "Digite o nome do aluno: fernando\n",
            "Digite o nome do aluno: henrique\n",
            "Digite o nome do aluno: bianca \n",
            "O aluno escolhido foi henrique\n"
          ],
          "name": "stdout"
        }
      ]
    },
    {
      "cell_type": "code",
      "metadata": {
        "id": "8DexWSAVZvy_"
      },
      "source": [
        ""
      ],
      "execution_count": null,
      "outputs": []
    }
  ]
}