{
  "nbformat": 4,
  "nbformat_minor": 0,
  "metadata": {
    "colab": {
      "name": "Exercicio 30 - Par ou Impar ",
      "provenance": [],
      "include_colab_link": true
    },
    "kernelspec": {
      "name": "python3",
      "display_name": "Python 3"
    }
  },
  "cells": [
    {
      "cell_type": "markdown",
      "metadata": {
        "id": "view-in-github",
        "colab_type": "text"
      },
      "source": [
        "<a href=\"https://colab.research.google.com/github/samucale/CURSO.PYTHON.PROF.GUSTAVO-GUANABARA/blob/main/Exercicio_30_Par_ou_Impar.ipynb\" target=\"_parent\"><img src=\"https://colab.research.google.com/assets/colab-badge.svg\" alt=\"Open In Colab\"/></a>"
      ]
    },
    {
      "cell_type": "markdown",
      "metadata": {
        "id": "LBk9dKhMXHgZ"
      },
      "source": [
        "*CRIE UM PROGRAMA QUE LEIA UM NUMERO INTEIRO E MOSTRE NA TELA SE ELE E PAR OU IMPAR*."
      ]
    },
    {
      "cell_type": "code",
      "metadata": {
        "id": "x49yuWh5XUC9",
        "colab": {
          "base_uri": "https://localhost:8080/"
        },
        "outputId": "bcdfba9a-16d3-4e9e-fa32-c910179829c5"
      },
      "source": [
        "numero = int(input('Digite um numero: '))\r\n",
        "resultado = numero%2\r\n",
        "if resultado ==0:\r\n",
        "  print('O numero {} é par'.format(numero))\r\n",
        "else:\r\n",
        "  print('O numero {} é impar'.format(numero))  "
      ],
      "execution_count": null,
      "outputs": [
        {
          "output_type": "stream",
          "text": [
            "Digite um numero: 3\n",
            "O numero 3 é impar\n"
          ],
          "name": "stdout"
        }
      ]
    },
    {
      "cell_type": "code",
      "metadata": {
        "id": "ZIkldApfhcuF",
        "colab": {
          "base_uri": "https://localhost:8080/"
        },
        "outputId": "97a9040f-7559-4b5d-f13d-6dd09df27fae"
      },
      "source": [
        "n=int(input('Digite um numero:'))\r\n",
        "resultado = n%2\r\n",
        "if resultado==0: \r\n",
        "  print('O numero {} é par'.format(n))\r\n",
        "else: \r\n",
        "  print('O numero {} é impar'.format(n))"
      ],
      "execution_count": 13,
      "outputs": [
        {
          "output_type": "stream",
          "text": [
            "Digite um numero:4\n",
            "O numero 4 é par\n"
          ],
          "name": "stdout"
        }
      ]
    },
    {
      "cell_type": "code",
      "metadata": {
        "colab": {
          "base_uri": "https://localhost:8080/"
        },
        "id": "f3dgj5bQ2fHY",
        "outputId": "f6091b79-e843-43b8-e9bf-827deec2c60c"
      },
      "source": [
        "n=int(input('Digite um numero'))\r\n",
        "resultado=n%2\r\n",
        "if resultado==0:\r\n",
        "  print('O numero {} digitado é par'.format(n))\r\n",
        "else:\r\n",
        "  print('O numero {} digitado é impar'.format(n))  "
      ],
      "execution_count": 16,
      "outputs": [
        {
          "output_type": "stream",
          "text": [
            "Digite um numero3\n",
            "O numero 3 digitado é impar\n"
          ],
          "name": "stdout"
        }
      ]
    },
    {
      "cell_type": "code",
      "metadata": {
        "id": "gISAJmSj4BN7"
      },
      "source": [
        ""
      ],
      "execution_count": null,
      "outputs": []
    }
  ]
}