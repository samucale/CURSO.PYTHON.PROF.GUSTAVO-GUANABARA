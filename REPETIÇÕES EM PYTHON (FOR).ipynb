{
  "nbformat": 4,
  "nbformat_minor": 0,
  "metadata": {
    "colab": {
      "name": "Exercício 46 – Contagem regressiva",
      "provenance": [],
      "mount_file_id": "1bPp2vBiXpRs7KA6_UTnu-_OP7UFE8FO5",
      "authorship_tag": "ABX9TyMk5aGTdEEFUHVn1ukIgsWR",
      "include_colab_link": true
    },
    "kernelspec": {
      "name": "python3",
      "display_name": "Python 3"
    },
    "language_info": {
      "name": "python"
    },
    "accelerator": "GPU"
  },
  "cells": [
    {
      "cell_type": "markdown",
      "metadata": {
        "id": "view-in-github",
        "colab_type": "text"
      },
      "source": [
        "<a href=\"https://colab.research.google.com/github/samucale/Curso_em_Video/blob/main/REPETI%C3%87%C3%95ES%20EM%20PYTHON%20(FOR).ipynb\" target=\"_parent\"><img src=\"https://colab.research.google.com/assets/colab-badge.svg\" alt=\"Open In Colab\"/></a>"
      ]
    },
    {
      "cell_type": "markdown",
      "metadata": {
        "id": "0-eOcmytWxbr"
      },
      "source": [
        "### Exercício Python 46: Faça um programa que mostre na tela uma contagem regressiva para o estouro de fogos de artifício, indo de 10 até 0, com uma pausa de 1 segundo entre eles.\n"
      ]
    },
    {
      "cell_type": "code",
      "metadata": {
        "colab": {
          "base_uri": "https://localhost:8080/"
        },
        "id": "XEtQpCqiWDVX",
        "outputId": "9e75e9c7-ae60-4f0b-a14c-bc8b5a9f1c1e"
      },
      "source": [
        "#from time import sleep#\n",
        "for cont in range (10,-1,-1):\n",
        "    print(cont)\n",
        "    sleep(0.5)\n",
        "print ('BUM....BUM...BRUM')    "
      ],
      "execution_count": null,
      "outputs": [
        {
          "output_type": "stream",
          "text": [
            "10\n",
            "9\n",
            "8\n",
            "7\n",
            "6\n",
            "5\n",
            "4\n",
            "3\n",
            "2\n",
            "1\n",
            "0\n",
            "BUM....BUM...BRUM\n"
          ],
          "name": "stdout"
        }
      ]
    },
    {
      "cell_type": "code",
      "metadata": {
        "colab": {
          "base_uri": "https://localhost:8080/"
        },
        "id": "WYTG3rQXY1RM",
        "outputId": "ebbd04eb-7a52-4157-df7f-d5b27af052be"
      },
      "source": [
        "for cont in range (0,11):\n",
        "  print (cont)\n",
        "  sleep (1.0)\n",
        "print ('COOORRAAAAA')  "
      ],
      "execution_count": null,
      "outputs": [
        {
          "output_type": "stream",
          "text": [
            "0\n",
            "1\n",
            "2\n",
            "3\n",
            "4\n",
            "5\n",
            "6\n",
            "7\n",
            "8\n",
            "9\n",
            "10\n",
            "COOORRAAAAA\n"
          ],
          "name": "stdout"
        }
      ]
    },
    {
      "cell_type": "markdown",
      "metadata": {
        "id": "X--3QTvrgwkC"
      },
      "source": [
        "###Exercícios 47 – Contagem de pares"
      ]
    },
    {
      "cell_type": "code",
      "metadata": {
        "id": "_FA3Dcm_g0u4",
        "colab": {
          "base_uri": "https://localhost:8080/"
        },
        "outputId": "239fc089-749c-4457-e351-07810142183f"
      },
      "source": [
        "for n in range (2,51,2):\n",
        "    print(n,end=' ')"
      ],
      "execution_count": null,
      "outputs": [
        {
          "output_type": "stream",
          "text": [
            "2 4 6 8 10 12 14 16 18 20 22 24 26 28 30 32 34 36 38 40 42 44 46 48 50 "
          ],
          "name": "stdout"
        }
      ]
    },
    {
      "cell_type": "markdown",
      "metadata": {
        "id": "25fb5B4pvguG"
      },
      "source": [
        "###Exercício 48 – Soma ímpares múltiplos de três*\n",
        "\n",
        "> Bloco com recuo\n",
        "\n",
        "\n",
        "\n",
        "*Faça um programa que calcule a soma entre todos os números que são múltiplos de três e que se encontram no intervalo de 1 até 500.*"
      ]
    },
    {
      "cell_type": "code",
      "metadata": {
        "id": "yMaDM-NgvmMc",
        "colab": {
          "base_uri": "https://localhost:8080/"
        },
        "outputId": "d4d35058-02ff-4797-eb8e-b6ff606f50d2"
      },
      "source": [
        "soma  = 0\n",
        "cont = 0 \n",
        "for c in range (1,501,2):\n",
        "    if c % 3 == 0:\n",
        "        soma = soma + c \n",
        "        cont = cont + 1 \n",
        "print ('A soma de todos os  {} valores solicitados é de {}'.format(cont,soma))        \n",
        "          \n"
      ],
      "execution_count": null,
      "outputs": [
        {
          "output_type": "stream",
          "text": [
            "A soma de todos os  83 valores solicitados é de 20667\n"
          ],
          "name": "stdout"
        }
      ]
    },
    {
      "cell_type": "markdown",
      "metadata": {
        "id": "q-F6dEpMybQn"
      },
      "source": [
        "\n",
        "###Exercício 49 – Tabuada v.2.0###\n",
        "\n",
        "\n",
        "###Refaça o DESAFIO 9, mostrando a tabuada de um número que o usuário escolher, só que agora utilizando um laço for###\n",
        "\n",
        "\n",
        "\n",
        "\n",
        "\n"
      ]
    },
    {
      "cell_type": "code",
      "metadata": {
        "id": "-oHCKT1IyqBo",
        "colab": {
          "base_uri": "https://localhost:8080/"
        },
        "outputId": "13ee2aab-65be-4363-a4d6-262b09af8939"
      },
      "source": [
        "num=int(input('Digite o numero da tabuada'))\n",
        "for c in range (1,11):\n",
        "    print ('{} x {:2} = {}'.format(num,c,num*c))"
      ],
      "execution_count": null,
      "outputs": [
        {
          "output_type": "stream",
          "text": [
            "Digite o numero da tabuada2\n",
            "2 x  1 = 2\n",
            "2 x  2 = 4\n",
            "2 x  3 = 6\n",
            "2 x  4 = 8\n",
            "2 x  5 = 10\n",
            "2 x  6 = 12\n",
            "2 x  7 = 14\n",
            "2 x  8 = 16\n",
            "2 x  9 = 18\n",
            "2 x 10 = 20\n"
          ],
          "name": "stdout"
        }
      ]
    },
    {
      "cell_type": "code",
      "metadata": {
        "id": "TF8eW-59z5_Y"
      },
      "source": [
        ""
      ],
      "execution_count": null,
      "outputs": []
    },
    {
      "cell_type": "markdown",
      "metadata": {
        "id": "977Xo41O0Wcy"
      },
      "source": [
        "###Exercício 50 – Soma dos pares###\n",
        "\n",
        "*Desenvolva um programa que leia seis números inteiros e mostre a soma apenas daqueles que forem pares. Se o valor digitado for ímpar, desconsidere-o.*\n"
      ]
    },
    {
      "cell_type": "code",
      "metadata": {
        "id": "3fwPqsC50Y58",
        "colab": {
          "base_uri": "https://localhost:8080/"
        },
        "outputId": "737ee2aa-05b9-473a-ae6d-d5d46b0c2f75"
      },
      "source": [
        "soma = 0\n",
        "cont = 0\n",
        "for c in range (1,7):\n",
        "    num = int(input('Digite um valor:'))\n",
        "    if num % 2 == 0:\n",
        "      soma += num\n",
        "      cont += 1\n",
        "print ('Voce informou {} numeros e a soma foi {}'.format(cont,soma))"
      ],
      "execution_count": null,
      "outputs": [
        {
          "output_type": "stream",
          "text": [
            "Digite um valor:1\n",
            "Digite um valor:3\n",
            "Digite um valor:5\n",
            "Digite um valor:7\n",
            "Digite um valor:8\n",
            "Digite um valor:1\n",
            "Voce informou 1 numeros e a soma foi 8\n"
          ],
          "name": "stdout"
        }
      ]
    },
    {
      "cell_type": "code",
      "metadata": {
        "id": "QpYnC7gM16xM"
      },
      "source": [
        ""
      ],
      "execution_count": null,
      "outputs": []
    },
    {
      "cell_type": "markdown",
      "metadata": {
        "id": "20jR0f9O5_Mm"
      },
      "source": [
        "###Exercício 51 – Progressão Aritmética###\n",
        "\n",
        "*Desenvolva um programa que leia o primeiro termo e a razão de uma PA. No final, mostre os 10 primeiros termos dessa progressão*"
      ]
    },
    {
      "cell_type": "code",
      "metadata": {
        "id": "COvRK7rJ6BRy",
        "colab": {
          "base_uri": "https://localhost:8080/"
        },
        "outputId": "a95d34cc-cd4c-4dbd-bc72-922ade84196c"
      },
      "source": [
        "primeiro = int(input('Primeiro termo: '))\n",
        "razão = int (input('Razão : '))\n",
        "decimo = primeiro + (10 - 1 )* razão \n",
        "for c in range (primeiro , decimo + razão,razão):\n",
        "    print ('{}'.format(c),end='-')\n",
        "print ('ACABOU')    "
      ],
      "execution_count": null,
      "outputs": [
        {
          "output_type": "stream",
          "text": [
            "Primeiro termo: 25\n",
            "Razão : 5\n",
            "25-30-35-40-45-50-55-60-65-70-ACABOU\n"
          ],
          "name": "stdout"
        }
      ]
    },
    {
      "cell_type": "markdown",
      "metadata": {
        "id": "w9Mcl5bg6ISJ"
      },
      "source": [
        "###Exercício 52 – Números primos\n",
        "\n",
        "*Faça um programa que leia um número inteiro e diga se ele é ou não um número primo.*"
      ]
    },
    {
      "cell_type": "code",
      "metadata": {
        "id": "WEyBFSRx8skK",
        "colab": {
          "base_uri": "https://localhost:8080/"
        },
        "outputId": "ce3d8ab4-26f2-41de-f892-06c24c25ee29"
      },
      "source": [
        "num = int(input('Digite um numero: '))\n",
        "tot = 0 \n",
        "for c in range (1,num + 1):\n",
        "    if num % c ==0:\n",
        "      print ('\\033[33m',end='')\n",
        "      tot += 1\n",
        "    else:\n",
        "      print ('\\033[31m',end=' ' )\n",
        "    print('{}'.format(c),end=' ' )   \n",
        "print('\\n\\033[m0 numero {} foi diviisivel {} vezes'.format (num,tot))\n",
        "if tot==2:\n",
        "    print ('E por isso ele É PRIMO !')\n",
        "else:\n",
        "    print('E por isso ele não é PRIMO !')\n",
        "\n",
        "\n",
        "\n"
      ],
      "execution_count": 8,
      "outputs": [
        {
          "output_type": "stream",
          "text": [
            "Digite um numero: 11\n",
            "\u001b[33m1 \u001b[31m 2 \u001b[31m 3 \u001b[31m 4 \u001b[31m 5 \u001b[31m 6 \u001b[31m 7 \u001b[31m 8 \u001b[31m 9 \u001b[31m 10 \u001b[33m11 \n",
            "\u001b[m0 numero 11 foi diviisivel 2 vezes\n",
            "E por isso ele É PRIMO !\n"
          ],
          "name": "stdout"
        }
      ]
    },
    {
      "cell_type": "markdown",
      "metadata": {
        "id": "JuwRIUom6Y2f"
      },
      "source": [
        "###Exercício 53 – Detector de Palíndromo\n",
        "\n",
        "*Crie um programa que leia uma frase qualquer e diga se ela é um palíndromo, desconsiderando os espaços. Exemplos de palíndromos:*"
      ]
    },
    {
      "cell_type": "code",
      "metadata": {
        "id": "35PUJhVv6gAo",
        "colab": {
          "base_uri": "https://localhost:8080/"
        },
        "outputId": "7cdc246e-f672-49ff-e0f9-8f3516c99c73"
      },
      "source": [
        "frase =str(input('Digite uma frase:')).strip().upper()\n",
        "palavras = frase.split()\n",
        "junto =''.join(palavras)\n",
        "inverso = ''\n",
        "for letra in range(len(junto)-1,-1,-1):\n",
        "    inverso+=junto [letra]\n",
        "if inverso == junto :\n",
        "    print ('Temos um palindromo!')\n",
        "else : \n",
        "  print('A frase digitada não é um palindromo')        \n",
        "\n",
        "\n"
      ],
      "execution_count": 11,
      "outputs": [
        {
          "output_type": "stream",
          "text": [
            "Digite uma frase:o lobo ama o bolo\n",
            "Temos m palindromo!\n"
          ],
          "name": "stdout"
        }
      ]
    },
    {
      "cell_type": "markdown",
      "metadata": {
        "id": "Vc5nQF8Q6hJu"
      },
      "source": [
        "###Exercício 54 – Grupo da Maioridade\n",
        "\n",
        "* Crie um programa que leia o ano de nascimento de sete pessoas. No final, mostre quantas pessoas ainda não atingiram a maioridade e quantas já são maiores*"
      ]
    },
    {
      "cell_type": "code",
      "metadata": {
        "colab": {
          "base_uri": "https://localhost:8080/"
        },
        "id": "Gn6gim0jVvPz",
        "outputId": "0442f769-7fb9-4030-87d3-141f17c804e5"
      },
      "source": [
        "from datetime import date\n",
        "atual = date.today().year\n",
        "totmaior = 0 \n",
        "totmenor = 0 \n",
        "for pess in range (1,8):\n",
        "    nasc = int(input('Em que a ano a {} pessoa nasceu ? '.format(pess)))\n",
        "    idade = atual - nasc\n",
        "    if idade >= 21:\n",
        "        totmaior += 1\n",
        "    else:\n",
        "        totmenor += 1  \n",
        "print('Ao todo tivemos {} pessoas  maiores de idade'.format(totmaior)) \n",
        "print('E tambem tivemos {} pessoas manores de idade '.format(totmenor)) "
      ],
      "execution_count": 17,
      "outputs": [
        {
          "output_type": "stream",
          "text": [
            "Em que a ano a 1 pessoa nasceu ? 1982\n",
            "Em que a ano a 2 pessoa nasceu ? 2020\n",
            "Em que a ano a 3 pessoa nasceu ? 1969\n",
            "Em que a ano a 4 pessoa nasceu ? 1950\n",
            "Em que a ano a 5 pessoa nasceu ? 2021\n",
            "Em que a ano a 6 pessoa nasceu ? 198\n",
            "Em que a ano a 7 pessoa nasceu ? 1970\n",
            "Ao todo tivemos 5 pessoas  maiores de idade\n",
            "E tambem tivemos 2 pessoas manires de idade \n"
          ],
          "name": "stdout"
        }
      ]
    },
    {
      "cell_type": "markdown",
      "metadata": {
        "id": "38Ygbq6J6wuY"
      },
      "source": [
        "###Exercício 55 – Maior e menor da sequência\n",
        "\n",
        "*Faça um programa que leia o peso de cinco pessoas. No final, mostre qual foi o maior e o menor peso lidos.*"
      ]
    },
    {
      "cell_type": "code",
      "metadata": {
        "colab": {
          "base_uri": "https://localhost:8080/"
        },
        "id": "s84tysJSZ_YE",
        "outputId": "df4c266c-8fde-48c4-803f-5865125949ca"
      },
      "source": [
        "maior = 0 \n",
        "menor = 0\n",
        "for p in range (1, 6):\n",
        "    peso = float(input('Peso da {} pessoa :'.format(p)))\n",
        "    if p == 1:\n",
        "        maior = peso\n",
        "        menor = peso \n",
        "    else:\n",
        "        if peso > maior :\n",
        "            maior = peso\n",
        "        if peso < menor : \n",
        "            menor = peso   \n",
        "print ('O maior peso lido foi de {} kg'.format (maior))\n",
        "print ('O menor peso lido foi de {} kg'.format(menor))                "
      ],
      "execution_count": 25,
      "outputs": [
        {
          "output_type": "stream",
          "text": [
            "Peso da 1 pessoa :100\n",
            "Peso da 2 pessoa :200\n",
            "Peso da 3 pessoa :300\n",
            "Peso da 4 pessoa :400\n",
            "Peso da 5 pessoa :500\n",
            "O maior peso lido foi de 500.0 kg\n",
            "O menor peso lido foi de 100.0 kg\n"
          ],
          "name": "stdout"
        }
      ]
    },
    {
      "cell_type": "markdown",
      "metadata": {
        "id": "3TKfTehI63Ze"
      },
      "source": [
        "###Exercício 56 – Analisador completo\n",
        "\n",
        "\n",
        "*Desenvolva um programa que leia o nome, idade e sexo de 4 pessoas. No final do programa, mostre: a média de idade do grupo, qual é o nome do homem mais velho e quantas mulheres têm menos de 20 anos.*"
      ]
    },
    {
      "cell_type": "code",
      "metadata": {
        "id": "ljpmLMj66_8A"
      },
      "source": [
        ""
      ],
      "execution_count": null,
      "outputs": []
    }
  ]
}