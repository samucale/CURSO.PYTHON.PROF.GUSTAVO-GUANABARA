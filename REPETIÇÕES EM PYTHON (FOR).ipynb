{
  "nbformat": 4,
  "nbformat_minor": 0,
  "metadata": {
    "colab": {
      "name": "Exercício 46 – Contagem regressiva",
      "provenance": [],
      "toc_visible": true,
      "mount_file_id": "1bPp2vBiXpRs7KA6_UTnu-_OP7UFE8FO5",
      "authorship_tag": "ABX9TyMNjUjn5grugEyPqx+QtGJU",
      "include_colab_link": true
    },
    "kernelspec": {
      "name": "python3",
      "display_name": "Python 3"
    },
    "language_info": {
      "name": "python"
    },
    "accelerator": "GPU"
  },
  "cells": [
    {
      "cell_type": "markdown",
      "metadata": {
        "id": "view-in-github",
        "colab_type": "text"
      },
      "source": [
        "<a href=\"https://colab.research.google.com/github/samucale/Curso_em_Video/blob/main/REPETI%C3%87%C3%95ES%20EM%20PYTHON%20(FOR).ipynb\" target=\"_parent\"><img src=\"https://colab.research.google.com/assets/colab-badge.svg\" alt=\"Open In Colab\"/></a>"
      ]
    },
    {
      "cell_type": "markdown",
      "metadata": {
        "id": "0-eOcmytWxbr"
      },
      "source": [
        "### Exercício Python 46: Faça um programa que mostre na tela uma contagem regressiva para o estouro de fogos de artifício, indo de 10 até 0, com uma pausa de 1 segundo entre eles.\n"
      ]
    },
    {
      "cell_type": "code",
      "metadata": {
        "colab": {
          "base_uri": "https://localhost:8080/"
        },
        "id": "XEtQpCqiWDVX",
        "outputId": "9e75e9c7-ae60-4f0b-a14c-bc8b5a9f1c1e"
      },
      "source": [
        "#from time import sleep#\n",
        "for cont in range (10,-1,-1):\n",
        "    print(cont)\n",
        "    sleep(0.5)\n",
        "print ('BUM....BUM...BRUM')    "
      ],
      "execution_count": null,
      "outputs": [
        {
          "output_type": "stream",
          "text": [
            "10\n",
            "9\n",
            "8\n",
            "7\n",
            "6\n",
            "5\n",
            "4\n",
            "3\n",
            "2\n",
            "1\n",
            "0\n",
            "BUM....BUM...BRUM\n"
          ],
          "name": "stdout"
        }
      ]
    },
    {
      "cell_type": "code",
      "metadata": {
        "colab": {
          "base_uri": "https://localhost:8080/"
        },
        "id": "WYTG3rQXY1RM",
        "outputId": "ebbd04eb-7a52-4157-df7f-d5b27af052be"
      },
      "source": [
        "for cont in range (0,11):\n",
        "  print (cont)\n",
        "  sleep (1.0)\n",
        "print ('COOORRAAAAA')  "
      ],
      "execution_count": null,
      "outputs": [
        {
          "output_type": "stream",
          "text": [
            "0\n",
            "1\n",
            "2\n",
            "3\n",
            "4\n",
            "5\n",
            "6\n",
            "7\n",
            "8\n",
            "9\n",
            "10\n",
            "COOORRAAAAA\n"
          ],
          "name": "stdout"
        }
      ]
    },
    {
      "cell_type": "markdown",
      "metadata": {
        "id": "X--3QTvrgwkC"
      },
      "source": [
        "###Exercícios 47 – Contagem de pares"
      ]
    },
    {
      "cell_type": "code",
      "metadata": {
        "id": "_FA3Dcm_g0u4",
        "outputId": "239fc089-749c-4457-e351-07810142183f",
        "colab": {
          "base_uri": "https://localhost:8080/"
        }
      },
      "source": [
        "for n in range (2,51,2):\n",
        "    print(n,end=' ')"
      ],
      "execution_count": 3,
      "outputs": [
        {
          "output_type": "stream",
          "text": [
            "2 4 6 8 10 12 14 16 18 20 22 24 26 28 30 32 34 36 38 40 42 44 46 48 50 "
          ],
          "name": "stdout"
        }
      ]
    },
    {
      "cell_type": "markdown",
      "metadata": {
        "id": "25fb5B4pvguG"
      },
      "source": [
        "###Exercício 48 – Soma ímpares múltiplos de três*\n",
        "\n",
        "> Bloco com recuo\n",
        "\n",
        "\n",
        "\n",
        "*Faça um programa que calcule a soma entre todos os números que são múltiplos de três e que se encontram no intervalo de 1 até 500.*"
      ]
    },
    {
      "cell_type": "code",
      "metadata": {
        "id": "yMaDM-NgvmMc",
        "outputId": "d4d35058-02ff-4797-eb8e-b6ff606f50d2",
        "colab": {
          "base_uri": "https://localhost:8080/"
        }
      },
      "source": [
        "soma  = 0\n",
        "cont = 0 \n",
        "for c in range (1,501,2):\n",
        "    if c % 3 == 0:\n",
        "        soma = soma + c \n",
        "        cont = cont + 1 \n",
        "print ('A soma de todos os  {} valores solicitados é de {}'.format(cont,soma))        \n",
        "          \n"
      ],
      "execution_count": 10,
      "outputs": [
        {
          "output_type": "stream",
          "text": [
            "A soma de todos os  83 valores solicitados é de 20667\n"
          ],
          "name": "stdout"
        }
      ]
    },
    {
      "cell_type": "markdown",
      "metadata": {
        "id": "q-F6dEpMybQn"
      },
      "source": [
        "\n",
        "###Exercício 49 – Tabuada v.2.0###\n",
        "\n",
        "\n",
        "###Refaça o DESAFIO 9, mostrando a tabuada de um número que o usuário escolher, só que agora utilizando um laço for###\n",
        "\n",
        "\n",
        "\n",
        "\n",
        "\n"
      ]
    },
    {
      "cell_type": "code",
      "metadata": {
        "id": "-oHCKT1IyqBo",
        "outputId": "13ee2aab-65be-4363-a4d6-262b09af8939",
        "colab": {
          "base_uri": "https://localhost:8080/"
        }
      },
      "source": [
        "num=int(input('Digite o numero da tabuada'))\n",
        "for c in range (1,11):\n",
        "    print ('{} x {:2} = {}'.format(num,c,num*c))"
      ],
      "execution_count": 12,
      "outputs": [
        {
          "output_type": "stream",
          "text": [
            "Digite o numero da tabuada2\n",
            "2 x  1 = 2\n",
            "2 x  2 = 4\n",
            "2 x  3 = 6\n",
            "2 x  4 = 8\n",
            "2 x  5 = 10\n",
            "2 x  6 = 12\n",
            "2 x  7 = 14\n",
            "2 x  8 = 16\n",
            "2 x  9 = 18\n",
            "2 x 10 = 20\n"
          ],
          "name": "stdout"
        }
      ]
    },
    {
      "cell_type": "code",
      "metadata": {
        "id": "TF8eW-59z5_Y"
      },
      "source": [
        ""
      ],
      "execution_count": null,
      "outputs": []
    },
    {
      "cell_type": "markdown",
      "metadata": {
        "id": "977Xo41O0Wcy"
      },
      "source": [
        "###Exercício 50 – Soma dos pares###\n",
        "\n",
        "*Desenvolva um programa que leia seis números inteiros e mostre a soma apenas daqueles que forem pares. Se o valor digitado for ímpar, desconsidere-o.*\n"
      ]
    },
    {
      "cell_type": "code",
      "metadata": {
        "id": "3fwPqsC50Y58",
        "outputId": "737ee2aa-05b9-473a-ae6d-d5d46b0c2f75",
        "colab": {
          "base_uri": "https://localhost:8080/"
        }
      },
      "source": [
        "soma = 0\n",
        "cont = 0\n",
        "for c in range (1,7):\n",
        "    num = int(input('Digite um valor:'))\n",
        "    if num % 2 == 0:\n",
        "      soma += num\n",
        "      cont += 1\n",
        "print ('Voce informou {} numeros e a soma foi {}'.format(cont,soma))"
      ],
      "execution_count": 23,
      "outputs": [
        {
          "output_type": "stream",
          "text": [
            "Digite um valor:1\n",
            "Digite um valor:3\n",
            "Digite um valor:5\n",
            "Digite um valor:7\n",
            "Digite um valor:8\n",
            "Digite um valor:1\n",
            "Voce informou 1 numeros e a soma foi 8\n"
          ],
          "name": "stdout"
        }
      ]
    },
    {
      "cell_type": "code",
      "metadata": {
        "id": "QpYnC7gM16xM"
      },
      "source": [
        ""
      ],
      "execution_count": null,
      "outputs": []
    },
    {
      "cell_type": "markdown",
      "metadata": {
        "id": "20jR0f9O5_Mm"
      },
      "source": [
        "###Exercício 51 – Progressão Aritmética###\n",
        "\n",
        "*Desenvolva um programa que leia o primeiro termo e a razão de uma PA. No final, mostre os 10 primeiros termos dessa progressão*"
      ]
    },
    {
      "cell_type": "code",
      "metadata": {
        "id": "COvRK7rJ6BRy",
        "outputId": "a95d34cc-cd4c-4dbd-bc72-922ade84196c",
        "colab": {
          "base_uri": "https://localhost:8080/"
        }
      },
      "source": [
        "primeiro = int(input('Primeiro termo: '))\n",
        "razão = int (input('Razão : '))\n",
        "decimo = primeiro + (10 - 1 )* razão \n",
        "for c in range (primeiro , decimo + razão,razão):\n",
        "    print ('{}'.format(c),end='-')\n",
        "print ('ACABOU')    "
      ],
      "execution_count": 24,
      "outputs": [
        {
          "output_type": "stream",
          "text": [
            "Primeiro termo: 25\n",
            "Razão : 5\n",
            "25-30-35-40-45-50-55-60-65-70-ACABOU\n"
          ],
          "name": "stdout"
        }
      ]
    },
    {
      "cell_type": "markdown",
      "metadata": {
        "id": "w9Mcl5bg6ISJ"
      },
      "source": [
        "###Exercício 52 – Números primos\n",
        "\n",
        "*Faça um programa que leia um número inteiro e diga se ele é ou não um número primo.*"
      ]
    },
    {
      "cell_type": "code",
      "metadata": {
        "id": "WEyBFSRx8skK"
      },
      "source": [
        "num = int(input('Digiite um numero: '))\n",
        "\n"
      ],
      "execution_count": null,
      "outputs": []
    },
    {
      "cell_type": "markdown",
      "metadata": {
        "id": "JuwRIUom6Y2f"
      },
      "source": [
        "###Exercício 53 – Detector de Palíndromo\n",
        "\n",
        "*Crie um programa que leia uma frase qualquer e diga se ela é um palíndromo, desconsiderando os espaços. Exemplos de palíndromos:*"
      ]
    },
    {
      "cell_type": "code",
      "metadata": {
        "id": "35PUJhVv6gAo"
      },
      "source": [
        ""
      ],
      "execution_count": null,
      "outputs": []
    },
    {
      "cell_type": "markdown",
      "metadata": {
        "id": "Vc5nQF8Q6hJu"
      },
      "source": [
        "###Exercício 54 – Grupo da Maioridade\n",
        "\n",
        "* Crie um programa que leia o ano de nascimento de sete pessoas. No final, mostre quantas pessoas ainda não atingiram a maioridade e quantas já são maiores*"
      ]
    },
    {
      "cell_type": "markdown",
      "metadata": {
        "id": "38Ygbq6J6wuY"
      },
      "source": [
        "###Exercício 55 – Maior e menor da sequência\n",
        "\n",
        "*Faça um programa que leia o peso de cinco pessoas. No final, mostre qual foi o maior e o menor peso lidos.*"
      ]
    },
    {
      "cell_type": "markdown",
      "metadata": {
        "id": "3TKfTehI63Ze"
      },
      "source": [
        "###Exercício 56 – Analisador completo\n",
        "\n",
        "\n",
        "*Desenvolva um programa que leia o nome, idade e sexo de 4 pessoas. No final do programa, mostre: a média de idade do grupo, qual é o nome do homem mais velho e quantas mulheres têm menos de 20 anos.*"
      ]
    },
    {
      "cell_type": "code",
      "metadata": {
        "id": "ljpmLMj66_8A"
      },
      "source": [
        ""
      ],
      "execution_count": null,
      "outputs": []
    }
  ]
}