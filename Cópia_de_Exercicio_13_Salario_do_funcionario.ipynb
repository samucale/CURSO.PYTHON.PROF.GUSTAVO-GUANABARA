{
  "nbformat": 4,
  "nbformat_minor": 0,
  "metadata": {
    "colab": {
      "name": "Cópia de Exercicio_13_Salario_do_funcionario.ipynb",
      "provenance": [],
      "collapsed_sections": [],
      "include_colab_link": true
    },
    "kernelspec": {
      "name": "python3",
      "display_name": "Python 3"
    }
  },
  "cells": [
    {
      "cell_type": "markdown",
      "metadata": {
        "id": "view-in-github",
        "colab_type": "text"
      },
      "source": [
        "<a href=\"https://colab.research.google.com/github/samucale/Curso-em-vd-Python/blob/main/C%C3%B3pia_de_Exercicio_13_Salario_do_funcionario.ipynb\" target=\"_parent\"><img src=\"https://colab.research.google.com/assets/colab-badge.svg\" alt=\"Open In Colab\"/></a>"
      ]
    },
    {
      "cell_type": "markdown",
      "metadata": {
        "id": "gWIrY4rlenne"
      },
      "source": [
        "*Faça um algoritmo que leia o salario de um funcionario e mostre seu novo salario, com 15% de aumento.*"
      ]
    },
    {
      "cell_type": "code",
      "metadata": {
        "id": "QlOq94xae6vR",
        "colab": {
          "base_uri": "https://localhost:8080/"
        },
        "outputId": "e46c3bef-07be-484e-fd5b-48a87ba76b96"
      },
      "source": [
        "n= input('Digite o nome do funcionário :')\n",
        "sal= float(input('Digite o salario do funcionário : R$ '))\n",
        "novo = sal + (sal*15/100)\n",
        "print ('O salario do funcionário {} é R$ {:.2f} com 15% de aumento eles passara a receber R$ {:.2f}'.format (n,sal,novo))"
      ],
      "execution_count": null,
      "outputs": [
        {
          "output_type": "stream",
          "text": [
            "Digite o nome do funcionário :Carlos \n",
            "Digite o salario do funcionário : R$ 1500.00\n",
            "O salario do funcionário Carlos  é R$ 1500.00 com 15% de aumento eles passara a receber R$ 1725.00\n"
          ],
          "name": "stdout"
        }
      ]
    },
    {
      "cell_type": "code",
      "metadata": {
        "id": "7TmmfbqKkQwC",
        "colab": {
          "base_uri": "https://localhost:8080/"
        },
        "outputId": "2a7a1b4b-0921-4902-9837-7ed2db1a6a51"
      },
      "source": [
        "n= input ('Digite o nome do funcionario : ')\n",
        "sal = float (input('digite o salario dd funcionario : R$'  ))\n",
        "novo = sal + (sal*15/100)\n",
        "print ('O salario do funcionario {} e de R$ {} com 15% ele passara receber R$ {}'.format (n,sal,novo))"
      ],
      "execution_count": null,
      "outputs": [
        {
          "output_type": "stream",
          "text": [
            "Digite o nome do funcionario : samuel \n",
            "digite o salario dd funcionario : R$1500\n",
            "O salario do funcionario samuel  e de R$ 1500.0 com 15% ele passara receber R$ 1725.0\n"
          ],
          "name": "stdout"
        }
      ]
    },
    {
      "cell_type": "code",
      "metadata": {
        "id": "eu6wbbNUU5eX",
        "colab": {
          "base_uri": "https://localhost:8080/"
        },
        "outputId": "0e263a3a-469e-42d7-9b4a-aca7fc9dec03"
      },
      "source": [
        "n = input ('Digite o nome do funcionario : ')\n",
        "sal= float(input('Digite o salario do fucionario :  R$ '))\n",
        "novo = sal + (sal*15/100)\n",
        "print ('O salario atual do funcionario {} e de {} , com o aumentos de 15% ele passsara receber {}'.format(n,sal,novo))"
      ],
      "execution_count": null,
      "outputs": [
        {
          "output_type": "stream",
          "text": [
            "Digite o nome do funcionario : Samuel \n",
            "Digite o salario do fucionario :  R$ 1500.00\n",
            "O salario atual do funcionario Samuel  e de 1500.0 , com o aumentos de 15% ele passsara receber 1725.0\n"
          ],
          "name": "stdout"
        }
      ]
    },
    {
      "cell_type": "code",
      "metadata": {
        "id": "y8ExJ46vWIGd",
        "colab": {
          "base_uri": "https://localhost:8080/"
        },
        "outputId": "2766e5ef-a8fe-4158-83e7-f1d16915e7df"
      },
      "source": [
        "nome = input ('Digite o nome do funcionario :  ')\n",
        "sobre = input ('Digite o sobrenome :  ')\n",
        "anonasc = int(input('Digite o ano de nascimento :  '))\n",
        "anoatual = int(input('Digite o ano atual : '))\n",
        "idade = anoatual- anonasc\n",
        "sal = float(input('Digite o salario do funcionario : '))\n",
        "novo = sal + (sal*20/100)\n",
        "print ('Ola {} seu sobrenome e {} (Muito bonito), sua idade e {} seu salario e de R$ {} e passara ganhar {} com  15% de aumento'.format(nome,sobre,idade,sal,novo))"
      ],
      "execution_count": null,
      "outputs": [
        {
          "output_type": "stream",
          "text": [
            "Digite o nome do funcionario :  Fernando\n",
            "Digite o sobrenome :  Tercero \n",
            "Digite o ano de nascimento :  2018\n",
            "Digite o ano atual : 2021\n",
            "Digite o salario do funcionario : 1500.00\n",
            "Ola Fernando seu sobrenome e Tercero  (Muito bonito), sua idade e 3 seu salario e de R$ 1500.0 e passara ganhar 1800.0 com  15% de aumento\n"
          ],
          "name": "stdout"
        }
      ]
    },
    {
      "cell_type": "code",
      "metadata": {
        "id": "KjBlSS2VYgYY",
        "colab": {
          "base_uri": "https://localhost:8080/"
        },
        "outputId": "51327454-43e6-4029-b410-780b4ecbdca5"
      },
      "source": [
        "salario = float(input('Digite o salario do funcionario : R$ '))\n",
        "novo = salario + (salario*15/100)\n",
        "print('Parabens o seu salario e de R$ {} com o aumento de 15 % voce passara receber R$ {}'.format(salario,novo))"
      ],
      "execution_count": null,
      "outputs": [
        {
          "output_type": "stream",
          "text": [
            "Digite o salario do funcionario : R$ 1000.00\n",
            "Parabens o seu salario e de R$ 1000.0 com o aumento de 15 % voce passara receber R$ 1150.0\n"
          ],
          "name": "stdout"
        }
      ]
    },
    {
      "cell_type": "code",
      "metadata": {
        "id": "ophs7gN7Fl33",
        "colab": {
          "base_uri": "https://localhost:8080/"
        },
        "outputId": "852b308c-4c9b-41d2-c230-104b9b2deba6"
      },
      "source": [
        "salario=float(input('Digite o salario do funcionário : '))\n",
        "novo = salario+(salario*15/100)\n",
        "print('Parabens o seu salario é de {} com o aumento de 15% você passara recaber R$ {}'.format(salario,novo))"
      ],
      "execution_count": null,
      "outputs": [
        {
          "output_type": "stream",
          "text": [
            "Digite o salario do funcionário : 1000.00\n",
            "Parabens o seu salario é de 1000.0 com o aumento de 15% você passara recaber R$ 1150.0\n"
          ],
          "name": "stdout"
        }
      ]
    },
    {
      "cell_type": "code",
      "metadata": {
        "id": "QaUdeW2Zw5eM"
      },
      "source": [
        ""
      ],
      "execution_count": null,
      "outputs": []
    },
    {
      "cell_type": "code",
      "metadata": {
        "id": "LI1kNjykw5hJ",
        "colab": {
          "base_uri": "https://localhost:8080/"
        },
        "outputId": "0b8ca360-85e8-42f6-8d3b-b17593c66b16"
      },
      "source": [
        "salario=float(input('Digite o salario do funcionario: '))\n",
        "novo = salario + (salario*15/100)\n",
        "print('O seu salario é de R$ {} com o aumento de 15% você passara receber R$ {}'.format(salario,novo))"
      ],
      "execution_count": null,
      "outputs": [
        {
          "output_type": "stream",
          "text": [
            "Digite o salario do funcionario: 1500.00\n",
            "O seu salario é de R$ 1500.0 com o aumento de 15% você passara receber R$ 1725.0\n"
          ],
          "name": "stdout"
        }
      ]
    },
    {
      "cell_type": "code",
      "metadata": {
        "id": "TCvpWhMFw5kT",
        "colab": {
          "base_uri": "https://localhost:8080/"
        },
        "outputId": "a7f838d4-e755-49f3-c763-221113b1626f"
      },
      "source": [
        "nome = input('Digite o nome do funcionario: ')\n",
        "salario = float(input('Digite o salario do funcionário: '))\n",
        "novo = salario + (salario*15/100)\n",
        "print('O salario do Sr.a {} é de R$ {:.2f} com o aumento de 15% ele passara receber R$ {:.2f}'.format(nome,salario,novo))\n"
      ],
      "execution_count": null,
      "outputs": [
        {
          "output_type": "stream",
          "text": [
            "Digite o nome do funcionario: Cesar\n",
            "Digite o salario do funcionário: 1500.00\n",
            "O salario do Sr.a Cesar é de R$ 1500.00 com o aumento de 15% ele passara receber R$ 1725.00\n"
          ],
          "name": "stdout"
        }
      ]
    },
    {
      "cell_type": "code",
      "metadata": {
        "id": "989m1lX1w5nG",
        "outputId": "946c2d1d-a6a2-47ea-d72e-505fe5630908",
        "colab": {
          "base_uri": "https://localhost:8080/"
        }
      },
      "source": [
        "nome = input('Digite o nome do funcionário : ')\n",
        "salario = float(input('Digite o salario do funcionario : '))\n",
        "novo = salario +(salario*15/100)\n",
        "print('O funcionário {} passara a receber o salario {} de R$ {} COM O AUMENTO DE 15% '.format(nome,salario,novo))"
      ],
      "execution_count": 3,
      "outputs": [
        {
          "output_type": "stream",
          "text": [
            "Digite o nome do funcionário : samuel \n",
            "Digite o salario do funcionario : 1500.00\n",
            "O funcionário samuel  passara a receber o salario 1500.0 de R$ 1725.0 COM O AUMENTO DE 15% \n"
          ],
          "name": "stdout"
        }
      ]
    },
    {
      "cell_type": "code",
      "metadata": {
        "id": "49ecyTmtw5pt"
      },
      "source": [
        ""
      ],
      "execution_count": null,
      "outputs": []
    },
    {
      "cell_type": "code",
      "metadata": {
        "id": "rHpFoxXZw5rg"
      },
      "source": [
        ""
      ],
      "execution_count": null,
      "outputs": []
    },
    {
      "cell_type": "code",
      "metadata": {
        "id": "dkAGbRy_w5uD"
      },
      "source": [
        ""
      ],
      "execution_count": null,
      "outputs": []
    },
    {
      "cell_type": "code",
      "metadata": {
        "id": "e3vsh8oXw5wx"
      },
      "source": [
        ""
      ],
      "execution_count": null,
      "outputs": []
    },
    {
      "cell_type": "code",
      "metadata": {
        "id": "2HaUinizw5zB"
      },
      "source": [
        ""
      ],
      "execution_count": null,
      "outputs": []
    },
    {
      "cell_type": "code",
      "metadata": {
        "id": "1f58g_Udw51_"
      },
      "source": [
        ""
      ],
      "execution_count": null,
      "outputs": []
    },
    {
      "cell_type": "code",
      "metadata": {
        "id": "UDtQFn0Nw553"
      },
      "source": [
        ""
      ],
      "execution_count": null,
      "outputs": []
    },
    {
      "cell_type": "code",
      "metadata": {
        "id": "6RWGhwcfw6Ar"
      },
      "source": [
        ""
      ],
      "execution_count": null,
      "outputs": []
    }
  ]
}