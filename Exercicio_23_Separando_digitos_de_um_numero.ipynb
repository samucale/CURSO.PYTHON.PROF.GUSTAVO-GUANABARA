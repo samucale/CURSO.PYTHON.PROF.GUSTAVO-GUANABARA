{
  "nbformat": 4,
  "nbformat_minor": 0,
  "metadata": {
    "colab": {
      "name": "Exercicio 23 - Separando digitos de um numero ",
      "provenance": [],
      "authorship_tag": "ABX9TyN40MkL9ehNArkSzyL0OcCY",
      "include_colab_link": true
    },
    "kernelspec": {
      "name": "python3",
      "display_name": "Python 3"
    }
  },
  "cells": [
    {
      "cell_type": "markdown",
      "metadata": {
        "id": "view-in-github",
        "colab_type": "text"
      },
      "source": [
        "<a href=\"https://colab.research.google.com/github/samucale/CURSO.PYTHON.PROF.GUSTAVO-GUANABARA/blob/main/Exercicio_23_Separando_digitos_de_um_numero.ipynb\" target=\"_parent\"><img src=\"https://colab.research.google.com/assets/colab-badge.svg\" alt=\"Open In Colab\"/></a>"
      ]
    },
    {
      "cell_type": "markdown",
      "metadata": {
        "id": "Sc53JYTYYPgY"
      },
      "source": [
        "**FAÇA UM PROGRAMA QUE LEIA UM NUMERO DE 0 A 9999E MOSTRES NA TELA CADA UM DOS DIGITOS SEPARADOS .**"
      ]
    },
    {
      "cell_type": "markdown",
      "metadata": {
        "id": "bFoy_IgZYOwJ"
      },
      "source": [
        ""
      ]
    },
    {
      "cell_type": "markdown",
      "metadata": {
        "id": "ndenlCvZYNN6"
      },
      "source": [
        ""
      ]
    }
  ]
}