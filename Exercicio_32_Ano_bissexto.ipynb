{
  "nbformat": 4,
  "nbformat_minor": 0,
  "metadata": {
    "colab": {
      "name": "Exercicio 32 - Ano bissexto ",
      "provenance": [],
      "authorship_tag": "ABX9TyNB/IDL6lbCm7P6YS/R1Hwp",
      "include_colab_link": true
    },
    "kernelspec": {
      "name": "python3",
      "display_name": "Python 3"
    }
  },
  "cells": [
    {
      "cell_type": "markdown",
      "metadata": {
        "id": "view-in-github",
        "colab_type": "text"
      },
      "source": [
        "<a href=\"https://colab.research.google.com/github/samucale/Curso-em-vd-Python/blob/main/Exercicio_32_Ano_bissexto.ipynb\" target=\"_parent\"><img src=\"https://colab.research.google.com/assets/colab-badge.svg\" alt=\"Open In Colab\"/></a>"
      ]
    },
    {
      "cell_type": "markdown",
      "metadata": {
        "id": "1q-0zxW3aYpL"
      },
      "source": [
        "*FAÇA UM PROGRAMA QUE LEIA UM ANO QUALQUER E MOSTRE SE ELE E BISSEXTO*."
      ]
    },
    {
      "cell_type": "code",
      "metadata": {
        "id": "_VdN8G5Hahbx",
        "outputId": "42fefca2-9fc1-4f22-c954-25340a59e8ac",
        "colab": {
          "base_uri": "https://localhost:8080/"
        }
      },
      "source": [
        "from datetime import date\n",
        "ano = int(input('Que ano quer analisar ?coloque 0 para analisar o ano atual : '))\n",
        "if ano ==0:\n",
        "  ano = date.today().year\n",
        "if ano % 4 == 0 and ano% 100 !=0 or ano % 400==0:\n",
        "  print('O ano {} é Bissexto'.format(ano))\n",
        "else:\n",
        "  print('O ano {} não é bissexto'.format(ano))  \n"
      ],
      "execution_count": 6,
      "outputs": [
        {
          "output_type": "stream",
          "text": [
            "Que ano quer analisar ?coloque 0 para analisar o ano atual : 0\n",
            "O ano 2021 não é bissexto\n"
          ],
          "name": "stdout"
        }
      ]
    },
    {
      "cell_type": "code",
      "metadata": {
        "id": "HRmMOfmP5zzW"
      },
      "source": [
        ""
      ],
      "execution_count": null,
      "outputs": []
    }
  ]
}