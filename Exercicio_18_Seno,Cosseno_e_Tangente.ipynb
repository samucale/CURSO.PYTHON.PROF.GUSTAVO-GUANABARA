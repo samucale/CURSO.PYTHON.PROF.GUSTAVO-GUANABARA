{
  "nbformat": 4,
  "nbformat_minor": 0,
  "metadata": {
    "colab": {
      "name": "Exercicio 18  - Seno,Cosseno e Tangente",
      "provenance": [],
      "include_colab_link": true
    },
    "kernelspec": {
      "name": "python3",
      "display_name": "Python 3"
    },
    "accelerator": "GPU"
  },
  "cells": [
    {
      "cell_type": "markdown",
      "metadata": {
        "id": "view-in-github",
        "colab_type": "text"
      },
      "source": [
        "<a href=\"https://colab.research.google.com/github/samucale/CURSO.PYTHON.PROF.GUSTAVO-GUANABARA/blob/main/Exercicio_18_Seno%2CCosseno_e_Tangente.ipynb\" target=\"_parent\"><img src=\"https://colab.research.google.com/assets/colab-badge.svg\" alt=\"Open In Colab\"/></a>"
      ]
    },
    {
      "cell_type": "markdown",
      "metadata": {
        "id": "lHYkG5rH1ZHB"
      },
      "source": [
        "*FAÇA UM PROGRAMA QUE LEIA UM ANGULO QUALQUER E MOSTRE NA TELA O VALOR DE SENO , COSSENO E TANGENTE DESSE ANGULO*"
      ]
    },
    {
      "cell_type": "code",
      "metadata": {
        "id": "4W-LnZLY1pig"
      },
      "source": [
        "from math import radians,sin,cos,tan"
      ],
      "execution_count": 1,
      "outputs": []
    },
    {
      "cell_type": "code",
      "metadata": {
        "id": "DeMHHa13WC7U",
        "outputId": "dd870880-699f-4055-af36-8cbed27f9f15",
        "colab": {
          "base_uri": "https://localhost:8080/"
        }
      },
      "source": [
        "angulo = float(input('Digite o angulo que deseja: '))\r\n",
        "seno = sin(radians(angulo))\r\n",
        "print('o angulo de {} tem  o SENO de {:.2f}'.format(angulo,seno))\r\n",
        "cosseno = cos(radians(angulo))\r\n",
        "print('O angulo de {} tem o cosseno de {:.2f}'.format(angulo,cosseno))\r\n",
        "tangente = tan(radians(angulo))\r\n",
        "print('O angulo de {} tem a TANGENTE de {:.2f}'.format(angulo,tangente))\r\n",
        "\r\n"
      ],
      "execution_count": 9,
      "outputs": [
        {
          "output_type": "stream",
          "text": [
            "Digite o angulo que deseja: 45\n",
            "o angulo de 45.0 tem  o SENO de 0.71\n",
            "O angulo de 45.0 tem o cosseno de 0.71\n",
            "O angulo de 45.0 tem a TANGENTE de 1.00\n"
          ],
          "name": "stdout"
        }
      ]
    },
    {
      "cell_type": "code",
      "metadata": {
        "id": "-bqR1zThWafj"
      },
      "source": [
        ""
      ],
      "execution_count": null,
      "outputs": []
    }
  ]
}