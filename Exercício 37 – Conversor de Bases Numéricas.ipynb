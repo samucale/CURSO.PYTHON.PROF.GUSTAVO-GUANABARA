{
  "nbformat": 4,
  "nbformat_minor": 0,
  "metadata": {
    "colab": {
      "name": "Exercicio 37",
      "provenance": [],
      "include_colab_link": true
    },
    "kernelspec": {
      "name": "python3",
      "display_name": "Python 3"
    },
    "language_info": {
      "name": "python"
    }
  },
  "cells": [
    {
      "cell_type": "markdown",
      "metadata": {
        "id": "view-in-github",
        "colab_type": "text"
      },
      "source": [
        "<a href=\"https://colab.research.google.com/github/samucale/Curso-em-vd-Python/blob/main/Exerc%C3%ADcio%2037%20%E2%80%93%20Conversor%20de%20Bases%20Num%C3%A9ricas.ipynb\" target=\"_parent\"><img src=\"https://colab.research.google.com/assets/colab-badge.svg\" alt=\"Open In Colab\"/></a>"
      ]
    },
    {
      "cell_type": "markdown",
      "metadata": {
        "id": "szDaBtHuVnUm"
      },
      "source": [
        "**Exercício Python 37: Escreva um programa em Python que leia um número inteiro qualquer e peça para o usuário escolher qual será a base de conversão: 1 para binário, 2 para octal e 3 para hexadecimal.**"
      ]
    },
    {
      "cell_type": "code",
      "metadata": {
        "id": "jtRFP74VVrra",
        "outputId": "8ff10335-860d-4db8-cc33-d378e9ea9d24",
        "colab": {
          "base_uri": "https://localhost:8080/"
        }
      },
      "source": [
        "num = int(input('Digite um numero inteiro:'))\n",
        "print('''Escolha uma das bases para conversão :\n",
        "[1] converter para Binario\n",
        "[2] converter para octal\n",
        "[3] converter para hexadecima''')\n",
        "opção = int(input('Sua opção: '))\n",
        "if opção==1:\n",
        "  print ('{} convertido para binario e igual a {}'.format(num,bin(num)[2:]))\n",
        "elif opção ==2:\n",
        "  print('{} convertido paa octal é igual a {}'.format(num,oct(num)[2:]))\n",
        "elif opção ==3:\n",
        "  print('{} convertido para hexadecimal é igual a {}'.format(num,hex(num)[2:]))\n",
        "else:\n",
        "  print('Opção invalida.Tente novamente.')\n",
        "\n"
      ],
      "execution_count": 6,
      "outputs": [
        {
          "output_type": "stream",
          "text": [
            "Digite um numero inteiro:10\n",
            "Escolha uma das bases para conversão :\n",
            "[1] converter para Binario\n",
            "[2] converter para octal\n",
            "[3] converter para hexadecima\n",
            "Sua opção: 3\n",
            "10 convertido para hexadecimal é igual a a\n"
          ],
          "name": "stdout"
        }
      ]
    },
    {
      "cell_type": "code",
      "metadata": {
        "id": "S9f3McTIlpJA"
      },
      "source": [
        ""
      ],
      "execution_count": null,
      "outputs": []
    }
  ]
}