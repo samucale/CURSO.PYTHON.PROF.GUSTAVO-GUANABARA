{
  "nbformat": 4,
  "nbformat_minor": 0,
  "metadata": {
    "colab": {
      "name": "Exercicio 28- Jogo da adivinhaçao v 2",
      "provenance": [],
      "authorship_tag": "ABX9TyMjIMfBB1Hood22UR1/xY3o",
      "include_colab_link": true
    },
    "kernelspec": {
      "name": "python3",
      "display_name": "Python 3"
    }
  },
  "cells": [
    {
      "cell_type": "markdown",
      "metadata": {
        "id": "view-in-github",
        "colab_type": "text"
      },
      "source": [
        "<a href=\"https://colab.research.google.com/github/samucale/CURSO.PYTHON.PROF.GUSTAVO-GUANABARA/blob/main/Exercicio_28_Jogo_da_adivinha%C3%A7ao_v_2.ipynb\" target=\"_parent\"><img src=\"https://colab.research.google.com/assets/colab-badge.svg\" alt=\"Open In Colab\"/></a>"
      ]
    },
    {
      "cell_type": "markdown",
      "metadata": {
        "id": "89aOq3yjMZO5"
      },
      "source": [
        ""
      ]
    },
    {
      "cell_type": "markdown",
      "metadata": {
        "id": "Kfet-EG4SVSW"
      },
      "source": [
        "*ESCREVA UM PROGRAMA QUE FAÇA UM COMPUTADOR \"PENSAR\" EM UM NUMERO INTEIRO ENTRE 0 E 5 E PEÇA PARA O USUARIO TENTAR DESCOBRIR QUAL FOI O NUMERO ESCOLHIDO PELO COMPUTADOR,O PROGRAMA DEVERA ESCREVER NA TELA SE O USUARIO VENCEU OU PERDEU*"
      ]
    },
    {
      "cell_type": "code",
      "metadata": {
        "id": "a7Y2urrEH3ha"
      },
      "source": [
        "from random import randint"
      ],
      "execution_count": 4,
      "outputs": []
    },
    {
      "cell_type": "code",
      "metadata": {
        "colab": {
          "base_uri": "https://localhost:8080/"
        },
        "id": "bnp1TDtSIBAS",
        "outputId": "5234302b-e744-4c9b-fe2a-1bc6c21ef136"
      },
      "source": [
        "computador = randint(0,5)\r\n",
        "print('-=-'*20)\r\n",
        "print('Vou pensar em um  numero de 0 a 5 tente advinhar... ')\r\n",
        "print('-=-'*20)\r\n",
        "jogador=int(input('Em que numero eu pensei? '))\r\n",
        "if jogador==computador:\r\n",
        "  print('PARABENS VOCÊ ME VENCE')\r\n",
        "else:\r\n",
        "  print('hahahaha, eu ganhei eu pensei nomero {} e não no numero {}'.format(computador,jogador))  \r\n",
        "\r\n",
        "\r\n"
      ],
      "execution_count": 18,
      "outputs": [
        {
          "output_type": "stream",
          "text": [
            "-=--=--=--=--=--=--=--=--=--=--=--=--=--=--=--=--=--=--=--=-\n",
            "Vou pensar em um  numero de 0 a 5 tente advinhar... \n",
            "-=--=--=--=--=--=--=--=--=--=--=--=--=--=--=--=--=--=--=--=-\n",
            "Em que numero eu pensei? 5\n",
            "hahahaha, eu ganhei eu pensei nomero 0 e não no numero 5\n"
          ],
          "name": "stdout"
        }
      ]
    },
    {
      "cell_type": "code",
      "metadata": {
        "colab": {
          "base_uri": "https://localhost:8080/"
        },
        "id": "8UA23LHvIVL_",
        "outputId": "b2d7a13b-530c-4baf-d6f6-3485be90b773"
      },
      "source": [
        "\r\n",
        "#CONDIÇÕES SIMPLES\r\n",
        "\r\n",
        "n1= float(input('Digite a primeira nota : '))\r\n",
        "n2= float(input('Digite a segunda nota: '))\r\n",
        "m = (n1 + n2)/2\r\n",
        "print('A sua média foi {:.1f}'.format(m))\r\n",
        "if m >= 6.0:\r\n",
        "  print('Sua media foi boa!Parabens!')\r\n",
        "else:\r\n",
        "  print('Sua media foi ruim!Estude mais!')"
      ],
      "execution_count": 17,
      "outputs": [
        {
          "output_type": "stream",
          "text": [
            "Digite a primeira nota : 5\n",
            "Digite a segunda nota: 6\n",
            "A sua média foi 5.5\n",
            "Sua media foi ruim!Estude mais!\n"
          ],
          "name": "stdout"
        }
      ]
    },
    {
      "cell_type": "code",
      "metadata": {
        "id": "SMIANp-6Mr9h"
      },
      "source": [
        "#MEDIA SIMPLIFICADA#\r\n",
        "\r\n",
        "n1 = float(input('Digite a primeira nota: '))\r\n",
        "n2 = float(input('Digite a segunda nota: '))\r\n",
        "m = (n1+n2)/2\r\n",
        "print('A sua media foi {}'.format(m))\r\n",
        "print('Parabens'if m>=6 else 'Estude Mais!')"
      ],
      "execution_count": null,
      "outputs": []
    }
  ]
}