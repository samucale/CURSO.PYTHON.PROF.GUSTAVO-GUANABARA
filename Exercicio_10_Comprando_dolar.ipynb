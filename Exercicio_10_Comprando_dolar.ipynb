{
  "nbformat": 4,
  "nbformat_minor": 0,
  "metadata": {
    "colab": {
      "name": "Exercicio_10_Comprando_dolar.ipynb",
      "provenance": [],
      "collapsed_sections": [],
      "include_colab_link": true
    },
    "kernelspec": {
      "name": "python3",
      "display_name": "Python 3"
    }
  },
  "cells": [
    {
      "cell_type": "markdown",
      "metadata": {
        "id": "view-in-github",
        "colab_type": "text"
      },
      "source": [
        "<a href=\"https://colab.research.google.com/github/samucale/Curso-em-vd-Python/blob/main/Exercicio_10_Comprando_dolar.ipynb\" target=\"_parent\"><img src=\"https://colab.research.google.com/assets/colab-badge.svg\" alt=\"Open In Colab\"/></a>"
      ]
    },
    {
      "cell_type": "markdown",
      "metadata": {
        "id": "UKnTn6QXaxdt"
      },
      "source": [
        "*Crie um programa que leia quanto dinheiro uma pessoa tem na carteira e mostre  quantos Dolares ela pode comprar*"
      ]
    },
    {
      "cell_type": "code",
      "metadata": {
        "id": "A-cCk4ssbEI5",
        "colab": {
          "base_uri": "https://localhost:8080/"
        },
        "outputId": "274711b5-4a50-487d-d660-ea3567c84ce7"
      },
      "source": [
        "d = float(input('Digite o valor que esta na carteira ? R$ '))\n",
        "c = d / 5.43\n",
        "print ('Com o valor de {} reais você podera comprar {:.2f} dolares'.format(d,c))\n"
      ],
      "execution_count": null,
      "outputs": [
        {
          "output_type": "stream",
          "text": [
            "Digite o valor que esta na carteira ? R$ 100.00\n",
            "Com o valor de 100.0 reais você podera comprar 18.42 dolares\n"
          ],
          "name": "stdout"
        }
      ]
    },
    {
      "cell_type": "code",
      "metadata": {
        "id": "z6VSWdrIacrn",
        "colab": {
          "base_uri": "https://localhost:8080/"
        },
        "outputId": "2d180e41-728e-47fe-d6e7-712f9d854807"
      },
      "source": [
        "\n",
        "dinheiro = float(input('Digite o valor em carteira R$ : '))\n",
        "compra = dinheiro / 5.43\n",
        "print('Com o valor de R$ {} reais ,voce podera comprar USD {:.2F}'.format(dinheiro,compra))"
      ],
      "execution_count": null,
      "outputs": [
        {
          "output_type": "stream",
          "text": [
            "Digite o valor em carteira R$ : 300.00\n",
            "Com o valor de R$ 300.0 reais ,voce podera comprar USD 55.25\n"
          ],
          "name": "stdout"
        }
      ]
    },
    {
      "cell_type": "code",
      "metadata": {
        "id": "n8-FRnwYcD2j",
        "colab": {
          "base_uri": "https://localhost:8080/"
        },
        "outputId": "2b820162-a92b-40d5-d950-62e4fbc26e97"
      },
      "source": [
        "dinheiro = float(input('Digite o valor em carteira : R$ '))\n",
        "compra = dinheiro / 5.50 \n",
        "print('Com o valor de R$ {} reais voce podera compra USD {:.2f}'.format(dinheiro,compra))"
      ],
      "execution_count": null,
      "outputs": [
        {
          "output_type": "stream",
          "text": [
            "Digite o valor em carteira : R$ 1000.00\n",
            "Com o valor de R$ 1000.0 reais voce podera compra USD 181.82\n"
          ],
          "name": "stdout"
        }
      ]
    },
    {
      "cell_type": "code",
      "metadata": {
        "id": "Sl3YHla48lg6",
        "colab": {
          "base_uri": "https://localhost:8080/"
        },
        "outputId": "9aca61e5-6974-4c9a-e9d8-e2c7a1132198"
      },
      "source": [
        "reais =float(input('Digite o valor em na carteira : R$ '))\n",
        "compra = dinheiro / 5.60 \n",
        "print ('Com o valor de R$ {} reais voce podera comprar USD {:.2f} '.format (reais,compra))"
      ],
      "execution_count": null,
      "outputs": [
        {
          "output_type": "stream",
          "text": [
            "Digite o valor em na carteira : R$ 10000.00\n",
            "Com o valor de R$ 10000.0 reais voce podera comprar USD 178.57 \n"
          ],
          "name": "stdout"
        }
      ]
    },
    {
      "cell_type": "code",
      "metadata": {
        "id": "ij7cjTbF9Mza",
        "outputId": "f5eaf762-1996-4505-ee7e-eec9f3c7b84f",
        "colab": {
          "base_uri": "https://localhost:8080/"
        }
      },
      "source": [
        "reais = float(input('Digite o valor reais : R$ '))\n",
        "compra = reais / 5.50\n",
        "print('Com o valor de  R$ {} você poderá comprar USD {:.2F}'.format(reais,compra))"
      ],
      "execution_count": 5,
      "outputs": [
        {
          "output_type": "stream",
          "text": [
            "Digite o valor reais : R$ 200.00\n",
            "Com o valor de  R$ 200.0 você poderá comprar USD 36.36\n"
          ],
          "name": "stdout"
        }
      ]
    },
    {
      "cell_type": "code",
      "metadata": {
        "id": "BjmbjIYUDpwB",
        "outputId": "ce72b39e-ed48-40e9-cf6e-a0a3bf466d60",
        "colab": {
          "base_uri": "https://localhost:8080/"
        }
      },
      "source": [
        "reais = float(input('Digite o valor em reais : R$ '))\n",
        "compra = reais / 5.40 \n",
        "print('Com R$ {} você poderá comprar USD {:.2F}'.format(reais,compra))"
      ],
      "execution_count": 7,
      "outputs": [
        {
          "output_type": "stream",
          "text": [
            "Digite o valor em reais : R$2000.00\n",
            "Com R$ 2000.0 vocõe poderá comprar USD 370.37\n"
          ],
          "name": "stdout"
        }
      ]
    },
    {
      "cell_type": "code",
      "metadata": {
        "id": "lNYMZ_5tFJ3I"
      },
      "source": [
        ""
      ],
      "execution_count": null,
      "outputs": []
    },
    {
      "cell_type": "code",
      "metadata": {
        "id": "Ki2yc7A_FXuz"
      },
      "source": [
        ""
      ],
      "execution_count": null,
      "outputs": []
    }
  ]
}