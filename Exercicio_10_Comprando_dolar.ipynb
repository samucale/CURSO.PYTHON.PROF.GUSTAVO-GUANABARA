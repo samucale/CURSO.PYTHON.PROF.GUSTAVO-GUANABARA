{
 "cells": [
  {
   "cell_type": "markdown",
   "metadata": {
    "colab_type": "text",
    "id": "view-in-github"
   },
   "source": [
    "<a href=\"https://colab.research.google.com/github/samucale/Curso-em-vd-Python/blob/main/Exercicio_10_Comprando_dolar.ipynb\" target=\"_parent\"><img src=\"https://colab.research.google.com/assets/colab-badge.svg\" alt=\"Open In Colab\"/></a>"
   ]
  },
  {
   "cell_type": "markdown",
   "metadata": {
    "id": "UKnTn6QXaxdt"
   },
   "source": [
    "*Crie um programa que leia quanto dinheiro uma pessoa tem na carteira e mostre  quantos Dolares ela pode comprar*"
   ]
  },
  {
   "cell_type": "code",
   "execution_count": null,
   "metadata": {
    "colab": {
     "base_uri": "https://localhost:8080/"
    },
    "id": "A-cCk4ssbEI5",
    "outputId": "274711b5-4a50-487d-d660-ea3567c84ce7"
   },
   "outputs": [
    {
     "name": "stdout",
     "output_type": "stream",
     "text": [
      "Digite o valor que esta na carteira ? R$ 100.00\n",
      "Com o valor de 100.0 reais você podera comprar 18.42 dolares\n"
     ]
    }
   ],
   "source": [
    "d = float(input('Digite o valor que esta na carteira ? R$ '))\n",
    "c = d / 5.43\n",
    "print ('Com o valor de {} reais você podera comprar {:.2f} dolares'.format(d,c))\n"
   ]
  },
  {
   "cell_type": "code",
   "execution_count": null,
   "metadata": {
    "colab": {
     "base_uri": "https://localhost:8080/"
    },
    "id": "z6VSWdrIacrn",
    "outputId": "2d180e41-728e-47fe-d6e7-712f9d854807"
   },
   "outputs": [
    {
     "name": "stdout",
     "output_type": "stream",
     "text": [
      "Digite o valor em carteira R$ : 300.00\n",
      "Com o valor de R$ 300.0 reais ,voce podera comprar USD 55.25\n"
     ]
    }
   ],
   "source": [
    "\n",
    "dinheiro = float(input('Digite o valor em carteira R$ : '))\n",
    "compra = dinheiro / 5.43\n",
    "print('Com o valor de R$ {} reais ,voce podera comprar USD {:.2F}'.format(dinheiro,compra))"
   ]
  },
  {
   "cell_type": "code",
   "execution_count": null,
   "metadata": {
    "colab": {
     "base_uri": "https://localhost:8080/"
    },
    "id": "n8-FRnwYcD2j",
    "outputId": "2b820162-a92b-40d5-d950-62e4fbc26e97"
   },
   "outputs": [
    {
     "name": "stdout",
     "output_type": "stream",
     "text": [
      "Digite o valor em carteira : R$ 1000.00\n",
      "Com o valor de R$ 1000.0 reais voce podera compra USD 181.82\n"
     ]
    }
   ],
   "source": [
    "dinheiro = float(input('Digite o valor em carteira : R$ '))\n",
    "compra = dinheiro / 5.50 \n",
    "print('Com o valor de R$ {} reais voce podera compra USD {:.2f}'.format(dinheiro,compra))"
   ]
  },
  {
   "cell_type": "code",
   "execution_count": null,
   "metadata": {
    "colab": {
     "base_uri": "https://localhost:8080/"
    },
    "id": "Sl3YHla48lg6",
    "outputId": "9aca61e5-6974-4c9a-e9d8-e2c7a1132198"
   },
   "outputs": [
    {
     "name": "stdout",
     "output_type": "stream",
     "text": [
      "Digite o valor em na carteira : R$ 10000.00\n",
      "Com o valor de R$ 10000.0 reais voce podera comprar USD 178.57 \n"
     ]
    }
   ],
   "source": [
    "reais =float(input('Digite o valor em na carteira : R$ '))\n",
    "compra = dinheiro / 5.60 \n",
    "print ('Com o valor de R$ {} reais voce podera comprar USD {:.2f} '.format (reais,compra))"
   ]
  },
  {
   "cell_type": "code",
   "execution_count": 5,
   "metadata": {
    "colab": {
     "base_uri": "https://localhost:8080/"
    },
    "id": "ij7cjTbF9Mza",
    "outputId": "f5eaf762-1996-4505-ee7e-eec9f3c7b84f"
   },
   "outputs": [
    {
     "name": "stdout",
     "output_type": "stream",
     "text": [
      "Digite o valor reais : R$ 200.00\n",
      "Com o valor de  R$ 200.0 você poderá comprar USD 36.36\n"
     ]
    }
   ],
   "source": [
    "reais = float(input('Digite o valor reais : R$ '))\n",
    "compra = reais / 5.50\n",
    "print('Com o valor de  R$ {} você poderá comprar USD {:.2F}'.format(reais,compra))"
   ]
  },
  {
   "cell_type": "code",
   "execution_count": 7,
   "metadata": {
    "colab": {
     "base_uri": "https://localhost:8080/"
    },
    "id": "BjmbjIYUDpwB",
    "outputId": "ce72b39e-ed48-40e9-cf6e-a0a3bf466d60"
   },
   "outputs": [
    {
     "name": "stdout",
     "output_type": "stream",
     "text": [
      "Digite o valor em reais : R$2000.00\n",
      "Com R$ 2000.0 vocõe poderá comprar USD 370.37\n"
     ]
    }
   ],
   "source": [
    "reais = float(input('Digite o valor em reais : R$ '))\n",
    "compra = reais / 5.40 \n",
    "print('Com R$ {} você poderá comprar USD {:.2F}'.format(reais,compra))"
   ]
  },
  {
   "cell_type": "code",
   "execution_count": null,
   "metadata": {
    "id": "lNYMZ_5tFJ3I"
   },
   "outputs": [],
   "source": []
  },
  {
   "cell_type": "code",
   "execution_count": null,
   "metadata": {
    "id": "Ki2yc7A_FXuz"
   },
   "outputs": [],
   "source": []
  }
 ],
 "metadata": {
  "colab": {
   "collapsed_sections": [],
   "include_colab_link": true,
   "name": "Exercicio_10_Comprando_dolar.ipynb",
   "provenance": []
  },
  "kernelspec": {
   "display_name": "Python 3",
   "language": "python",
   "name": "python3"
  },
  "language_info": {
   "codemirror_mode": {
    "name": "ipython",
    "version": 3
   },
   "file_extension": ".py",
   "mimetype": "text/x-python",
   "name": "python",
   "nbconvert_exporter": "python",
   "pygments_lexer": "ipython3",
   "version": "3.8.5"
  }
 },
 "nbformat": 4,
 "nbformat_minor": 4
}
