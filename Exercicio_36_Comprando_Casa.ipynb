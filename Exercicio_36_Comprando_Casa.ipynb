{
  "nbformat": 4,
  "nbformat_minor": 0,
  "metadata": {
    "colab": {
      "name": "Exercicio 36- Comprando Casa ",
      "provenance": [],
      "authorship_tag": "ABX9TyM4GZHDr0NKU+RwIsmrgj/x",
      "include_colab_link": true
    },
    "kernelspec": {
      "name": "python3",
      "display_name": "Python 3"
    },
    "language_info": {
      "name": "python"
    }
  },
  "cells": [
    {
      "cell_type": "markdown",
      "metadata": {
        "id": "view-in-github",
        "colab_type": "text"
      },
      "source": [
        "<a href=\"https://colab.research.google.com/github/samucale/Curso-em-vd-Python/blob/main/Exercicio_36_Comprando_Casa.ipynb\" target=\"_parent\"><img src=\"https://colab.research.google.com/assets/colab-badge.svg\" alt=\"Open In Colab\"/></a>"
      ]
    },
    {
      "cell_type": "markdown",
      "metadata": {
        "id": "_EtuJl1eToxo"
      },
      "source": [
        "*Exercício Python 36: Escreva um programa para aprovar o empréstimo bancário para a compra de uma casa. Pergunte o valor da casa, o salário do comprador e em quantos anos ele vai pagar. A prestação mensal não pode exceder 30% do salário ou então o empréstimo será negado.*"
      ]
    },
    {
      "cell_type": "code",
      "metadata": {
        "id": "-mSscDGeUdj7",
        "outputId": "01036606-1841-4f92-a7bf-663da1cfaa24",
        "colab": {
          "base_uri": "https://localhost:8080/"
        }
      },
      "source": [
        "casa = float(input('Qual o valor da casa ? : R$'))\n",
        "sal = float(input('Qual o salario do comprador?:R$ '))\n",
        "anos = int(input('Em quanto anos ele vai pagar a casa ?: '))\n",
        "prestação = casa / (anos*12)\n",
        "minimo = sal * 30/100\n",
        "print('Para pagar uma casa de R$ {:.2f} em {} ano '.format(casa,anos),end='')\n",
        "print('A prestação sera de R$ {:.2f}'.format(prestação))\n",
        "if prestação <=minimo:\n",
        "  print('Emprestimo pode ser concedido !')\n",
        "else:\n",
        "  print('Emprestimo Negado!')"
      ],
      "execution_count": 7,
      "outputs": [
        {
          "output_type": "stream",
          "text": [
            "Qual o valor da casa ? : R$12000.000\n",
            "Qual o salario do comprador?:R$ 1000\n",
            "Em quanto anos ele vai pagar a casa ?: 5\n",
            "Para pagar uma casa de R$ 12000.00 em 5 ano A prestação sera de R$ 200.00\n",
            "Emprestimo pode ser concedido !\n"
          ],
          "name": "stdout"
        }
      ]
    },
    {
      "cell_type": "code",
      "metadata": {
        "id": "PhVBYFpYd6FK"
      },
      "source": [
        ""
      ],
      "execution_count": null,
      "outputs": []
    }
  ]
}