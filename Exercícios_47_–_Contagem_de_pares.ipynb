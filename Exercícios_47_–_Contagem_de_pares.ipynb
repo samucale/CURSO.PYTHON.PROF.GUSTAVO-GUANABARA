{
  "nbformat": 4,
  "nbformat_minor": 0,
  "metadata": {
    "colab": {
      "name": "Exercícios 47 – Contagem de pares",
      "provenance": [],
      "authorship_tag": "ABX9TyOK8Z6cFO5bf/hQKa7ykcVO",
      "include_colab_link": true
    },
    "kernelspec": {
      "name": "python3",
      "display_name": "Python 3"
    },
    "language_info": {
      "name": "python"
    }
  },
  "cells": [
    {
      "cell_type": "markdown",
      "metadata": {
        "id": "view-in-github",
        "colab_type": "text"
      },
      "source": [
        "<a href=\"https://colab.research.google.com/github/samucale/Curso_em_Video/blob/main/Exerc%C3%ADcios_47_%E2%80%93_Contagem_de_pares.ipynb\" target=\"_parent\"><img src=\"https://colab.research.google.com/assets/colab-badge.svg\" alt=\"Open In Colab\"/></a>"
      ]
    },
    {
      "cell_type": "markdown",
      "metadata": {
        "id": "yQ3vDITVbvz7"
      },
      "source": [
        "*Crie um programa que mostre na tela todos os números pares que estão no intervalo entre 1 e 50.*"
      ]
    },
    {
      "cell_type": "code",
      "metadata": {
        "colab": {
          "base_uri": "https://localhost:8080/"
        },
        "id": "lrZow80zbOa_",
        "outputId": "908e79c3-2274-4dc7-d609-e9285782cebc"
      },
      "source": [
        "for n in range (2,51,2):\n",
        "    print(n,end=' ')\n",
        "print ('Acabou')"
      ],
      "execution_count": 10,
      "outputs": [
        {
          "output_type": "stream",
          "text": [
            "2 4 6 8 10 12 14 16 18 20 22 24 26 28 30 32 34 36 38 40 42 44 46 48 50 Acabou\n"
          ],
          "name": "stdout"
        }
      ]
    },
    {
      "cell_type": "markdown",
      "metadata": {
        "id": "HeHNPWn5bvWK"
      },
      "source": [
        ""
      ]
    }
  ]
}