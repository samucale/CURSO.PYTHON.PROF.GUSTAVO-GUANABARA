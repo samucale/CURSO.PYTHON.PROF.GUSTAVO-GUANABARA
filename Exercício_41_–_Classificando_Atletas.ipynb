{
  "nbformat": 4,
  "nbformat_minor": 0,
  "metadata": {
    "colab": {
      "name": "Exercício 41 – Classificando Atletas",
      "provenance": [],
      "authorship_tag": "ABX9TyOZZ+SqjCTXJLCpuiJs7fnl",
      "include_colab_link": true
    },
    "kernelspec": {
      "name": "python3",
      "display_name": "Python 3",
      "language": "python"
    },
    "language_info": {
      "name": "python",
      "version": "3.8.5-final"
    }
  },
  "cells": [
    {
      "cell_type": "markdown",
      "metadata": {
        "id": "view-in-github",
        "colab_type": "text"
      },
      "source": [
        "<a href=\"https://colab.research.google.com/github/samucale/Curso-em-vd-Python/blob/main/Exerc%C3%ADcio_41_%E2%80%93_Classificando_Atletas.ipynb\" target=\"_parent\"><img src=\"https://colab.research.google.com/assets/colab-badge.svg\" alt=\"Open In Colab\"/></a>"
      ]
    },
    {
      "cell_type": "markdown",
      "metadata": {
        "id": "bbb1-H2ejnTW"
      },
      "source": [
        "*Exercício Python 041: A Confederação Nacional de Natação precisa de um programa que leia o ano de nascimento de um atleta e mostre sua categoria, de acordo com a idade:\n",
        "\n",
        "– Até 9 anos: MIRIM\n",
        "\n",
        "– Até 14 anos: INFANTIL\n",
        "\n",
        "– Até 19 anos: JÚNIOR\n",
        "\n",
        "– Até 25 anos: SÊNIOR\n",
        "\n",
        "– Acima de 25 anos: MASTER*"
      ]
    },
    {
      "cell_type": "code",
      "metadata": {
        "colab": {
          "base_uri": "https://localhost:8080/"
        },
        "id": "udp1D6exjj3X",
        "outputId": "b9ee5fef-2d9d-4957-c66f-be2e49a0b8c8"
      },
      "source": [
        "from datetime import date\n",
        "atual = date.today().year\n",
        "nascimento = int(input('Ano de nascimento: '))\n",
        "idade = atual - nascimento\n",
        "print ('O atleta tem {} anos.'.format(idade))\n",
        "if idade <= 9:\n",
        "  print ('Classificacão : MIRIM')\n",
        "elif idade <= 14:\n",
        "  print ('Classificação : INFANTIL')\n",
        "elif idade <= 19:\n",
        "  print ('Classificação: JUNIOR')\n",
        "elif idade <= 25: \n",
        "  print ('Classificação : SENIOR')\n",
        "else :\n",
        "  print ('Classificação MASTER')\n",
        "\n",
        "\n",
        "\n",
        "\n"
      ],
      "execution_count": 2,
      "outputs": [
        {
          "output_type": "stream",
          "text": [
            "Ano de nascimento: 2016\n",
            "O atleta tem 5 anos.\n",
            "Classificacão : MIRIM\n"
          ],
          "name": "stdout"
        }
      ]
    },
    {
      "cell_type": "code",
      "execution_count": 3,
      "metadata": {},
      "outputs": [],
      "source": [
        "from datetime import date"
      ]
    },
    {
      "cell_type": "code",
      "metadata": {
        "id": "p-V4smVanPAl"
      },
      "source": [
        "\n",
        "atual = date.today().year\n",
        "nascimento = int(input('Ano da de nascimento:'))\n",
        "idade = atual - nascimento\n",
        "print('O atleta tem {} anos.'.format(idade))\n",
        "if  idade <= 9:\n",
        "    print ('Classificação Mirim ')\n",
        "elif idade <= 14:\n",
        "    print ('Classificação Junior')\n",
        "elif idade <= 25 : \n",
        "    print ('Classificação Senior')\n",
        "else : \n",
        "    print ('Classificação Master')\n",
        "\n"
      ],
      "execution_count": 4,
      "outputs": [
        {
          "output_type": "error",
          "ename": "ValueError",
          "evalue": "invalid literal for int() with base 10: ''",
          "traceback": [
            "\u001b[1;31m---------------------------------------------------------------------------\u001b[0m",
            "\u001b[1;31mValueError\u001b[0m                                Traceback (most recent call last)",
            "\u001b[1;32m<ipython-input-4-f3db015ba1d7>\u001b[0m in \u001b[0;36m<module>\u001b[1;34m\u001b[0m\n\u001b[0;32m      1\u001b[0m \u001b[0matual\u001b[0m \u001b[1;33m=\u001b[0m \u001b[0mdate\u001b[0m\u001b[1;33m.\u001b[0m\u001b[0mtoday\u001b[0m\u001b[1;33m(\u001b[0m\u001b[1;33m)\u001b[0m\u001b[1;33m.\u001b[0m\u001b[0myear\u001b[0m\u001b[1;33m\u001b[0m\u001b[1;33m\u001b[0m\u001b[0m\n\u001b[1;32m----> 2\u001b[1;33m \u001b[0mnascimento\u001b[0m \u001b[1;33m=\u001b[0m \u001b[0mint\u001b[0m\u001b[1;33m(\u001b[0m\u001b[0minput\u001b[0m\u001b[1;33m(\u001b[0m\u001b[1;34m'Ano da de nascimento:'\u001b[0m\u001b[1;33m)\u001b[0m\u001b[1;33m)\u001b[0m\u001b[1;33m\u001b[0m\u001b[1;33m\u001b[0m\u001b[0m\n\u001b[0m\u001b[0;32m      3\u001b[0m \u001b[0midade\u001b[0m \u001b[1;33m=\u001b[0m \u001b[0matual\u001b[0m \u001b[1;33m-\u001b[0m \u001b[0mnascimento\u001b[0m\u001b[1;33m\u001b[0m\u001b[1;33m\u001b[0m\u001b[0m\n\u001b[0;32m      4\u001b[0m \u001b[0mprint\u001b[0m\u001b[1;33m(\u001b[0m\u001b[1;34m'O atleta tem {} anos.'\u001b[0m\u001b[1;33m.\u001b[0m\u001b[0mformat\u001b[0m\u001b[1;33m(\u001b[0m\u001b[0midade\u001b[0m\u001b[1;33m)\u001b[0m\u001b[1;33m)\u001b[0m\u001b[1;33m\u001b[0m\u001b[1;33m\u001b[0m\u001b[0m\n\u001b[0;32m      5\u001b[0m \u001b[1;32mif\u001b[0m  \u001b[0midade\u001b[0m \u001b[1;33m<=\u001b[0m \u001b[1;36m9\u001b[0m\u001b[1;33m:\u001b[0m\u001b[1;33m\u001b[0m\u001b[1;33m\u001b[0m\u001b[0m\n",
            "\u001b[1;31mValueError\u001b[0m: invalid literal for int() with base 10: ''"
          ]
        }
      ]
    },
    {
      "cell_type": "code",
      "execution_count": 6,
      "metadata": {},
      "outputs": [
        {
          "output_type": "stream",
          "name": "stdout",
          "text": [
            "O atleta tem 5 anos\nClassificação Mirim\n"
          ]
        }
      ],
      "source": [
        "atual  = date.today().year\n",
        "nascimento =int(input('Ano de nascimento'))\n",
        "idade = atual - nascimento\n",
        "print ('O atleta tem {} anos'.format(idade))\n",
        "if idade <= 9 :\n",
        "    print('Classificação Mirim')\n",
        "elif idade <= 14 : \n",
        "    print ('Classificação Infantil')\n",
        "elif idade <= 19 :\n",
        "    print ('Classificação Junior') \n",
        "elif idade <= 25 :\n",
        "    print ('Classificação Senior')\n",
        "else :\n",
        "    print ('Classificação Master')\n",
        "\n",
        "\n",
        "\n",
        "\n"
      ]
    },
    {
      "cell_type": "code",
      "execution_count": null,
      "metadata": {},
      "outputs": [],
      "source": [
        "from date import date \n"
      ]
    },
    {
      "cell_type": "code",
      "execution_count": 11,
      "metadata": {},
      "outputs": [
        {
          "output_type": "stream",
          "name": "stdout",
          "text": [
            "A idade do atleta é de  39\nClassificação Master\n"
          ]
        }
      ],
      "source": [
        "atual = date.today().year\n",
        "nascimento = int(input('Digite seu ano de nascimento'))\n",
        "idade = atual - nascimento\n",
        "print ('A idade do atleta é de  {}'.format(idade))\n",
        "if idade <= 9 : \n",
        "    print ('Classificação Mirim')\n",
        "elif idade <= 14  : \n",
        "    print ( 'Classificação infantil') \n",
        "elif idade <= 19 : \n",
        "    print ('Classificação Infantil')\n",
        "elif idade <= 25  : \n",
        "    print ('Classificação Senior')\n",
        "else : \n",
        "    print ('Classificação Master')               "
      ]
    },
    {
      "cell_type": "code",
      "execution_count": 13,
      "metadata": {},
      "outputs": [],
      "source": [
        "from datetime import date"
      ]
    },
    {
      "source": [
        "– Até 9 anos: MIRIM\n",
        "\n",
        "– Até 14 anos: INFANTIL\n",
        "\n",
        "– Até 19 anos: JÚNIOR\n",
        "\n",
        "– Até 25 anos: SÊNIOR\n",
        "\n",
        "– Acima de 25 anos: MASTER*"
      ],
      "cell_type": "markdown",
      "metadata": {}
    },
    {
      "cell_type": "code",
      "execution_count": 15,
      "metadata": {},
      "outputs": [
        {
          "output_type": "stream",
          "name": "stdout",
          "text": [
            "A idade do atleta é de 39 anos \nClassificação Master\n"
          ]
        }
      ],
      "source": [
        "atual = date.today().year\n",
        "nasc = int(input('Nascimento'))\n",
        "idade = atual - nasc\n",
        "print ('A idade do atleta é de {} anos '.format(idade))\n",
        "if idade <= 9 : \n",
        "    print ('Classificação Mirim'),\n",
        "elif idade <= 14 : \n",
        "    print ('Classificação infantil')\n",
        "elif idade <= 25 :\n",
        "    print('Classificação Masrter')\n",
        "else : \n",
        "    print('Classificação Master')\n",
        "                \n",
        "\n"
      ]
    },
    {
      "cell_type": "code",
      "execution_count": null,
      "metadata": {},
      "outputs": [],
      "source": []
    }
  ]
}