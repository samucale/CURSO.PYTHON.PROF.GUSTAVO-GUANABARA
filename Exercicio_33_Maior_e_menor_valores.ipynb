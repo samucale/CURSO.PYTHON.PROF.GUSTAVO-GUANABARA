{
  "nbformat": 4,
  "nbformat_minor": 0,
  "metadata": {
    "colab": {
      "name": "Exercicio 33 - Maior e menor valores ",
      "provenance": [],
      "authorship_tag": "ABX9TyMV4jQQr0yUZSTEIzwFvT43",
      "include_colab_link": true
    },
    "kernelspec": {
      "name": "python3",
      "display_name": "Python 3"
    }
  },
  "cells": [
    {
      "cell_type": "markdown",
      "metadata": {
        "id": "view-in-github",
        "colab_type": "text"
      },
      "source": [
        "<a href=\"https://colab.research.google.com/github/samucale/Curso-em-vd-Python/blob/main/Exercicio_33_Maior_e_menor_valores.ipynb\" target=\"_parent\"><img src=\"https://colab.research.google.com/assets/colab-badge.svg\" alt=\"Open In Colab\"/></a>"
      ]
    },
    {
      "cell_type": "markdown",
      "metadata": {
        "id": "V1AEk25Ga1o1"
      },
      "source": [
        "*FAÇA UM PROGRAMA QUE LEIA TRES NUMEROS E MOSTRE QUAL E O MAIOR E QUAL E O MENOR*"
      ]
    },
    {
      "cell_type": "code",
      "metadata": {
        "id": "yb56VGZkbLPZ",
        "outputId": "0e3945ee-8887-4fc0-ca61-1268a4ba3a38",
        "colab": {
          "base_uri": "https://localhost:8080/"
        }
      },
      "source": [
        "a = int(input('primeiro valor : '))\n",
        "b = int(input('segundo valor : '))\n",
        "c = int(input('terceiro valor : '))\n",
        "menor=a \n",
        "if b<a and b<c : \n",
        "    menor = b\n",
        "if c<a and c<b:\n",
        "    menor = c  \n",
        "# veru=ificando quem é o maior    \n",
        "maior = a \n",
        "if b>a and b>c :\n",
        "  maior = b\n",
        "if c>a and c> b : \n",
        "  maior = c   \n",
        "print('O menor valor digitado foi {}'.format(menor))  \n",
        "print ('O mario valor digitado foi {}'.format(maior))\n"
      ],
      "execution_count": 5,
      "outputs": [
        {
          "output_type": "stream",
          "text": [
            "primeiro valor : 10\n",
            "segundo valor : 5\n",
            "terceiro valor : 30\n",
            "O menor valor digitado foi 5\n",
            "O mario valor digitado foi 30\n"
          ],
          "name": "stdout"
        }
      ]
    },
    {
      "cell_type": "code",
      "metadata": {
        "id": "S3Tsij6E8WYK"
      },
      "source": [
        ""
      ],
      "execution_count": null,
      "outputs": []
    }
  ]
}