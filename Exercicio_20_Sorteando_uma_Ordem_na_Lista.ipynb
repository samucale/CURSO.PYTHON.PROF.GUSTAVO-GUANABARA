{
  "nbformat": 4,
  "nbformat_minor": 0,
  "metadata": {
    "colab": {
      "name": "Exercicio 20 - Sorteando uma Ordem na Lista",
      "provenance": [],
      "include_colab_link": true
    },
    "kernelspec": {
      "name": "python3",
      "display_name": "Python 3"
    }
  },
  "cells": [
    {
      "cell_type": "markdown",
      "metadata": {
        "id": "view-in-github",
        "colab_type": "text"
      },
      "source": [
        "<a href=\"https://colab.research.google.com/github/samucale/CURSO.PYTHON.PROF.GUSTAVO-GUANABARA/blob/main/Exercicio_20_Sorteando_uma_Ordem_na_Lista.ipynb\" target=\"_parent\"><img src=\"https://colab.research.google.com/assets/colab-badge.svg\" alt=\"Open In Colab\"/></a>"
      ]
    },
    {
      "cell_type": "markdown",
      "metadata": {
        "id": "GBib6mCa3Dq2"
      },
      "source": [
        "*O MESMO PROFESSOR DO DESAFIO ANTERIOR QUER SORTEAR A ORDEM DE APRESENTAÇAO DE TRABALHOS DOS ALUNOS, FAÇA UM PROGRAMA QUE ALEIA O NOME DOS QUATRO ALUNOS E MOSTRE A ORDEM SORTEADA*"
      ]
    },
    {
      "cell_type": "code",
      "metadata": {
        "id": "IUBQHkwAb_2K"
      },
      "source": [
        "import random "
      ],
      "execution_count": null,
      "outputs": []
    },
    {
      "cell_type": "code",
      "metadata": {
        "id": "XGkKSeJVcPF6",
        "colab": {
          "base_uri": "https://localhost:8080/"
        },
        "outputId": "422f1281-051d-4e40-d17e-4e3103c31182"
      },
      "source": [
        "n1 = input ('Digite o nome do aluno: ')\r\n",
        "n2 = input ('Digite o nome do aluno: ')\r\n",
        "n3 = input ('Digite o nome do aluno: ')\r\n",
        "n4 = input ('Digite o nome do aluno: ')\r\n",
        "lista = [n1,n2,n3,n4]\r\n",
        "random.shuffle(lista)\r\n",
        "print('A ordem de apresentaçao sera ')\r\n",
        "print(lista)\r\n"
      ],
      "execution_count": null,
      "outputs": [
        {
          "output_type": "stream",
          "text": [
            "Digite o nome do aluno: fe\n",
            "Digite o nome do aluno: ana\n",
            "Digite o nome do aluno: carla\n",
            "Digite o nome do aluno: anto\n",
            "A ordem de apresentaçao sera \n",
            "['ana', 'fe', 'carla', 'anto']\n"
          ],
          "name": "stdout"
        }
      ]
    },
    {
      "cell_type": "code",
      "metadata": {
        "id": "HiTHoImq5_Z7"
      },
      "source": [
        "import random"
      ],
      "execution_count": 1,
      "outputs": []
    },
    {
      "cell_type": "code",
      "metadata": {
        "id": "O26ADCM16Gk6",
        "outputId": "39708bab-d496-49b6-d6c4-8e8a3d25cda7",
        "colab": {
          "base_uri": "https://localhost:8080/"
        }
      },
      "source": [
        "n1 =input('Digite o nome do aluno: ')\r\n",
        "n2 =input('Digite o nome do aluno: ')\r\n",
        "n3 =input('Digite o nome do aluno: ')\r\n",
        "n4 =input('Digite o nome do aluno: ')\r\n",
        "lista=[n1,n2,n3,n4]\r\n",
        "ordem = random.shuffle(lista)\r\n",
        "print('A ordem de apresentaçao sera')\r\n",
        "print(lista)"
      ],
      "execution_count": 4,
      "outputs": [
        {
          "output_type": "stream",
          "text": [
            "Digite o nome do aluno: Jose \n",
            "Digite o nome do aluno: Maria\n",
            "Digite o nome do aluno: trindade\n",
            "Digite o nome do aluno: carlos\n",
            "A ordem de apresentaçao sera\n",
            "['Jose ', 'trindade', 'carlos', 'Maria']\n"
          ],
          "name": "stdout"
        }
      ]
    },
    {
      "cell_type": "code",
      "metadata": {
        "id": "tEgda4KZ8iuf"
      },
      "source": [
        "import random\r\n"
      ],
      "execution_count": null,
      "outputs": []
    },
    {
      "cell_type": "code",
      "metadata": {
        "id": "cXvT1ybo8jgK",
        "outputId": "6ee0fe0d-877b-4059-81d1-156538d3b4fd",
        "colab": {
          "base_uri": "https://localhost:8080/"
        }
      },
      "source": [
        "aluno1 = input('Digite o nome do aluno: ')\r\n",
        "aluno2 = input('Digite o nome do aluno: ')\r\n",
        "aluno3 = input('Digite o noem do aluno: ')\r\n",
        "aluno4 = input('Digite o nome do aluno: ')\r\n",
        "lista=[aluno1,aluno2,aluno3,aluno4]\r\n",
        "random.shuffle(lista)\r\n",
        "print('A ordem de apresentaçao sera : ')\r\n",
        "print(lista)"
      ],
      "execution_count": 7,
      "outputs": [
        {
          "output_type": "stream",
          "text": [
            "Digite o nome do aluno: Jose \n",
            "Digite o nome do aluno: Marciano\n",
            "Digite o noem do aluno: jeremias\n",
            "Digite o nome do aluno: Malaquias\n",
            "A ordem de apresentaçao sera : \n",
            "['jeremias', 'Malaquias', 'Jose ', 'Marciano']\n"
          ],
          "name": "stdout"
        }
      ]
    },
    {
      "cell_type": "code",
      "metadata": {
        "id": "158BI41k8jhT"
      },
      "source": [
        ""
      ],
      "execution_count": null,
      "outputs": []
    },
    {
      "cell_type": "code",
      "metadata": {
        "id": "XOeozYU08jkz"
      },
      "source": [
        ""
      ],
      "execution_count": null,
      "outputs": []
    },
    {
      "cell_type": "code",
      "metadata": {
        "id": "L4M-mQTr8jnU"
      },
      "source": [
        ""
      ],
      "execution_count": null,
      "outputs": []
    },
    {
      "cell_type": "code",
      "metadata": {
        "id": "knU819m_8jpK"
      },
      "source": [
        ""
      ],
      "execution_count": null,
      "outputs": []
    }
  ]
}