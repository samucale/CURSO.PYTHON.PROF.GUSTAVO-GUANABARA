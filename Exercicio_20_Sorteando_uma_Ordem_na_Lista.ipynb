{
  "nbformat": 4,
  "nbformat_minor": 0,
  "metadata": {
    "colab": {
      "name": "Exercicio 20 - Sorteando uma Ordem na Lista",
      "provenance": [],
      "include_colab_link": true
    },
    "kernelspec": {
      "name": "python3",
      "display_name": "Python 3"
    }
  },
  "cells": [
    {
      "cell_type": "markdown",
      "metadata": {
        "id": "view-in-github",
        "colab_type": "text"
      },
      "source": [
        "<a href=\"https://colab.research.google.com/github/samucale/CURSO.PYTHON.PROF.GUSTAVO-GUANABARA/blob/main/Exercicio_20_Sorteando_uma_Ordem_na_Lista.ipynb\" target=\"_parent\"><img src=\"https://colab.research.google.com/assets/colab-badge.svg\" alt=\"Open In Colab\"/></a>"
      ]
    },
    {
      "cell_type": "markdown",
      "metadata": {
        "id": "GBib6mCa3Dq2"
      },
      "source": [
        "*O MESMO PROFESSOR DO DESAFIO ANTERIOR QUER SORTEAR A ORDEM DE APRESENTAÇAO DE TRABALHOS DOS ALUNOS, FAÇA UM PROGRAMA QUE ALEIA O NOME DOS QUATRO ALUNOS E MOSTRE A ORDEM SORTEADA*"
      ]
    },
    {
      "cell_type": "code",
      "metadata": {
        "id": "IUBQHkwAb_2K"
      },
      "source": [
        "import random "
      ],
      "execution_count": 3,
      "outputs": []
    },
    {
      "cell_type": "code",
      "metadata": {
        "id": "XGkKSeJVcPF6",
        "outputId": "422f1281-051d-4e40-d17e-4e3103c31182",
        "colab": {
          "base_uri": "https://localhost:8080/"
        }
      },
      "source": [
        "n1 = input ('Digite o nome do aluno: ')\r\n",
        "n2 = input ('Digite o nome do aluno: ')\r\n",
        "n3 = input ('Digite o nome do aluno: ')\r\n",
        "n4 = input ('Digite o nome do aluno: ')\r\n",
        "lista = [n1,n2,n3,n4]\r\n",
        "random.shuffle(lista)\r\n",
        "print('A ordem de apresentaçao sera ')\r\n",
        "print(lista)\r\n"
      ],
      "execution_count": 5,
      "outputs": [
        {
          "output_type": "stream",
          "text": [
            "Digite o nome do aluno: fe\n",
            "Digite o nome do aluno: ana\n",
            "Digite o nome do aluno: carla\n",
            "Digite o nome do aluno: anto\n",
            "A ordem de apresentaçao sera \n",
            "['ana', 'fe', 'carla', 'anto']\n"
          ],
          "name": "stdout"
        }
      ]
    },
    {
      "cell_type": "markdown",
      "metadata": {
        "id": "9JrvwIfN3Ajm"
      },
      "source": [
        ""
      ]
    }
  ]
}