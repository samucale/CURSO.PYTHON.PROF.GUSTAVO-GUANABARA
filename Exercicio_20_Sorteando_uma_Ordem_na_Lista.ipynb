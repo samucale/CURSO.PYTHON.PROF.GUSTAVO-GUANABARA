{
  "nbformat": 4,
  "nbformat_minor": 0,
  "metadata": {
    "colab": {
      "name": "Exercicio 20 - Sorteando uma Ordem na Lista",
      "provenance": [],
      "authorship_tag": "ABX9TyMW0HLK2dXMJ8pVvJL3J2ip",
      "include_colab_link": true
    },
    "kernelspec": {
      "name": "python3",
      "display_name": "Python 3"
    }
  },
  "cells": [
    {
      "cell_type": "markdown",
      "metadata": {
        "id": "view-in-github",
        "colab_type": "text"
      },
      "source": [
        "<a href=\"https://colab.research.google.com/github/samucale/CURSO.PYTHON.PROF.GUSTAVO-GUANABARA/blob/main/Exercicio_20_Sorteando_uma_Ordem_na_Lista.ipynb\" target=\"_parent\"><img src=\"https://colab.research.google.com/assets/colab-badge.svg\" alt=\"Open In Colab\"/></a>"
      ]
    },
    {
      "cell_type": "markdown",
      "metadata": {
        "id": "GBib6mCa3Dq2"
      },
      "source": [
        "*O MESMO PROFESSOR DO DESAFIO ANTERIOR QUER SORTEAR A ORDEM DE APRESENTAÇAO DE TRABALHOS DOS ALUNOS, FAÇA UM PROGRAMA QUE ALEIA O NOME DOS QUATRO ALUNOS E MOSTRE A ORDEM SORTEADA*"
      ]
    },
    {
      "cell_type": "markdown",
      "metadata": {
        "id": "9JrvwIfN3Ajm"
      },
      "source": [
        ""
      ]
    }
  ]
}