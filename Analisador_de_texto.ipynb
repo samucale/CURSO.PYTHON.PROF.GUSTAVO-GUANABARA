{
  "nbformat": 4,
  "nbformat_minor": 0,
  "metadata": {
    "colab": {
      "name": "Analisador de texto ",
      "provenance": [],
      "authorship_tag": "ABX9TyM9d8Has5Qtw6Xq2iQYnTgL",
      "include_colab_link": true
    },
    "kernelspec": {
      "name": "python3",
      "display_name": "Python 3"
    }
  },
  "cells": [
    {
      "cell_type": "markdown",
      "metadata": {
        "id": "view-in-github",
        "colab_type": "text"
      },
      "source": [
        "<a href=\"https://colab.research.google.com/github/samucale/CURSO.PYTHON.PROF.GUSTAVO-GUANABARA/blob/main/Analisador_de_texto.ipynb\" target=\"_parent\"><img src=\"https://colab.research.google.com/assets/colab-badge.svg\" alt=\"Open In Colab\"/></a>"
      ]
    },
    {
      "cell_type": "markdown",
      "metadata": {
        "id": "y0mw0sksVN1e"
      },
      "source": [
        "**CRIE UM PROGRAMA QUE LEIA O NOME COMPLETO DE UMA PESSOA E MOSTRE :**\r\n",
        "\r\n",
        "\r\n",
        "* O NOME COM TODAS AS LETRAE MAIUSCULAS.\r\n",
        "* QUANTAS LETRAS AO TODO (SEM CONSIDERAR ESPAÇOS )\r\n",
        "\r\n",
        "\r\n",
        "*   QUANTAS LETRAS TEM O PRIMEIRO NOME \r\n",
        "\r\n",
        "\r\n",
        "\r\n",
        "\r\n"
      ]
    },
    {
      "cell_type": "markdown",
      "metadata": {
        "id": "Gpghnv0wVMwJ"
      },
      "source": [
        ""
      ]
    }
  ]
}