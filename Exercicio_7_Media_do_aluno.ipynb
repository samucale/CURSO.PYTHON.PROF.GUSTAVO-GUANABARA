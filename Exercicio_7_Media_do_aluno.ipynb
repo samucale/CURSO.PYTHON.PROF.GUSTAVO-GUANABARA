{
  "nbformat": 4,
  "nbformat_minor": 0,
  "metadata": {
    "colab": {
      "name": "Exercicio_7_Media_do_aluno.ipynb",
      "provenance": [],
      "collapsed_sections": [],
      "include_colab_link": true
    },
    "kernelspec": {
      "name": "python3",
      "display_name": "Python 3",
      "language": "python"
    }
  },
  "cells": [
    {
      "cell_type": "code",
      "metadata": {
        "id": "x8EV9K7rkcjh",
        "colab": {
          "base_uri": "https://localhost:8080/"
        },
        "outputId": "304a9d48-5439-4a12-9815-a8b5a07f20f7"
      },
      "source": [
        "n1 = float(input('Digite a nota: '))\n",
        "n2 = float(input('digite a nota: '))\n",
        "média= (n1 + n2)/2\n",
        "print ('A média entre {} e {} é igual a {}'.format(n1,n2,média))\n"
      ],
      "execution_count": 1,
      "outputs": [
        {
          "output_type": "stream",
          "name": "stdout",
          "text": [
            "A média entre 10.0 e 10.0 é igual a 10.0\n"
          ]
        }
      ]
    },
    {
      "cell_type": "code",
      "metadata": {
        "colab": {
          "base_uri": "https://localhost:8080/"
        },
        "id": "0AYnbshJOk5j",
        "outputId": "776079f0-8de3-4100-e40f-da8d386cdb50"
      },
      "source": [
        "n1 = float(input('Digite a primeira nota : '))\r\n",
        "n2 = float(input('Digite a segunda nota : '))\r\n",
        "Média = (n1 + n2)/2 \r\n",
        "print ('A media entre {:.1f} e {:.1f} é igual a {:.1f}'.format (n1,n2,Média))"
      ],
      "execution_count": 7,
      "outputs": [
        {
          "output_type": "stream",
          "text": [
            "Digite a primeira nota : 8.2\n",
            "Digite a segunda nota : 2.5\n",
            "A media entre 8.2 e 2.5 é igual a 5.3\n"
          ],
          "name": "stdout"
        }
      ]
    },
    {
      "cell_type": "code",
      "metadata": {
        "id": "WNnJxRQIPgVv"
      },
      "source": [],
      "execution_count": null,
      "outputs": []
    }
  ]
}