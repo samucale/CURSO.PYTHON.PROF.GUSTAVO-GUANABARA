{
  "nbformat": 4,
  "nbformat_minor": 0,
  "metadata": {
    "colab": {
      "name": "Exercicio 26 - Primeira e Ultima ocorrencia de uma string",
      "provenance": [],
      "authorship_tag": "ABX9TyMlFqEydNWdpX9ucIDCummn",
      "include_colab_link": true
    },
    "kernelspec": {
      "name": "python3",
      "display_name": "Python 3"
    }
  },
  "cells": [
    {
      "cell_type": "markdown",
      "metadata": {
        "id": "view-in-github",
        "colab_type": "text"
      },
      "source": [
        "<a href=\"https://colab.research.google.com/github/samucale/CURSO.PYTHON.PROF.GUSTAVO-GUANABARA/blob/main/Exercicio_26_Primeira_e_Ultima_ocorrencia_de_uma_string.ipynb\" target=\"_parent\"><img src=\"https://colab.research.google.com/assets/colab-badge.svg\" alt=\"Open In Colab\"/></a>"
      ]
    },
    {
      "cell_type": "markdown",
      "metadata": {
        "id": "2Lr3GqlXa7X6"
      },
      "source": [
        "*FAÇA UM PRGRAMA QUE LEIA UMA FRASE PELO TECLADO E MOSTRE QUANTAS VEZES APARECE A LETRA 'A', EM QUE POSIÇAO ELA APARECE A PRIMEIRA VEZ E EM QUE POSIÇAO ELA APARECE A ULTIMA VEZ.*"
      ]
    },
    {
      "cell_type": "code",
      "metadata": {
        "id": "IN7QtAzkaqmg"
      },
      "source": [
        ""
      ],
      "execution_count": null,
      "outputs": []
    }
  ]
}