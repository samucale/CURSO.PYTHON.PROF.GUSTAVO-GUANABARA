{
  "nbformat": 4,
  "nbformat_minor": 0,
  "metadata": {
    "colab": {
      "name": "Exercicio 26 - Primeira e Ultima ocorrencia de uma string",
      "provenance": [],
      "include_colab_link": true
    },
    "kernelspec": {
      "name": "python3",
      "display_name": "Python 3"
    }
  },
  "cells": [
    {
      "cell_type": "markdown",
      "metadata": {
        "id": "view-in-github",
        "colab_type": "text"
      },
      "source": [
        "<a href=\"https://colab.research.google.com/github/samucale/CURSO.PYTHON.PROF.GUSTAVO-GUANABARA/blob/main/Exercicio_26_Primeira_e_Ultima_ocorrencia_de_uma_string.ipynb\" target=\"_parent\"><img src=\"https://colab.research.google.com/assets/colab-badge.svg\" alt=\"Open In Colab\"/></a>"
      ]
    },
    {
      "cell_type": "markdown",
      "metadata": {
        "id": "2Lr3GqlXa7X6"
      },
      "source": [
        "*FAÇA UM PRGRAMA QUE LEIA UMA FRASE PELO TECLADO E MOSTRE QUANTAS VEZES APARECE A LETRA 'A', EM QUE POSIÇAO ELA APARECE A PRIMEIRA VEZ E EM QUE POSIÇAO ELA APARECE A ULTIMA VEZ.*"
      ]
    },
    {
      "cell_type": "code",
      "metadata": {
        "id": "IN7QtAzkaqmg",
        "outputId": "e3d9d1a5-4e4c-4760-b6b2-9d0e4f4802d0",
        "colab": {
          "base_uri": "https://localhost:8080/"
        }
      },
      "source": [
        "frase = str(input('Faca um programa que leia a frase: ')).upper().strip()\r\n",
        "print ('A letra A aparece {} vezes na frase'.format(frase.count('A')))\r\n",
        "print ('A primeira letra A apareceu na posiçao {}'.format(frase.find('A')+1))\r\n",
        "print ('A ultima letra A apareceu na posiçao {}'.format(frase.rfind('A')+1))\r\n"
      ],
      "execution_count": 1,
      "outputs": [
        {
          "output_type": "stream",
          "text": [
            "Faca um programa que leia a frase: araraguara\n",
            "A letra A aparece 5 vezes na frase\n",
            "A primeira letra A apareceu na posiçao 1\n",
            "A ultima letra A apareceu na posiçao 10\n"
          ],
          "name": "stdout"
        }
      ]
    },
    {
      "cell_type": "code",
      "metadata": {
        "id": "KaH7MlO0-jxR"
      },
      "source": [
        ""
      ],
      "execution_count": null,
      "outputs": []
    }
  ]
}