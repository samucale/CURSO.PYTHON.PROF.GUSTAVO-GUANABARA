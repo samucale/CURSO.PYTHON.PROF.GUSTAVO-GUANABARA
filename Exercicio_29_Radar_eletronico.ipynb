{
  "nbformat": 4,
  "nbformat_minor": 0,
  "metadata": {
    "colab": {
      "name": "Exercicio 29 - Radar eletronico ",
      "provenance": [],
      "authorship_tag": "ABX9TyPuwbbdlcSLGxbqpkqtw379",
      "include_colab_link": true
    },
    "kernelspec": {
      "name": "python3",
      "display_name": "Python 3"
    }
  },
  "cells": [
    {
      "cell_type": "markdown",
      "metadata": {
        "id": "view-in-github",
        "colab_type": "text"
      },
      "source": [
        "<a href=\"https://colab.research.google.com/github/samucale/CURSO.PYTHON.PROF.GUSTAVO-GUANABARA/blob/main/Exercicio_29_Radar_eletronico.ipynb\" target=\"_parent\"><img src=\"https://colab.research.google.com/assets/colab-badge.svg\" alt=\"Open In Colab\"/></a>"
      ]
    },
    {
      "cell_type": "code",
      "metadata": {
        "id": "bkYzqVsyUZK3"
      },
      "source": [
        ""
      ],
      "execution_count": null,
      "outputs": []
    },
    {
      "cell_type": "markdown",
      "metadata": {
        "id": "8Hibr0E4Ujex"
      },
      "source": [
        "*ESCREVA UM PROGRAMA QUE LEIA A VELOCIDADE DE UM CARRO , SE ELE ULTRAPASSAR 80 KM / H , MOSTRE UMA MENSAGEM DIZENDO QUE ELE FOI MULTADO.A MULTA VAI CUSTAR     7,00 POR CADA KM ACIMA DO LIMITE*.  "
      ]
    },
    {
      "cell_type": "code",
      "metadata": {
        "id": "c3SnlKGaWzp1"
      },
      "source": [
        ""
      ],
      "execution_count": null,
      "outputs": []
    }
  ]
}