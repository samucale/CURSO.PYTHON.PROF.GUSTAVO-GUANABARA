{
  "nbformat": 4,
  "nbformat_minor": 0,
  "metadata": {
    "colab": {
      "name": "Exercicio 29 - Radar eletronico ",
      "provenance": [],
      "authorship_tag": "ABX9TyOzbdpjNT5Rt5gaSksH0YKm",
      "include_colab_link": true
    },
    "kernelspec": {
      "name": "python3",
      "display_name": "Python 3"
    }
  },
  "cells": [
    {
      "cell_type": "markdown",
      "metadata": {
        "id": "view-in-github",
        "colab_type": "text"
      },
      "source": [
        "<a href=\"https://colab.research.google.com/github/samucale/CURSO.PYTHON.PROF.GUSTAVO-GUANABARA/blob/main/Exercicio_29_Radar_eletronico.ipynb\" target=\"_parent\"><img src=\"https://colab.research.google.com/assets/colab-badge.svg\" alt=\"Open In Colab\"/></a>"
      ]
    },
    {
      "cell_type": "markdown",
      "metadata": {
        "id": "8Hibr0E4Ujex"
      },
      "source": [
        "*ESCREVA UM PROGRAMA QUE LEIA A VELOCIDADE DE UM CARRO , SE ELE ULTRAPASSAR 80 KM / H , MOSTRE UMA MENSAGEM DIZENDO QUE ELE FOI MULTADO.A MULTA VAI CUSTAR     7,00 POR CADA KM ACIMA DO LIMITE*.  "
      ]
    },
    {
      "cell_type": "code",
      "metadata": {
        "id": "c3SnlKGaWzp1",
        "outputId": "87c71398-9217-4ffe-fa7b-70bd4d387234",
        "colab": {
          "base_uri": "https://localhost:8080/"
        }
      },
      "source": [
        "#CONDIÇÃO SIMPLES#\r\n",
        "velocidade=float(input('Qual é a velocidade atual do carro? '))\r\n",
        "if velocidade > 80:\r\n",
        "  print('MULTADO! você execedeu a velocidade permitida que é de 80km/h')\r\n",
        "  multa= (velocidade-80 )*7\r\n",
        "  print('Voce deve pagar uma multa de R${:.2F}!'.format(multa))\r\n",
        "print('tenha um bom dia !Dirija com segurança!')  \r\n",
        "\r\n",
        "\r\n",
        "\r\n",
        "\r\n",
        " "
      ],
      "execution_count": 13,
      "outputs": [
        {
          "output_type": "stream",
          "text": [
            "Qual é a velocidade atual do carro? 100\n",
            "MULTADO! você execedeu a velocidade permitida que é de 80km/h\n",
            "Voce deve pagar uma multa de R$140.00!\n",
            "tenha um bom dia !Dirija com segurança!\n"
          ],
          "name": "stdout"
        }
      ]
    },
    {
      "cell_type": "code",
      "metadata": {
        "id": "aCn4jfziQ5WD"
      },
      "source": [
        ""
      ],
      "execution_count": 9,
      "outputs": []
    }
  ]
}