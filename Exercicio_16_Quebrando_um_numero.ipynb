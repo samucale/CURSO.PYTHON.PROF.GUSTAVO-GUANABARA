{
  "nbformat": 4,
  "nbformat_minor": 0,
  "metadata": {
    "colab": {
      "name": "Exercicio 16 - Quebrando um numero ",
      "provenance": [],
      "include_colab_link": true
    },
    "kernelspec": {
      "name": "python3",
      "display_name": "Python 3"
    }
  },
  "cells": [
    {
      "cell_type": "markdown",
      "metadata": {
        "id": "view-in-github",
        "colab_type": "text"
      },
      "source": [
        "<a href=\"https://colab.research.google.com/github/samucale/CURSO.PYTHON.PROF.GUSTAVO-GUANABARA/blob/main/Exercicio_16_Quebrando_um_numero.ipynb\" target=\"_parent\"><img src=\"https://colab.research.google.com/assets/colab-badge.svg\" alt=\"Open In Colab\"/></a>"
      ]
    },
    {
      "cell_type": "markdown",
      "metadata": {
        "id": "e-_FtYenzSPH"
      },
      "source": [
        "*CRIE UM PROGRAMA QUE LEIA UM NUMERO REAL QUALQUER PELO TECLADO E MOSTRE NA TELA A SUA PORÇAO INTEIRA*"
      ]
    },
    {
      "cell_type": "markdown",
      "metadata": {
        "id": "ljKM1zFqIF6Q"
      },
      "source": [
        "**COM IMPORTAÇAO DA BIBLIOTECA MATH**"
      ]
    },
    {
      "cell_type": "code",
      "metadata": {
        "id": "XeCcyFDGISb9"
      },
      "source": [
        "import math"
      ],
      "execution_count": 2,
      "outputs": []
    },
    {
      "cell_type": "code",
      "metadata": {
        "id": "No0P4k68IVjX",
        "outputId": "0a163ab5-8891-45c6-868a-df9d090a57ed",
        "colab": {
          "base_uri": "https://localhost:8080/"
        }
      },
      "source": [
        "num = float(input('Digite um valor:'))\r\n",
        "print('O valor digitado foi {} e sua porçao inteira e de {}'.format(num,math.trunc(num)))"
      ],
      "execution_count": 6,
      "outputs": [
        {
          "output_type": "stream",
          "text": [
            "Digite um valor:3.124\n",
            "O valor digitado foi 3.124 e sua porçao inteira e de 3\n"
          ],
          "name": "stdout"
        }
      ]
    },
    {
      "cell_type": "markdown",
      "metadata": {
        "id": "30k2RaAFJJUF"
      },
      "source": [
        "IMPORTANDO APENAS A BIBLIOTECA ESPECIFICA "
      ]
    },
    {
      "cell_type": "code",
      "metadata": {
        "id": "Z8mDkGAwIviH"
      },
      "source": [
        "from math import trunc"
      ],
      "execution_count": 7,
      "outputs": []
    },
    {
      "cell_type": "code",
      "metadata": {
        "id": "EWXY_vRpJncz",
        "outputId": "06262181-b1a8-4cca-c306-a253ae8b98b8",
        "colab": {
          "base_uri": "https://localhost:8080/"
        }
      },
      "source": [
        "num=float(input('Digite um numero'))\r\n",
        "print('O numero digitado foi {} e sua porçao inteira e {}'.format(num,trunc(num)))"
      ],
      "execution_count": 8,
      "outputs": [
        {
          "output_type": "stream",
          "text": [
            "Digite um numero3.124\n",
            "O numero digitado foi 3.124 e sua porçao inteira e 3\n"
          ],
          "name": "stdout"
        }
      ]
    },
    {
      "cell_type": "markdown",
      "metadata": {
        "id": "YlEGPX5uKH2W"
      },
      "source": [
        "SEM IMPORTAÇAO DE BIBLIOTECA "
      ]
    },
    {
      "cell_type": "code",
      "metadata": {
        "id": "CCv1nKtUKEQ4",
        "outputId": "57a42ab8-dde5-4e17-ca8d-9213e572e21a",
        "colab": {
          "base_uri": "https://localhost:8080/"
        }
      },
      "source": [
        "num = float(input('Digite um numero'))\r\n",
        "print ('O valor de digitado foi {} e sua porçao e {}'.format(num,int(num))) \r\n",
        "      "
      ],
      "execution_count": 9,
      "outputs": [
        {
          "output_type": "stream",
          "text": [
            "Digite um numero3.124\n",
            "O valor de digitado foi 3.124 e sua porçao e 3\n"
          ],
          "name": "stdout"
        }
      ]
    },
    {
      "cell_type": "code",
      "metadata": {
        "id": "2RJUf5mfK621"
      },
      "source": [
        ""
      ],
      "execution_count": null,
      "outputs": []
    }
  ]
}