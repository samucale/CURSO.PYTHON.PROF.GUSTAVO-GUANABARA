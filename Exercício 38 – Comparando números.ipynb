{
  "nbformat": 4,
  "nbformat_minor": 0,
  "metadata": {
    "colab": {
      "name": "Exercício  038",
      "provenance": [],
      "include_colab_link": true
    },
    "kernelspec": {
      "name": "python3",
      "display_name": "Python 3",
      "language": "python"
    },
    "language_info": {
      "name": "python",
      "version": "3.8.5-final"
    }
  },
  "cells": [
    {
      "cell_type": "markdown",
      "metadata": {
        "id": "_PV0lkjlWFXN"
      },
      "source": [
        "**Exercício Python 038: Escreva um programa que leia dois números inteiros e compare-os. mostrando na tela uma mensagem:\n",
        "\n",
        "– O primeiro valor é maior\n",
        "\n",
        "– O segundo valor é maior\n",
        "\n",
        "– Não existe valor maior, os dois são iguais**"
      ]
    },
    {
      "cell_type": "code",
      "metadata": {
        "id": "L0Ah83TKWGto",
        "outputId": "4c9f7cbb-70a6-4b6d-b8de-641336cfd162",
        "colab": {
          "base_uri": "https://localhost:8080/"
        }
      },
      "source": [
        "n1= int(input('Informe o primeiro numero : '))\n",
        "n2= int(input('Informe o segundo numero : '))\n",
        "if n1 > n2:\n",
        "  print ('O primeiro numero é maior: ')\n",
        "elif n2 > n1:\n",
        "  print ('O segundo numero é maior:')\n",
        "else:\n",
        "  print ('Os dois numeros são iguais')    \n"
      ],
      "execution_count": 10,
      "outputs": [
        {
          "output_type": "stream",
          "name": "stdout",
          "text": [
            "O primeiro numero é maior: \n"
          ]
        }
      ]
    },
    {
      "cell_type": "code",
      "metadata": {
        "id": "_HuxsgOMpLIg"
      },
      "source": [
        "n1= int(input('Informe o primeiro numero'))\n",
        "n2 =int(input('Informe o segundo numero'))\n",
        "if n1 > n2:\n",
        "    print ('o primeiro numero é maior: ')\n",
        "elif n2 > n1:\n",
        "    print ('O primeiro numero é maior: ')\n",
        "else:\n",
        "    print ('Os numeros são iguas:')\n",
        "            "
      ],
      "execution_count": 12,
      "outputs": [
        {
          "output_type": "stream",
          "name": "stdout",
          "text": [
            "Os numeros são iguas:\n"
          ]
        }
      ]
    },
    {
      "cell_type": "code",
      "execution_count": null,
      "metadata": {},
      "outputs": [],
      "source": []
    }
  ]
}